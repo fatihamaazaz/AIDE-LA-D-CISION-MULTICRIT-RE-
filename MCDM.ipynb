{
  "nbformat": 4,
  "nbformat_minor": 0,
  "metadata": {
    "colab": {
      "provenance": [],
      "collapsed_sections": [
        "2oqTACz0ZW07",
        "9IbVKKHmh-pe",
        "-1QATUlcD_Fh",
        "LzzE4cpNKatY"
      ],
      "include_colab_link": true
    },
    "kernelspec": {
      "name": "python3",
      "display_name": "Python 3"
    },
    "language_info": {
      "name": "python"
    }
  },
  "cells": [
    {
      "cell_type": "markdown",
      "metadata": {
        "id": "view-in-github",
        "colab_type": "text"
      },
      "source": [
        "<a href=\"https://colab.research.google.com/github/fatihamaazaz/Aide-a-la-decision-multicritere/blob/main/MCDM.ipynb\" target=\"_parent\"><img src=\"https://colab.research.google.com/assets/colab-badge.svg\" alt=\"Open In Colab\"/></a>"
      ]
    },
    {
      "cell_type": "markdown",
      "source": [
        "#**étude comparative des méthodes multicriteres (3 methodes) avec simulation**"
      ],
      "metadata": {
        "id": "nS1rgZVALDIK"
      }
    },
    {
      "cell_type": "markdown",
      "source": [
        "###**Implémentation des methodes**"
      ],
      "metadata": {
        "id": "rJFNvK9FLFwk"
      }
    },
    {
      "cell_type": "code",
      "source": [
        "import numpy as np\n",
        "import pandas as pd \n",
        "import math\n",
        "from numpy.linalg import norm\n",
        "from astropy.table import Table\n",
        "import matplotlib.pyplot as plt\n",
        "import scipy.stats as stats"
      ],
      "metadata": {
        "id": "28jFD_wrLhV-"
      },
      "execution_count": null,
      "outputs": []
    },
    {
      "cell_type": "markdown",
      "source": [
        "####**TOPSIS**"
      ],
      "metadata": {
        "id": "d3KMEyWPLRMF"
      }
    },
    {
      "cell_type": "markdown",
      "source": [
        "Fonction de normalisation des données"
      ],
      "metadata": {
        "id": "GaIuPpflLqDE"
      }
    },
    {
      "cell_type": "code",
      "source": [
        "def Normalize(m, n, weights):\n",
        "  # m c'est le dataframe, n c'est le nombre de criteres et \n",
        "  # weights c'est les poids associent aux criteres \n",
        "    for i in range(1, n):\n",
        "        t = 0\n",
        "        # Calculating Root of Sum of squares of a particular column\n",
        "        for j in range(len(m)):\n",
        "            t = t + m.iloc[j, i]**2\n",
        "        t = t**0.5\n",
        "        # Weighted Normalizing a element\n",
        "        for j in range(len(m)):\n",
        "            m.iat[j, i] = (m.iloc[j, i] / t)*weights[i-1]"
      ],
      "metadata": {
        "id": "349JZ8e7Lccs"
      },
      "execution_count": null,
      "outputs": []
    },
    {
      "cell_type": "markdown",
      "source": [
        "Fonction de calcul de l ideal best et l ideal worst"
      ],
      "metadata": {
        "id": "hAnHSlqcM3dE"
      }
    },
    {
      "cell_type": "code",
      "source": [
        "def Calc_Values(m, n, types):\n",
        "  # m c'est le dataframe, n c'est le nombre de criteres et \n",
        "  # types c'est l'influence des criteres (a maximiser (1) ou a minimiser (-1))\n",
        "    p_sln = (m.max().values)[1:]\n",
        "    n_sln = (m.min().values)[1:]\n",
        "    for i in range(1, n):\n",
        "        if types[i-1] == -1:\n",
        "            p_sln[i-1], n_sln[i-1] = n_sln[i-1], p_sln[i-1]\n",
        "    return p_sln, n_sln"
      ],
      "metadata": {
        "id": "apBI1kTZM7gM"
      },
      "execution_count": null,
      "outputs": []
    },
    {
      "cell_type": "markdown",
      "source": [
        "Fonction de calcul de la distance euclidienne par rapport a l ideal best et l ideal worst et TOPSIS score"
      ],
      "metadata": {
        "id": "XsXRGxvFM-oC"
      }
    },
    {
      "cell_type": "code",
      "source": [
        "def topsis_score(a,p_sln,n_sln):\n",
        "  score = [] # Topsis score\n",
        "  pp = [] # distance positive\n",
        "  nn = [] # distance negative\n",
        "  # Calculating distances and Topsis score for each row\n",
        "  for i in range(len(a)):\n",
        "      t_p, t_n = 0, 0\n",
        "      for j in range(1, a.shape[1]):\n",
        "          t_p = t_p + (p_sln[j-1] - a.iloc[i, j])**2\n",
        "          t_n = t_n + (n_sln[j-1] - a.iloc[i, j])**2\n",
        "      t_p, t_n = t_p**0.5, t_n**0.5\n",
        "      score.append(t_n/(t_p + t_n))\n",
        "      nn.append(t_n)\n",
        "      pp.append(t_p)\n",
        "    \n",
        "  # Appending new columns in dataset   \n",
        "  a['distance positive'] = pp\n",
        "  a['distance negative'] = nn\n",
        "  a['Topsis Score'] = score"
      ],
      "metadata": {
        "id": "vtnq9miUNF4g"
      },
      "execution_count": null,
      "outputs": []
    },
    {
      "cell_type": "markdown",
      "source": [
        "La fonction finale"
      ],
      "metadata": {
        "id": "DUsZq-Z-QiZ5"
      }
    },
    {
      "cell_type": "code",
      "source": [
        "def topsis(m,weights,types):\n",
        "  # m c'est le dataframe\n",
        "  # weights c'est les poids des criteres\n",
        "  # types c'est l'influence des criteres (a maximiser (1) ou a minimiser (-1))\n",
        "  Normalize(m,m.shape[1],weights)\n",
        "  p_sln , n_sln = Calc_Values(m,m.shape[1],types)\n",
        "  topsis_score(m,p_sln,n_sln)\n",
        "  m['rank'] = (m['Topsis Score'].rank(method='max', ascending=False))\n",
        "  m = m.astype({\"rank\": int})"
      ],
      "metadata": {
        "id": "I-dQezD6Qkfw"
      },
      "execution_count": null,
      "outputs": []
    },
    {
      "cell_type": "markdown",
      "source": [
        "####**VIKOR**"
      ],
      "metadata": {
        "id": "rUeShtkKRv8g"
      }
    },
    {
      "cell_type": "markdown",
      "source": [
        "Version 2 de la fonction de determination de l'ideal best et l'ideal worst pour chaque critere"
      ],
      "metadata": {
        "id": "OGCa3iQeRyQH"
      }
    },
    {
      "cell_type": "code",
      "source": [
        "def best_worst(a, types):\n",
        "  # a c'est le dataframe et types c'est \n",
        "\t# l'influence des criteres (a maximiser (1) ou a minimiser (-1))\n",
        "    f = np.zeros((types.shape[0], 2))\n",
        "    for i in range(types.shape[0]):\n",
        "        if types[i] == 1:\n",
        "            f[i, 0] = max(a.iloc[:,i])\n",
        "            f[i, 1] = min(a.iloc[:,i])\n",
        "        elif types[i] == -1:\n",
        "            f[i, 0] = min(a.iloc[:,i])\n",
        "            f[i, 1] = max(a.iloc[:,i])\n",
        "    return f"
      ],
      "metadata": {
        "id": "AT7HcoidSw75"
      },
      "execution_count": null,
      "outputs": []
    },
    {
      "cell_type": "markdown",
      "source": [
        "Fonction de calcul des valeurs S et R (voir rapport)"
      ],
      "metadata": {
        "id": "rGEyukxJUM0p"
      }
    },
    {
      "cell_type": "code",
      "source": [
        "def SR(a, b_w, weights):\n",
        "  # a c'est le dataframe et b_w c'est la meileure et la mauvaise valeur\n",
        "  # de chaque critere et weights c'est les poids des criteres\n",
        "  s = np.zeros(a.shape[0])\n",
        "  r = np.zeros(a.shape[0])\n",
        "  for i in range(a.shape[0]):\n",
        "      k = 0\n",
        "      o = 0\n",
        "      for j in range(a.shape[1]):\n",
        "          k = k + weights[j] * (b_w[j, 0] - a.iloc[i, j]) \\\n",
        "                  / (b_w[j, 0] - b_w[j, 1])\n",
        "          u = weights[j] * (b_w[j, 0] - a.iloc[i, j]) \\\n",
        "              / (b_w[j, 0] - b_w[j, 1])\n",
        "          if u > o:\n",
        "              o = u\n",
        "              r[i] = round(o, 3)\n",
        "          else:\n",
        "              r[i] = round(o, 3)\n",
        "      s[i] = round(k, 3)\n",
        "  return s, r"
      ],
      "metadata": {
        "id": "Gso-Mw16UUTc"
      },
      "execution_count": null,
      "outputs": []
    },
    {
      "cell_type": "markdown",
      "source": [
        "Fonction de calcul de l'indice de VIKOR"
      ],
      "metadata": {
        "id": "lMZgAG8hVRef"
      }
    },
    {
      "cell_type": "code",
      "source": [
        "def vikor_index(s, r, n):\n",
        "  # n c'est le nombre de critere et s et r sont les valeurs S et R (voir rapport)\n",
        "  q = np.zeros(s.shape[0])\n",
        "  for i in range(s.shape[0]):\n",
        "      q[i] = round((((n + 1) / (2 * n)) *\n",
        "          (s[i] - min(s)) / (max(s) - min(s)) +\n",
        "          (1 - (n + 1) / (2 * n)) *\n",
        "          (r[i] - min(r)) / (max(r) - min(r))), 3)\n",
        "  return q"
      ],
      "metadata": {
        "id": "DWP38xs6VW_L"
      },
      "execution_count": null,
      "outputs": []
    },
    {
      "cell_type": "markdown",
      "source": [
        "Fonction finale"
      ],
      "metadata": {
        "id": "W9q4cc8bVz9Y"
      }
    },
    {
      "cell_type": "code",
      "source": [
        "def vikor(m, weights, types):\n",
        "  #m c'est le dataframe, types c'est c'est l'influence des criteres (a maximiser (1) ou a minimiser (-1))\n",
        "  # weights c'est les poids associent a chaque critere\n",
        "  b_w = best_worst(m, types)\n",
        "  s, r = SR(m, b_w, weights)\n",
        "  q = vikor_index(s, r, m.shape[1])\n",
        "  m['R'] = r\n",
        "  m['S'] = s\n",
        "  m['VIKOR index'] = q\n",
        "  m['rank'] = (m['VIKOR index'].rank(method='max', ascending=False))\n",
        "  m = m.astype({\"rank\": int})"
      ],
      "metadata": {
        "id": "xl-sgjxXV1jl"
      },
      "execution_count": null,
      "outputs": []
    },
    {
      "cell_type": "markdown",
      "source": [
        "####**WPM**"
      ],
      "metadata": {
        "id": "2oqTACz0ZW07"
      }
    },
    {
      "cell_type": "markdown",
      "source": [
        "Fonction de normalisation"
      ],
      "metadata": {
        "id": "4jwNxrMeZZXp"
      }
    },
    {
      "cell_type": "code",
      "source": [
        "def norm_wpm(a, t):\n",
        "  #m c'est le dataframe, t c'est l'influence des criteres (a maximiser (1) ou a minimiser (-1))\n",
        "  for j in range(a.shape[1]):\n",
        "      if t[j] == -1:\n",
        "        mi = min(a.iloc[:,j])\n",
        "        for i in range(a.shape[0]):\n",
        "          a.iat[i,j] = mi/a.iloc[i,j]\n",
        "      elif t[j] == 1:\n",
        "        ma = max(a.iloc[:,j])\n",
        "        for i in range(a.shape[0]):\n",
        "          a.iat[i,j] = a.iloc[i,j]/ma"
      ],
      "metadata": {
        "id": "cpWS6WEFZbsS"
      },
      "execution_count": null,
      "outputs": []
    },
    {
      "cell_type": "markdown",
      "source": [
        "Fonction de calcul de la puissance des criteres"
      ],
      "metadata": {
        "id": "v7XLYjS6c-rb"
      }
    },
    {
      "cell_type": "code",
      "source": [
        "def puissance(a, weights):\n",
        "  # a c'est le dataframe et weights c'est les poids des criteres\n",
        "  for i in range(a.shape[0]):\n",
        "    for j in range(a.shape[1]):\n",
        "      a.iat[i, j]=math.pow(a.iloc[i,j],weights[j])"
      ],
      "metadata": {
        "id": "QuVxEHDtdCXd"
      },
      "execution_count": null,
      "outputs": []
    },
    {
      "cell_type": "markdown",
      "source": [
        "Fonction de calcul de la multiplication (voir rapport)"
      ],
      "metadata": {
        "id": "dpyrgK_SdlYB"
      }
    },
    {
      "cell_type": "code",
      "source": [
        "def multiplication(a):\n",
        "  # a c'est le dataframe\n",
        "  q = np.ones(a.shape[0])\n",
        "  for i in range(a.shape[0]):\n",
        "    for j in range(a.shape[1]):\n",
        "      q[i] *= a.iloc[i, j]\n",
        "  a['wpm score'] = q"
      ],
      "metadata": {
        "id": "4KJj3R1OdqjQ"
      },
      "execution_count": null,
      "outputs": []
    },
    {
      "cell_type": "markdown",
      "source": [
        "Fonction finale"
      ],
      "metadata": {
        "id": "O9ZuQQnxd4pH"
      }
    },
    {
      "cell_type": "code",
      "source": [
        "def wpm(m, weights, types):\n",
        "  #m c'est le dataframe, types c'est c'est l'influence des criteres (a maximiser (1) ou a minimiser (-1))\n",
        "  # weights c'est les poids associent a chaque critere\n",
        "  norm_wpm(m, types)\n",
        "  puissance(m, weights)\n",
        "  multiplication(m)\n",
        "  m['rank'] = (m['wpm score'].rank(method='max', ascending=False))\n",
        "  m = m.astype({\"rank\": int})"
      ],
      "metadata": {
        "id": "bv6KEnV4d69Q"
      },
      "execution_count": null,
      "outputs": []
    },
    {
      "cell_type": "markdown",
      "source": [
        "###**Exemple d'application**"
      ],
      "metadata": {
        "id": "iFidzeUmehnr"
      }
    },
    {
      "cell_type": "markdown",
      "source": [
        "####**Data**"
      ],
      "metadata": {
        "id": "HhY0FM5BemG2"
      }
    },
    {
      "cell_type": "markdown",
      "source": [
        "Il s'agit des donnees sur des vans electriques, dans un fichier .csv avec des parametres lies a ces derniers"
      ],
      "metadata": {
        "id": "1_kRH7A-eolQ"
      }
    },
    {
      "cell_type": "code",
      "source": [
        "dataframe = pd.read_csv('vans.csv')\n",
        "dataframe.head()"
      ],
      "metadata": {
        "colab": {
          "base_uri": "https://localhost:8080/",
          "height": 372
        },
        "id": "N4EbKl_dex2x",
        "outputId": "7fc07d27-41fb-4ed2-ee36-56d91ccbe9e1"
      },
      "execution_count": null,
      "outputs": [
        {
          "output_type": "execute_result",
          "data": {
            "text/plain": [
              "  code                 name  \\\n",
              "0   A1               EVI MD   \n",
              "1   A2      EVI Walk-In Van   \n",
              "2   A3             e-NV200+   \n",
              "3   A4     e-Wolf Omega 0.7   \n",
              "4   A5   Minicab-MiEV Truck   \n",
              "\n",
              "                                        manufacturer  carryfying capacity  \\\n",
              "0                    Electric Vehicles International                 3000   \n",
              "1   Electric Vehicles International/Freightliner ...                 2000   \n",
              "2                                             Nissan                  705   \n",
              "3                                             e-Wolf                  613   \n",
              "4                            Mitsubishi Motors Corp.                  350   \n",
              "\n",
              "   max velocity  travel range  engine power  engine torque  \\\n",
              "0            96           145           200            610   \n",
              "1           100           145           200            610   \n",
              "2           120           170            80            270   \n",
              "3           140           180           140            400   \n",
              "4           100           110            30            196   \n",
              "\n",
              "   battery charging 100%  battery charging 80%  battery capacity  price  \n",
              "0                   10.0                   120              99.0  120.0  \n",
              "1                   10.0                   120              99.0   90.0  \n",
              "2                    4.0                    30              24.0   25.0  \n",
              "3                    8.0                    40              24.2   50.0  \n",
              "4                    4.5                    15              10.5   12.9  "
            ],
            "text/html": [
              "\n",
              "  <div id=\"df-1b436d50-0f4e-4e06-be85-d77e4edecf16\">\n",
              "    <div class=\"colab-df-container\">\n",
              "      <div>\n",
              "<style scoped>\n",
              "    .dataframe tbody tr th:only-of-type {\n",
              "        vertical-align: middle;\n",
              "    }\n",
              "\n",
              "    .dataframe tbody tr th {\n",
              "        vertical-align: top;\n",
              "    }\n",
              "\n",
              "    .dataframe thead th {\n",
              "        text-align: right;\n",
              "    }\n",
              "</style>\n",
              "<table border=\"1\" class=\"dataframe\">\n",
              "  <thead>\n",
              "    <tr style=\"text-align: right;\">\n",
              "      <th></th>\n",
              "      <th>code</th>\n",
              "      <th>name</th>\n",
              "      <th>manufacturer</th>\n",
              "      <th>carryfying capacity</th>\n",
              "      <th>max velocity</th>\n",
              "      <th>travel range</th>\n",
              "      <th>engine power</th>\n",
              "      <th>engine torque</th>\n",
              "      <th>battery charging 100%</th>\n",
              "      <th>battery charging 80%</th>\n",
              "      <th>battery capacity</th>\n",
              "      <th>price</th>\n",
              "    </tr>\n",
              "  </thead>\n",
              "  <tbody>\n",
              "    <tr>\n",
              "      <th>0</th>\n",
              "      <td>A1</td>\n",
              "      <td>EVI MD</td>\n",
              "      <td>Electric Vehicles International</td>\n",
              "      <td>3000</td>\n",
              "      <td>96</td>\n",
              "      <td>145</td>\n",
              "      <td>200</td>\n",
              "      <td>610</td>\n",
              "      <td>10.0</td>\n",
              "      <td>120</td>\n",
              "      <td>99.0</td>\n",
              "      <td>120.0</td>\n",
              "    </tr>\n",
              "    <tr>\n",
              "      <th>1</th>\n",
              "      <td>A2</td>\n",
              "      <td>EVI Walk-In Van</td>\n",
              "      <td>Electric Vehicles International/Freightliner ...</td>\n",
              "      <td>2000</td>\n",
              "      <td>100</td>\n",
              "      <td>145</td>\n",
              "      <td>200</td>\n",
              "      <td>610</td>\n",
              "      <td>10.0</td>\n",
              "      <td>120</td>\n",
              "      <td>99.0</td>\n",
              "      <td>90.0</td>\n",
              "    </tr>\n",
              "    <tr>\n",
              "      <th>2</th>\n",
              "      <td>A3</td>\n",
              "      <td>e-NV200+</td>\n",
              "      <td>Nissan</td>\n",
              "      <td>705</td>\n",
              "      <td>120</td>\n",
              "      <td>170</td>\n",
              "      <td>80</td>\n",
              "      <td>270</td>\n",
              "      <td>4.0</td>\n",
              "      <td>30</td>\n",
              "      <td>24.0</td>\n",
              "      <td>25.0</td>\n",
              "    </tr>\n",
              "    <tr>\n",
              "      <th>3</th>\n",
              "      <td>A4</td>\n",
              "      <td>e-Wolf Omega 0.7</td>\n",
              "      <td>e-Wolf</td>\n",
              "      <td>613</td>\n",
              "      <td>140</td>\n",
              "      <td>180</td>\n",
              "      <td>140</td>\n",
              "      <td>400</td>\n",
              "      <td>8.0</td>\n",
              "      <td>40</td>\n",
              "      <td>24.2</td>\n",
              "      <td>50.0</td>\n",
              "    </tr>\n",
              "    <tr>\n",
              "      <th>4</th>\n",
              "      <td>A5</td>\n",
              "      <td>Minicab-MiEV Truck</td>\n",
              "      <td>Mitsubishi Motors Corp.</td>\n",
              "      <td>350</td>\n",
              "      <td>100</td>\n",
              "      <td>110</td>\n",
              "      <td>30</td>\n",
              "      <td>196</td>\n",
              "      <td>4.5</td>\n",
              "      <td>15</td>\n",
              "      <td>10.5</td>\n",
              "      <td>12.9</td>\n",
              "    </tr>\n",
              "  </tbody>\n",
              "</table>\n",
              "</div>\n",
              "      <button class=\"colab-df-convert\" onclick=\"convertToInteractive('df-1b436d50-0f4e-4e06-be85-d77e4edecf16')\"\n",
              "              title=\"Convert this dataframe to an interactive table.\"\n",
              "              style=\"display:none;\">\n",
              "        \n",
              "  <svg xmlns=\"http://www.w3.org/2000/svg\" height=\"24px\"viewBox=\"0 0 24 24\"\n",
              "       width=\"24px\">\n",
              "    <path d=\"M0 0h24v24H0V0z\" fill=\"none\"/>\n",
              "    <path d=\"M18.56 5.44l.94 2.06.94-2.06 2.06-.94-2.06-.94-.94-2.06-.94 2.06-2.06.94zm-11 1L8.5 8.5l.94-2.06 2.06-.94-2.06-.94L8.5 2.5l-.94 2.06-2.06.94zm10 10l.94 2.06.94-2.06 2.06-.94-2.06-.94-.94-2.06-.94 2.06-2.06.94z\"/><path d=\"M17.41 7.96l-1.37-1.37c-.4-.4-.92-.59-1.43-.59-.52 0-1.04.2-1.43.59L10.3 9.45l-7.72 7.72c-.78.78-.78 2.05 0 2.83L4 21.41c.39.39.9.59 1.41.59.51 0 1.02-.2 1.41-.59l7.78-7.78 2.81-2.81c.8-.78.8-2.07 0-2.86zM5.41 20L4 18.59l7.72-7.72 1.47 1.35L5.41 20z\"/>\n",
              "  </svg>\n",
              "      </button>\n",
              "      \n",
              "  <style>\n",
              "    .colab-df-container {\n",
              "      display:flex;\n",
              "      flex-wrap:wrap;\n",
              "      gap: 12px;\n",
              "    }\n",
              "\n",
              "    .colab-df-convert {\n",
              "      background-color: #E8F0FE;\n",
              "      border: none;\n",
              "      border-radius: 50%;\n",
              "      cursor: pointer;\n",
              "      display: none;\n",
              "      fill: #1967D2;\n",
              "      height: 32px;\n",
              "      padding: 0 0 0 0;\n",
              "      width: 32px;\n",
              "    }\n",
              "\n",
              "    .colab-df-convert:hover {\n",
              "      background-color: #E2EBFA;\n",
              "      box-shadow: 0px 1px 2px rgba(60, 64, 67, 0.3), 0px 1px 3px 1px rgba(60, 64, 67, 0.15);\n",
              "      fill: #174EA6;\n",
              "    }\n",
              "\n",
              "    [theme=dark] .colab-df-convert {\n",
              "      background-color: #3B4455;\n",
              "      fill: #D2E3FC;\n",
              "    }\n",
              "\n",
              "    [theme=dark] .colab-df-convert:hover {\n",
              "      background-color: #434B5C;\n",
              "      box-shadow: 0px 1px 3px 1px rgba(0, 0, 0, 0.15);\n",
              "      filter: drop-shadow(0px 1px 2px rgba(0, 0, 0, 0.3));\n",
              "      fill: #FFFFFF;\n",
              "    }\n",
              "  </style>\n",
              "\n",
              "      <script>\n",
              "        const buttonEl =\n",
              "          document.querySelector('#df-1b436d50-0f4e-4e06-be85-d77e4edecf16 button.colab-df-convert');\n",
              "        buttonEl.style.display =\n",
              "          google.colab.kernel.accessAllowed ? 'block' : 'none';\n",
              "\n",
              "        async function convertToInteractive(key) {\n",
              "          const element = document.querySelector('#df-1b436d50-0f4e-4e06-be85-d77e4edecf16');\n",
              "          const dataTable =\n",
              "            await google.colab.kernel.invokeFunction('convertToInteractive',\n",
              "                                                     [key], {});\n",
              "          if (!dataTable) return;\n",
              "\n",
              "          const docLinkHtml = 'Like what you see? Visit the ' +\n",
              "            '<a target=\"_blank\" href=https://colab.research.google.com/notebooks/data_table.ipynb>data table notebook</a>'\n",
              "            + ' to learn more about interactive tables.';\n",
              "          element.innerHTML = '';\n",
              "          dataTable['output_type'] = 'display_data';\n",
              "          await google.colab.output.renderOutput(dataTable, element);\n",
              "          const docLink = document.createElement('div');\n",
              "          docLink.innerHTML = docLinkHtml;\n",
              "          element.appendChild(docLink);\n",
              "        }\n",
              "      </script>\n",
              "    </div>\n",
              "  </div>\n",
              "  "
            ]
          },
          "metadata": {},
          "execution_count": 14
        }
      ]
    },
    {
      "cell_type": "markdown",
      "source": [
        "on élimine les données de type caractéres"
      ],
      "metadata": {
        "id": "CfNo3i6ue7Gn"
      }
    },
    {
      "cell_type": "code",
      "source": [
        "data = dataframe[dataframe.columns[3:]]\n",
        "data.head()"
      ],
      "metadata": {
        "colab": {
          "base_uri": "https://localhost:8080/",
          "height": 268
        },
        "id": "s7Zf6cbOfKnI",
        "outputId": "1699135b-2285-4dbf-fdea-7d0f16e77338"
      },
      "execution_count": null,
      "outputs": [
        {
          "output_type": "execute_result",
          "data": {
            "text/plain": [
              "   carryfying capacity  max velocity  travel range  engine power  \\\n",
              "0                 3000            96           145           200   \n",
              "1                 2000           100           145           200   \n",
              "2                  705           120           170            80   \n",
              "3                  613           140           180           140   \n",
              "4                  350           100           110            30   \n",
              "\n",
              "   engine torque  battery charging 100%  battery charging 80%  \\\n",
              "0            610                   10.0                   120   \n",
              "1            610                   10.0                   120   \n",
              "2            270                    4.0                    30   \n",
              "3            400                    8.0                    40   \n",
              "4            196                    4.5                    15   \n",
              "\n",
              "   battery capacity  price  \n",
              "0              99.0  120.0  \n",
              "1              99.0   90.0  \n",
              "2              24.0   25.0  \n",
              "3              24.2   50.0  \n",
              "4              10.5   12.9  "
            ],
            "text/html": [
              "\n",
              "  <div id=\"df-1c2a4d85-807e-4d1a-952a-65bc39208645\">\n",
              "    <div class=\"colab-df-container\">\n",
              "      <div>\n",
              "<style scoped>\n",
              "    .dataframe tbody tr th:only-of-type {\n",
              "        vertical-align: middle;\n",
              "    }\n",
              "\n",
              "    .dataframe tbody tr th {\n",
              "        vertical-align: top;\n",
              "    }\n",
              "\n",
              "    .dataframe thead th {\n",
              "        text-align: right;\n",
              "    }\n",
              "</style>\n",
              "<table border=\"1\" class=\"dataframe\">\n",
              "  <thead>\n",
              "    <tr style=\"text-align: right;\">\n",
              "      <th></th>\n",
              "      <th>carryfying capacity</th>\n",
              "      <th>max velocity</th>\n",
              "      <th>travel range</th>\n",
              "      <th>engine power</th>\n",
              "      <th>engine torque</th>\n",
              "      <th>battery charging 100%</th>\n",
              "      <th>battery charging 80%</th>\n",
              "      <th>battery capacity</th>\n",
              "      <th>price</th>\n",
              "    </tr>\n",
              "  </thead>\n",
              "  <tbody>\n",
              "    <tr>\n",
              "      <th>0</th>\n",
              "      <td>3000</td>\n",
              "      <td>96</td>\n",
              "      <td>145</td>\n",
              "      <td>200</td>\n",
              "      <td>610</td>\n",
              "      <td>10.0</td>\n",
              "      <td>120</td>\n",
              "      <td>99.0</td>\n",
              "      <td>120.0</td>\n",
              "    </tr>\n",
              "    <tr>\n",
              "      <th>1</th>\n",
              "      <td>2000</td>\n",
              "      <td>100</td>\n",
              "      <td>145</td>\n",
              "      <td>200</td>\n",
              "      <td>610</td>\n",
              "      <td>10.0</td>\n",
              "      <td>120</td>\n",
              "      <td>99.0</td>\n",
              "      <td>90.0</td>\n",
              "    </tr>\n",
              "    <tr>\n",
              "      <th>2</th>\n",
              "      <td>705</td>\n",
              "      <td>120</td>\n",
              "      <td>170</td>\n",
              "      <td>80</td>\n",
              "      <td>270</td>\n",
              "      <td>4.0</td>\n",
              "      <td>30</td>\n",
              "      <td>24.0</td>\n",
              "      <td>25.0</td>\n",
              "    </tr>\n",
              "    <tr>\n",
              "      <th>3</th>\n",
              "      <td>613</td>\n",
              "      <td>140</td>\n",
              "      <td>180</td>\n",
              "      <td>140</td>\n",
              "      <td>400</td>\n",
              "      <td>8.0</td>\n",
              "      <td>40</td>\n",
              "      <td>24.2</td>\n",
              "      <td>50.0</td>\n",
              "    </tr>\n",
              "    <tr>\n",
              "      <th>4</th>\n",
              "      <td>350</td>\n",
              "      <td>100</td>\n",
              "      <td>110</td>\n",
              "      <td>30</td>\n",
              "      <td>196</td>\n",
              "      <td>4.5</td>\n",
              "      <td>15</td>\n",
              "      <td>10.5</td>\n",
              "      <td>12.9</td>\n",
              "    </tr>\n",
              "  </tbody>\n",
              "</table>\n",
              "</div>\n",
              "      <button class=\"colab-df-convert\" onclick=\"convertToInteractive('df-1c2a4d85-807e-4d1a-952a-65bc39208645')\"\n",
              "              title=\"Convert this dataframe to an interactive table.\"\n",
              "              style=\"display:none;\">\n",
              "        \n",
              "  <svg xmlns=\"http://www.w3.org/2000/svg\" height=\"24px\"viewBox=\"0 0 24 24\"\n",
              "       width=\"24px\">\n",
              "    <path d=\"M0 0h24v24H0V0z\" fill=\"none\"/>\n",
              "    <path d=\"M18.56 5.44l.94 2.06.94-2.06 2.06-.94-2.06-.94-.94-2.06-.94 2.06-2.06.94zm-11 1L8.5 8.5l.94-2.06 2.06-.94-2.06-.94L8.5 2.5l-.94 2.06-2.06.94zm10 10l.94 2.06.94-2.06 2.06-.94-2.06-.94-.94-2.06-.94 2.06-2.06.94z\"/><path d=\"M17.41 7.96l-1.37-1.37c-.4-.4-.92-.59-1.43-.59-.52 0-1.04.2-1.43.59L10.3 9.45l-7.72 7.72c-.78.78-.78 2.05 0 2.83L4 21.41c.39.39.9.59 1.41.59.51 0 1.02-.2 1.41-.59l7.78-7.78 2.81-2.81c.8-.78.8-2.07 0-2.86zM5.41 20L4 18.59l7.72-7.72 1.47 1.35L5.41 20z\"/>\n",
              "  </svg>\n",
              "      </button>\n",
              "      \n",
              "  <style>\n",
              "    .colab-df-container {\n",
              "      display:flex;\n",
              "      flex-wrap:wrap;\n",
              "      gap: 12px;\n",
              "    }\n",
              "\n",
              "    .colab-df-convert {\n",
              "      background-color: #E8F0FE;\n",
              "      border: none;\n",
              "      border-radius: 50%;\n",
              "      cursor: pointer;\n",
              "      display: none;\n",
              "      fill: #1967D2;\n",
              "      height: 32px;\n",
              "      padding: 0 0 0 0;\n",
              "      width: 32px;\n",
              "    }\n",
              "\n",
              "    .colab-df-convert:hover {\n",
              "      background-color: #E2EBFA;\n",
              "      box-shadow: 0px 1px 2px rgba(60, 64, 67, 0.3), 0px 1px 3px 1px rgba(60, 64, 67, 0.15);\n",
              "      fill: #174EA6;\n",
              "    }\n",
              "\n",
              "    [theme=dark] .colab-df-convert {\n",
              "      background-color: #3B4455;\n",
              "      fill: #D2E3FC;\n",
              "    }\n",
              "\n",
              "    [theme=dark] .colab-df-convert:hover {\n",
              "      background-color: #434B5C;\n",
              "      box-shadow: 0px 1px 3px 1px rgba(0, 0, 0, 0.15);\n",
              "      filter: drop-shadow(0px 1px 2px rgba(0, 0, 0, 0.3));\n",
              "      fill: #FFFFFF;\n",
              "    }\n",
              "  </style>\n",
              "\n",
              "      <script>\n",
              "        const buttonEl =\n",
              "          document.querySelector('#df-1c2a4d85-807e-4d1a-952a-65bc39208645 button.colab-df-convert');\n",
              "        buttonEl.style.display =\n",
              "          google.colab.kernel.accessAllowed ? 'block' : 'none';\n",
              "\n",
              "        async function convertToInteractive(key) {\n",
              "          const element = document.querySelector('#df-1c2a4d85-807e-4d1a-952a-65bc39208645');\n",
              "          const dataTable =\n",
              "            await google.colab.kernel.invokeFunction('convertToInteractive',\n",
              "                                                     [key], {});\n",
              "          if (!dataTable) return;\n",
              "\n",
              "          const docLinkHtml = 'Like what you see? Visit the ' +\n",
              "            '<a target=\"_blank\" href=https://colab.research.google.com/notebooks/data_table.ipynb>data table notebook</a>'\n",
              "            + ' to learn more about interactive tables.';\n",
              "          element.innerHTML = '';\n",
              "          dataTable['output_type'] = 'display_data';\n",
              "          await google.colab.output.renderOutput(dataTable, element);\n",
              "          const docLink = document.createElement('div');\n",
              "          docLink.innerHTML = docLinkHtml;\n",
              "          element.appendChild(docLink);\n",
              "        }\n",
              "      </script>\n",
              "    </div>\n",
              "  </div>\n",
              "  "
            ]
          },
          "metadata": {},
          "execution_count": 15
        }
      ]
    },
    {
      "cell_type": "markdown",
      "source": [
        "####**Weights**"
      ],
      "metadata": {
        "id": "YQhnpfUNfY3F"
      }
    },
    {
      "cell_type": "code",
      "source": [
        "weights = np.array([0.1111, 0.1111, 0.1111, 0.1111, 0.1111, 0.1111, 0.1111, 0.1111, 0.1111])"
      ],
      "metadata": {
        "id": "LrD4NFnqfdy2"
      },
      "execution_count": null,
      "outputs": []
    },
    {
      "cell_type": "markdown",
      "source": [
        "####**Types**"
      ],
      "metadata": {
        "id": "3xGgZ-CUfjrW"
      }
    },
    {
      "cell_type": "markdown",
      "source": [
        "Cet etape permet de determiner quel critere a maximiser et lequel a minimiser"
      ],
      "metadata": {
        "id": "zqi1Eq9sfsvb"
      }
    },
    {
      "cell_type": "code",
      "source": [
        "types = np.array([1, 1, 1, 1, 1, -1, -1, 1, -1])"
      ],
      "metadata": {
        "id": "1ltqr91Pfnzm"
      },
      "execution_count": null,
      "outputs": []
    },
    {
      "cell_type": "markdown",
      "source": [
        "####**Cas 1: 10 alternatives et 9 criteres**"
      ],
      "metadata": {
        "id": "9IbVKKHmh-pe"
      }
    },
    {
      "cell_type": "markdown",
      "source": [
        "Definition de dataframe"
      ],
      "metadata": {
        "id": "Evdxu1eWitDO"
      }
    },
    {
      "cell_type": "code",
      "source": [
        "data_1 = data.copy()\n",
        "data_1.head()"
      ],
      "metadata": {
        "colab": {
          "base_uri": "https://localhost:8080/",
          "height": 268
        },
        "id": "DvOsanTRiGer",
        "outputId": "f291e21d-01bb-431c-cf75-1c98cd29893b"
      },
      "execution_count": null,
      "outputs": [
        {
          "output_type": "execute_result",
          "data": {
            "text/plain": [
              "   carryfying capacity  max velocity  travel range  engine power  \\\n",
              "0                 3000            96           145           200   \n",
              "1                 2000           100           145           200   \n",
              "2                  705           120           170            80   \n",
              "3                  613           140           180           140   \n",
              "4                  350           100           110            30   \n",
              "\n",
              "   engine torque  battery charging 100%  battery charging 80%  \\\n",
              "0            610                   10.0                   120   \n",
              "1            610                   10.0                   120   \n",
              "2            270                    4.0                    30   \n",
              "3            400                    8.0                    40   \n",
              "4            196                    4.5                    15   \n",
              "\n",
              "   battery capacity  price  \n",
              "0              99.0  120.0  \n",
              "1              99.0   90.0  \n",
              "2              24.0   25.0  \n",
              "3              24.2   50.0  \n",
              "4              10.5   12.9  "
            ],
            "text/html": [
              "\n",
              "  <div id=\"df-c6d594c9-21dc-4dfc-b013-c51e50ed7e97\">\n",
              "    <div class=\"colab-df-container\">\n",
              "      <div>\n",
              "<style scoped>\n",
              "    .dataframe tbody tr th:only-of-type {\n",
              "        vertical-align: middle;\n",
              "    }\n",
              "\n",
              "    .dataframe tbody tr th {\n",
              "        vertical-align: top;\n",
              "    }\n",
              "\n",
              "    .dataframe thead th {\n",
              "        text-align: right;\n",
              "    }\n",
              "</style>\n",
              "<table border=\"1\" class=\"dataframe\">\n",
              "  <thead>\n",
              "    <tr style=\"text-align: right;\">\n",
              "      <th></th>\n",
              "      <th>carryfying capacity</th>\n",
              "      <th>max velocity</th>\n",
              "      <th>travel range</th>\n",
              "      <th>engine power</th>\n",
              "      <th>engine torque</th>\n",
              "      <th>battery charging 100%</th>\n",
              "      <th>battery charging 80%</th>\n",
              "      <th>battery capacity</th>\n",
              "      <th>price</th>\n",
              "    </tr>\n",
              "  </thead>\n",
              "  <tbody>\n",
              "    <tr>\n",
              "      <th>0</th>\n",
              "      <td>3000</td>\n",
              "      <td>96</td>\n",
              "      <td>145</td>\n",
              "      <td>200</td>\n",
              "      <td>610</td>\n",
              "      <td>10.0</td>\n",
              "      <td>120</td>\n",
              "      <td>99.0</td>\n",
              "      <td>120.0</td>\n",
              "    </tr>\n",
              "    <tr>\n",
              "      <th>1</th>\n",
              "      <td>2000</td>\n",
              "      <td>100</td>\n",
              "      <td>145</td>\n",
              "      <td>200</td>\n",
              "      <td>610</td>\n",
              "      <td>10.0</td>\n",
              "      <td>120</td>\n",
              "      <td>99.0</td>\n",
              "      <td>90.0</td>\n",
              "    </tr>\n",
              "    <tr>\n",
              "      <th>2</th>\n",
              "      <td>705</td>\n",
              "      <td>120</td>\n",
              "      <td>170</td>\n",
              "      <td>80</td>\n",
              "      <td>270</td>\n",
              "      <td>4.0</td>\n",
              "      <td>30</td>\n",
              "      <td>24.0</td>\n",
              "      <td>25.0</td>\n",
              "    </tr>\n",
              "    <tr>\n",
              "      <th>3</th>\n",
              "      <td>613</td>\n",
              "      <td>140</td>\n",
              "      <td>180</td>\n",
              "      <td>140</td>\n",
              "      <td>400</td>\n",
              "      <td>8.0</td>\n",
              "      <td>40</td>\n",
              "      <td>24.2</td>\n",
              "      <td>50.0</td>\n",
              "    </tr>\n",
              "    <tr>\n",
              "      <th>4</th>\n",
              "      <td>350</td>\n",
              "      <td>100</td>\n",
              "      <td>110</td>\n",
              "      <td>30</td>\n",
              "      <td>196</td>\n",
              "      <td>4.5</td>\n",
              "      <td>15</td>\n",
              "      <td>10.5</td>\n",
              "      <td>12.9</td>\n",
              "    </tr>\n",
              "  </tbody>\n",
              "</table>\n",
              "</div>\n",
              "      <button class=\"colab-df-convert\" onclick=\"convertToInteractive('df-c6d594c9-21dc-4dfc-b013-c51e50ed7e97')\"\n",
              "              title=\"Convert this dataframe to an interactive table.\"\n",
              "              style=\"display:none;\">\n",
              "        \n",
              "  <svg xmlns=\"http://www.w3.org/2000/svg\" height=\"24px\"viewBox=\"0 0 24 24\"\n",
              "       width=\"24px\">\n",
              "    <path d=\"M0 0h24v24H0V0z\" fill=\"none\"/>\n",
              "    <path d=\"M18.56 5.44l.94 2.06.94-2.06 2.06-.94-2.06-.94-.94-2.06-.94 2.06-2.06.94zm-11 1L8.5 8.5l.94-2.06 2.06-.94-2.06-.94L8.5 2.5l-.94 2.06-2.06.94zm10 10l.94 2.06.94-2.06 2.06-.94-2.06-.94-.94-2.06-.94 2.06-2.06.94z\"/><path d=\"M17.41 7.96l-1.37-1.37c-.4-.4-.92-.59-1.43-.59-.52 0-1.04.2-1.43.59L10.3 9.45l-7.72 7.72c-.78.78-.78 2.05 0 2.83L4 21.41c.39.39.9.59 1.41.59.51 0 1.02-.2 1.41-.59l7.78-7.78 2.81-2.81c.8-.78.8-2.07 0-2.86zM5.41 20L4 18.59l7.72-7.72 1.47 1.35L5.41 20z\"/>\n",
              "  </svg>\n",
              "      </button>\n",
              "      \n",
              "  <style>\n",
              "    .colab-df-container {\n",
              "      display:flex;\n",
              "      flex-wrap:wrap;\n",
              "      gap: 12px;\n",
              "    }\n",
              "\n",
              "    .colab-df-convert {\n",
              "      background-color: #E8F0FE;\n",
              "      border: none;\n",
              "      border-radius: 50%;\n",
              "      cursor: pointer;\n",
              "      display: none;\n",
              "      fill: #1967D2;\n",
              "      height: 32px;\n",
              "      padding: 0 0 0 0;\n",
              "      width: 32px;\n",
              "    }\n",
              "\n",
              "    .colab-df-convert:hover {\n",
              "      background-color: #E2EBFA;\n",
              "      box-shadow: 0px 1px 2px rgba(60, 64, 67, 0.3), 0px 1px 3px 1px rgba(60, 64, 67, 0.15);\n",
              "      fill: #174EA6;\n",
              "    }\n",
              "\n",
              "    [theme=dark] .colab-df-convert {\n",
              "      background-color: #3B4455;\n",
              "      fill: #D2E3FC;\n",
              "    }\n",
              "\n",
              "    [theme=dark] .colab-df-convert:hover {\n",
              "      background-color: #434B5C;\n",
              "      box-shadow: 0px 1px 3px 1px rgba(0, 0, 0, 0.15);\n",
              "      filter: drop-shadow(0px 1px 2px rgba(0, 0, 0, 0.3));\n",
              "      fill: #FFFFFF;\n",
              "    }\n",
              "  </style>\n",
              "\n",
              "      <script>\n",
              "        const buttonEl =\n",
              "          document.querySelector('#df-c6d594c9-21dc-4dfc-b013-c51e50ed7e97 button.colab-df-convert');\n",
              "        buttonEl.style.display =\n",
              "          google.colab.kernel.accessAllowed ? 'block' : 'none';\n",
              "\n",
              "        async function convertToInteractive(key) {\n",
              "          const element = document.querySelector('#df-c6d594c9-21dc-4dfc-b013-c51e50ed7e97');\n",
              "          const dataTable =\n",
              "            await google.colab.kernel.invokeFunction('convertToInteractive',\n",
              "                                                     [key], {});\n",
              "          if (!dataTable) return;\n",
              "\n",
              "          const docLinkHtml = 'Like what you see? Visit the ' +\n",
              "            '<a target=\"_blank\" href=https://colab.research.google.com/notebooks/data_table.ipynb>data table notebook</a>'\n",
              "            + ' to learn more about interactive tables.';\n",
              "          element.innerHTML = '';\n",
              "          dataTable['output_type'] = 'display_data';\n",
              "          await google.colab.output.renderOutput(dataTable, element);\n",
              "          const docLink = document.createElement('div');\n",
              "          docLink.innerHTML = docLinkHtml;\n",
              "          element.appendChild(docLink);\n",
              "        }\n",
              "      </script>\n",
              "    </div>\n",
              "  </div>\n",
              "  "
            ]
          },
          "metadata": {},
          "execution_count": 18
        }
      ]
    },
    {
      "cell_type": "markdown",
      "source": [
        "Utilisation des méthodes deja implementés"
      ],
      "metadata": {
        "id": "i_L0QJ7vivSm"
      }
    },
    {
      "cell_type": "markdown",
      "source": [
        "\n",
        "\n",
        "1.   **TOPSIS**\n"
      ],
      "metadata": {
        "id": "7mAZ6OhZjc2g"
      }
    },
    {
      "cell_type": "code",
      "source": [
        "topsis_data = data_1.copy()\n"
      ],
      "metadata": {
        "id": "9WopO0Pdi45n"
      },
      "execution_count": null,
      "outputs": []
    },
    {
      "cell_type": "code",
      "source": [
        "topsis(topsis_data, weights, types)"
      ],
      "metadata": {
        "id": "K3SHvQRRjiG7"
      },
      "execution_count": null,
      "outputs": []
    },
    {
      "cell_type": "code",
      "source": [
        "topsis_data"
      ],
      "metadata": {
        "colab": {
          "base_uri": "https://localhost:8080/",
          "height": 442
        },
        "id": "68NwbwhjjmiB",
        "outputId": "8153842e-e2c3-4a40-8c13-f18dfc4e5815"
      },
      "execution_count": null,
      "outputs": [
        {
          "output_type": "execute_result",
          "data": {
            "text/plain": [
              "   carryfying capacity  max velocity  travel range  engine power  \\\n",
              "0                 3000      0.030653      0.034779      0.063279   \n",
              "1                 2000      0.031930      0.034779      0.063279   \n",
              "2                  705      0.038317      0.040775      0.025312   \n",
              "3                  613      0.044703      0.043174      0.044295   \n",
              "4                  350      0.031930      0.026384      0.009492   \n",
              "5                  350      0.031930      0.023986      0.009492   \n",
              "6                  350      0.031930      0.035978      0.009492   \n",
              "7                  635      0.035123      0.040775      0.015503   \n",
              "8                  340      0.047896      0.038377      0.034804   \n",
              "9                  750      0.018200      0.026384      0.003164   \n",
              "\n",
              "   engine torque  battery charging 100%  battery charging 80%  \\\n",
              "0       0.057509               0.048100              0.060413   \n",
              "1       0.057509               0.048100              0.060413   \n",
              "2       0.025455               0.019240              0.015103   \n",
              "3       0.037711               0.038480              0.020138   \n",
              "4       0.018478               0.021645              0.007552   \n",
              "5       0.018478               0.021645              0.007552   \n",
              "6       0.018478               0.033670              0.017620   \n",
              "7       0.018855               0.038480              0.017620   \n",
              "8       0.047138               0.028860              0.005034   \n",
              "9       0.007542               0.038480              0.060413   \n",
              "\n",
              "   battery capacity     price  distance positive  distance negative  \\\n",
              "0          0.070709  0.076980           0.086197           0.109249   \n",
              "1          0.070709  0.057735           0.088079           0.098461   \n",
              "2          0.017142  0.016038           0.085485           0.080502   \n",
              "3          0.017284  0.032075           0.056528           0.095317   \n",
              "4          0.007499  0.008275           0.101881           0.084554   \n",
              "5          0.007499  0.009943           0.101191           0.084537   \n",
              "6          0.011428  0.011996           0.096582           0.077843   \n",
              "7          0.016070  0.020207           0.086562           0.078598   \n",
              "8          0.024998  0.028868           0.062711           0.096595   \n",
              "9          0.024998  0.015653           0.120419           0.050198   \n",
              "\n",
              "   Topsis Score  rank  \n",
              "0      0.558971   3.0  \n",
              "1      0.527828   4.0  \n",
              "2      0.484990   5.0  \n",
              "3      0.627727   1.0  \n",
              "4      0.453532   8.0  \n",
              "5      0.455165   7.0  \n",
              "6      0.446283   9.0  \n",
              "7      0.475890   6.0  \n",
              "8      0.606351   2.0  \n",
              "9      0.294214  10.0  "
            ],
            "text/html": [
              "\n",
              "  <div id=\"df-a0c54901-6258-46bf-ae42-9d5bf02af548\">\n",
              "    <div class=\"colab-df-container\">\n",
              "      <div>\n",
              "<style scoped>\n",
              "    .dataframe tbody tr th:only-of-type {\n",
              "        vertical-align: middle;\n",
              "    }\n",
              "\n",
              "    .dataframe tbody tr th {\n",
              "        vertical-align: top;\n",
              "    }\n",
              "\n",
              "    .dataframe thead th {\n",
              "        text-align: right;\n",
              "    }\n",
              "</style>\n",
              "<table border=\"1\" class=\"dataframe\">\n",
              "  <thead>\n",
              "    <tr style=\"text-align: right;\">\n",
              "      <th></th>\n",
              "      <th>carryfying capacity</th>\n",
              "      <th>max velocity</th>\n",
              "      <th>travel range</th>\n",
              "      <th>engine power</th>\n",
              "      <th>engine torque</th>\n",
              "      <th>battery charging 100%</th>\n",
              "      <th>battery charging 80%</th>\n",
              "      <th>battery capacity</th>\n",
              "      <th>price</th>\n",
              "      <th>distance positive</th>\n",
              "      <th>distance negative</th>\n",
              "      <th>Topsis Score</th>\n",
              "      <th>rank</th>\n",
              "    </tr>\n",
              "  </thead>\n",
              "  <tbody>\n",
              "    <tr>\n",
              "      <th>0</th>\n",
              "      <td>3000</td>\n",
              "      <td>0.030653</td>\n",
              "      <td>0.034779</td>\n",
              "      <td>0.063279</td>\n",
              "      <td>0.057509</td>\n",
              "      <td>0.048100</td>\n",
              "      <td>0.060413</td>\n",
              "      <td>0.070709</td>\n",
              "      <td>0.076980</td>\n",
              "      <td>0.086197</td>\n",
              "      <td>0.109249</td>\n",
              "      <td>0.558971</td>\n",
              "      <td>3.0</td>\n",
              "    </tr>\n",
              "    <tr>\n",
              "      <th>1</th>\n",
              "      <td>2000</td>\n",
              "      <td>0.031930</td>\n",
              "      <td>0.034779</td>\n",
              "      <td>0.063279</td>\n",
              "      <td>0.057509</td>\n",
              "      <td>0.048100</td>\n",
              "      <td>0.060413</td>\n",
              "      <td>0.070709</td>\n",
              "      <td>0.057735</td>\n",
              "      <td>0.088079</td>\n",
              "      <td>0.098461</td>\n",
              "      <td>0.527828</td>\n",
              "      <td>4.0</td>\n",
              "    </tr>\n",
              "    <tr>\n",
              "      <th>2</th>\n",
              "      <td>705</td>\n",
              "      <td>0.038317</td>\n",
              "      <td>0.040775</td>\n",
              "      <td>0.025312</td>\n",
              "      <td>0.025455</td>\n",
              "      <td>0.019240</td>\n",
              "      <td>0.015103</td>\n",
              "      <td>0.017142</td>\n",
              "      <td>0.016038</td>\n",
              "      <td>0.085485</td>\n",
              "      <td>0.080502</td>\n",
              "      <td>0.484990</td>\n",
              "      <td>5.0</td>\n",
              "    </tr>\n",
              "    <tr>\n",
              "      <th>3</th>\n",
              "      <td>613</td>\n",
              "      <td>0.044703</td>\n",
              "      <td>0.043174</td>\n",
              "      <td>0.044295</td>\n",
              "      <td>0.037711</td>\n",
              "      <td>0.038480</td>\n",
              "      <td>0.020138</td>\n",
              "      <td>0.017284</td>\n",
              "      <td>0.032075</td>\n",
              "      <td>0.056528</td>\n",
              "      <td>0.095317</td>\n",
              "      <td>0.627727</td>\n",
              "      <td>1.0</td>\n",
              "    </tr>\n",
              "    <tr>\n",
              "      <th>4</th>\n",
              "      <td>350</td>\n",
              "      <td>0.031930</td>\n",
              "      <td>0.026384</td>\n",
              "      <td>0.009492</td>\n",
              "      <td>0.018478</td>\n",
              "      <td>0.021645</td>\n",
              "      <td>0.007552</td>\n",
              "      <td>0.007499</td>\n",
              "      <td>0.008275</td>\n",
              "      <td>0.101881</td>\n",
              "      <td>0.084554</td>\n",
              "      <td>0.453532</td>\n",
              "      <td>8.0</td>\n",
              "    </tr>\n",
              "    <tr>\n",
              "      <th>5</th>\n",
              "      <td>350</td>\n",
              "      <td>0.031930</td>\n",
              "      <td>0.023986</td>\n",
              "      <td>0.009492</td>\n",
              "      <td>0.018478</td>\n",
              "      <td>0.021645</td>\n",
              "      <td>0.007552</td>\n",
              "      <td>0.007499</td>\n",
              "      <td>0.009943</td>\n",
              "      <td>0.101191</td>\n",
              "      <td>0.084537</td>\n",
              "      <td>0.455165</td>\n",
              "      <td>7.0</td>\n",
              "    </tr>\n",
              "    <tr>\n",
              "      <th>6</th>\n",
              "      <td>350</td>\n",
              "      <td>0.031930</td>\n",
              "      <td>0.035978</td>\n",
              "      <td>0.009492</td>\n",
              "      <td>0.018478</td>\n",
              "      <td>0.033670</td>\n",
              "      <td>0.017620</td>\n",
              "      <td>0.011428</td>\n",
              "      <td>0.011996</td>\n",
              "      <td>0.096582</td>\n",
              "      <td>0.077843</td>\n",
              "      <td>0.446283</td>\n",
              "      <td>9.0</td>\n",
              "    </tr>\n",
              "    <tr>\n",
              "      <th>7</th>\n",
              "      <td>635</td>\n",
              "      <td>0.035123</td>\n",
              "      <td>0.040775</td>\n",
              "      <td>0.015503</td>\n",
              "      <td>0.018855</td>\n",
              "      <td>0.038480</td>\n",
              "      <td>0.017620</td>\n",
              "      <td>0.016070</td>\n",
              "      <td>0.020207</td>\n",
              "      <td>0.086562</td>\n",
              "      <td>0.078598</td>\n",
              "      <td>0.475890</td>\n",
              "      <td>6.0</td>\n",
              "    </tr>\n",
              "    <tr>\n",
              "      <th>8</th>\n",
              "      <td>340</td>\n",
              "      <td>0.047896</td>\n",
              "      <td>0.038377</td>\n",
              "      <td>0.034804</td>\n",
              "      <td>0.047138</td>\n",
              "      <td>0.028860</td>\n",
              "      <td>0.005034</td>\n",
              "      <td>0.024998</td>\n",
              "      <td>0.028868</td>\n",
              "      <td>0.062711</td>\n",
              "      <td>0.096595</td>\n",
              "      <td>0.606351</td>\n",
              "      <td>2.0</td>\n",
              "    </tr>\n",
              "    <tr>\n",
              "      <th>9</th>\n",
              "      <td>750</td>\n",
              "      <td>0.018200</td>\n",
              "      <td>0.026384</td>\n",
              "      <td>0.003164</td>\n",
              "      <td>0.007542</td>\n",
              "      <td>0.038480</td>\n",
              "      <td>0.060413</td>\n",
              "      <td>0.024998</td>\n",
              "      <td>0.015653</td>\n",
              "      <td>0.120419</td>\n",
              "      <td>0.050198</td>\n",
              "      <td>0.294214</td>\n",
              "      <td>10.0</td>\n",
              "    </tr>\n",
              "  </tbody>\n",
              "</table>\n",
              "</div>\n",
              "      <button class=\"colab-df-convert\" onclick=\"convertToInteractive('df-a0c54901-6258-46bf-ae42-9d5bf02af548')\"\n",
              "              title=\"Convert this dataframe to an interactive table.\"\n",
              "              style=\"display:none;\">\n",
              "        \n",
              "  <svg xmlns=\"http://www.w3.org/2000/svg\" height=\"24px\"viewBox=\"0 0 24 24\"\n",
              "       width=\"24px\">\n",
              "    <path d=\"M0 0h24v24H0V0z\" fill=\"none\"/>\n",
              "    <path d=\"M18.56 5.44l.94 2.06.94-2.06 2.06-.94-2.06-.94-.94-2.06-.94 2.06-2.06.94zm-11 1L8.5 8.5l.94-2.06 2.06-.94-2.06-.94L8.5 2.5l-.94 2.06-2.06.94zm10 10l.94 2.06.94-2.06 2.06-.94-2.06-.94-.94-2.06-.94 2.06-2.06.94z\"/><path d=\"M17.41 7.96l-1.37-1.37c-.4-.4-.92-.59-1.43-.59-.52 0-1.04.2-1.43.59L10.3 9.45l-7.72 7.72c-.78.78-.78 2.05 0 2.83L4 21.41c.39.39.9.59 1.41.59.51 0 1.02-.2 1.41-.59l7.78-7.78 2.81-2.81c.8-.78.8-2.07 0-2.86zM5.41 20L4 18.59l7.72-7.72 1.47 1.35L5.41 20z\"/>\n",
              "  </svg>\n",
              "      </button>\n",
              "      \n",
              "  <style>\n",
              "    .colab-df-container {\n",
              "      display:flex;\n",
              "      flex-wrap:wrap;\n",
              "      gap: 12px;\n",
              "    }\n",
              "\n",
              "    .colab-df-convert {\n",
              "      background-color: #E8F0FE;\n",
              "      border: none;\n",
              "      border-radius: 50%;\n",
              "      cursor: pointer;\n",
              "      display: none;\n",
              "      fill: #1967D2;\n",
              "      height: 32px;\n",
              "      padding: 0 0 0 0;\n",
              "      width: 32px;\n",
              "    }\n",
              "\n",
              "    .colab-df-convert:hover {\n",
              "      background-color: #E2EBFA;\n",
              "      box-shadow: 0px 1px 2px rgba(60, 64, 67, 0.3), 0px 1px 3px 1px rgba(60, 64, 67, 0.15);\n",
              "      fill: #174EA6;\n",
              "    }\n",
              "\n",
              "    [theme=dark] .colab-df-convert {\n",
              "      background-color: #3B4455;\n",
              "      fill: #D2E3FC;\n",
              "    }\n",
              "\n",
              "    [theme=dark] .colab-df-convert:hover {\n",
              "      background-color: #434B5C;\n",
              "      box-shadow: 0px 1px 3px 1px rgba(0, 0, 0, 0.15);\n",
              "      filter: drop-shadow(0px 1px 2px rgba(0, 0, 0, 0.3));\n",
              "      fill: #FFFFFF;\n",
              "    }\n",
              "  </style>\n",
              "\n",
              "      <script>\n",
              "        const buttonEl =\n",
              "          document.querySelector('#df-a0c54901-6258-46bf-ae42-9d5bf02af548 button.colab-df-convert');\n",
              "        buttonEl.style.display =\n",
              "          google.colab.kernel.accessAllowed ? 'block' : 'none';\n",
              "\n",
              "        async function convertToInteractive(key) {\n",
              "          const element = document.querySelector('#df-a0c54901-6258-46bf-ae42-9d5bf02af548');\n",
              "          const dataTable =\n",
              "            await google.colab.kernel.invokeFunction('convertToInteractive',\n",
              "                                                     [key], {});\n",
              "          if (!dataTable) return;\n",
              "\n",
              "          const docLinkHtml = 'Like what you see? Visit the ' +\n",
              "            '<a target=\"_blank\" href=https://colab.research.google.com/notebooks/data_table.ipynb>data table notebook</a>'\n",
              "            + ' to learn more about interactive tables.';\n",
              "          element.innerHTML = '';\n",
              "          dataTable['output_type'] = 'display_data';\n",
              "          await google.colab.output.renderOutput(dataTable, element);\n",
              "          const docLink = document.createElement('div');\n",
              "          docLink.innerHTML = docLinkHtml;\n",
              "          element.appendChild(docLink);\n",
              "        }\n",
              "      </script>\n",
              "    </div>\n",
              "  </div>\n",
              "  "
            ]
          },
          "metadata": {},
          "execution_count": 96
        }
      ]
    },
    {
      "cell_type": "markdown",
      "source": [
        "2.   **VIKOR**\n",
        "\n"
      ],
      "metadata": {
        "id": "Vn6LiT4Pjr-N"
      }
    },
    {
      "cell_type": "code",
      "source": [
        "vikor_data = data_1.copy()"
      ],
      "metadata": {
        "id": "7odcdIbRjwLr"
      },
      "execution_count": null,
      "outputs": []
    },
    {
      "cell_type": "code",
      "source": [
        "vikor(vikor_data, weights, types)"
      ],
      "metadata": {
        "id": "AnqH4fBtj6HK"
      },
      "execution_count": null,
      "outputs": []
    },
    {
      "cell_type": "code",
      "source": [
        "vikor_data"
      ],
      "metadata": {
        "colab": {
          "base_uri": "https://localhost:8080/",
          "height": 442
        },
        "id": "foyack-mkaz_",
        "outputId": "946dfcf9-5907-49fe-b0cc-996e1e6c5e57"
      },
      "execution_count": null,
      "outputs": [
        {
          "output_type": "execute_result",
          "data": {
            "text/plain": [
              "   carryfying capacity  max velocity  travel range  engine power  \\\n",
              "0                 3000            96           145           200   \n",
              "1                 2000           100           145           200   \n",
              "2                  705           120           170            80   \n",
              "3                  613           140           180           140   \n",
              "4                  350           100           110            30   \n",
              "5                  350           100           100            30   \n",
              "6                  350           100           150            30   \n",
              "7                  635           110           170            49   \n",
              "8                  340           150           160           110   \n",
              "9                  750            57           110            10   \n",
              "\n",
              "   engine torque  battery charging 100%  battery charging 80%  \\\n",
              "0            610                   10.0                   120   \n",
              "1            610                   10.0                   120   \n",
              "2            270                    4.0                    30   \n",
              "3            400                    8.0                    40   \n",
              "4            196                    4.5                    15   \n",
              "5            196                    4.5                    15   \n",
              "6            196                    7.0                    35   \n",
              "7            200                    8.0                    35   \n",
              "8            500                    6.0                    10   \n",
              "9             80                    8.0                   120   \n",
              "\n",
              "   battery capacity  price      R      S  VIKOR index  rank  \n",
              "0              99.0  120.0  0.111  0.446        0.547   6.0  \n",
              "1              99.0   90.0  0.111  0.452        0.555   5.0  \n",
              "2              24.0   25.0  0.096  0.414        0.062  10.0  \n",
              "3              24.2   50.0  0.100  0.428        0.199   9.0  \n",
              "4              10.5   12.9  0.111  0.579        0.717   4.0  \n",
              "5              10.5   15.5  0.111  0.596        0.738   2.0  \n",
              "6              16.0   18.7  0.111  0.589        0.729   3.0  \n",
              "7              22.5   31.5  0.099  0.549        0.323   8.0  \n",
              "8              35.0   45.0  0.111  0.365        0.444   7.0  \n",
              "9              35.0   24.4  0.111  0.802        1.000   1.0  "
            ],
            "text/html": [
              "\n",
              "  <div id=\"df-e062c82c-31e4-4ae0-b78a-7b9dd5e38981\">\n",
              "    <div class=\"colab-df-container\">\n",
              "      <div>\n",
              "<style scoped>\n",
              "    .dataframe tbody tr th:only-of-type {\n",
              "        vertical-align: middle;\n",
              "    }\n",
              "\n",
              "    .dataframe tbody tr th {\n",
              "        vertical-align: top;\n",
              "    }\n",
              "\n",
              "    .dataframe thead th {\n",
              "        text-align: right;\n",
              "    }\n",
              "</style>\n",
              "<table border=\"1\" class=\"dataframe\">\n",
              "  <thead>\n",
              "    <tr style=\"text-align: right;\">\n",
              "      <th></th>\n",
              "      <th>carryfying capacity</th>\n",
              "      <th>max velocity</th>\n",
              "      <th>travel range</th>\n",
              "      <th>engine power</th>\n",
              "      <th>engine torque</th>\n",
              "      <th>battery charging 100%</th>\n",
              "      <th>battery charging 80%</th>\n",
              "      <th>battery capacity</th>\n",
              "      <th>price</th>\n",
              "      <th>R</th>\n",
              "      <th>S</th>\n",
              "      <th>VIKOR index</th>\n",
              "      <th>rank</th>\n",
              "    </tr>\n",
              "  </thead>\n",
              "  <tbody>\n",
              "    <tr>\n",
              "      <th>0</th>\n",
              "      <td>3000</td>\n",
              "      <td>96</td>\n",
              "      <td>145</td>\n",
              "      <td>200</td>\n",
              "      <td>610</td>\n",
              "      <td>10.0</td>\n",
              "      <td>120</td>\n",
              "      <td>99.0</td>\n",
              "      <td>120.0</td>\n",
              "      <td>0.111</td>\n",
              "      <td>0.446</td>\n",
              "      <td>0.547</td>\n",
              "      <td>6.0</td>\n",
              "    </tr>\n",
              "    <tr>\n",
              "      <th>1</th>\n",
              "      <td>2000</td>\n",
              "      <td>100</td>\n",
              "      <td>145</td>\n",
              "      <td>200</td>\n",
              "      <td>610</td>\n",
              "      <td>10.0</td>\n",
              "      <td>120</td>\n",
              "      <td>99.0</td>\n",
              "      <td>90.0</td>\n",
              "      <td>0.111</td>\n",
              "      <td>0.452</td>\n",
              "      <td>0.555</td>\n",
              "      <td>5.0</td>\n",
              "    </tr>\n",
              "    <tr>\n",
              "      <th>2</th>\n",
              "      <td>705</td>\n",
              "      <td>120</td>\n",
              "      <td>170</td>\n",
              "      <td>80</td>\n",
              "      <td>270</td>\n",
              "      <td>4.0</td>\n",
              "      <td>30</td>\n",
              "      <td>24.0</td>\n",
              "      <td>25.0</td>\n",
              "      <td>0.096</td>\n",
              "      <td>0.414</td>\n",
              "      <td>0.062</td>\n",
              "      <td>10.0</td>\n",
              "    </tr>\n",
              "    <tr>\n",
              "      <th>3</th>\n",
              "      <td>613</td>\n",
              "      <td>140</td>\n",
              "      <td>180</td>\n",
              "      <td>140</td>\n",
              "      <td>400</td>\n",
              "      <td>8.0</td>\n",
              "      <td>40</td>\n",
              "      <td>24.2</td>\n",
              "      <td>50.0</td>\n",
              "      <td>0.100</td>\n",
              "      <td>0.428</td>\n",
              "      <td>0.199</td>\n",
              "      <td>9.0</td>\n",
              "    </tr>\n",
              "    <tr>\n",
              "      <th>4</th>\n",
              "      <td>350</td>\n",
              "      <td>100</td>\n",
              "      <td>110</td>\n",
              "      <td>30</td>\n",
              "      <td>196</td>\n",
              "      <td>4.5</td>\n",
              "      <td>15</td>\n",
              "      <td>10.5</td>\n",
              "      <td>12.9</td>\n",
              "      <td>0.111</td>\n",
              "      <td>0.579</td>\n",
              "      <td>0.717</td>\n",
              "      <td>4.0</td>\n",
              "    </tr>\n",
              "    <tr>\n",
              "      <th>5</th>\n",
              "      <td>350</td>\n",
              "      <td>100</td>\n",
              "      <td>100</td>\n",
              "      <td>30</td>\n",
              "      <td>196</td>\n",
              "      <td>4.5</td>\n",
              "      <td>15</td>\n",
              "      <td>10.5</td>\n",
              "      <td>15.5</td>\n",
              "      <td>0.111</td>\n",
              "      <td>0.596</td>\n",
              "      <td>0.738</td>\n",
              "      <td>2.0</td>\n",
              "    </tr>\n",
              "    <tr>\n",
              "      <th>6</th>\n",
              "      <td>350</td>\n",
              "      <td>100</td>\n",
              "      <td>150</td>\n",
              "      <td>30</td>\n",
              "      <td>196</td>\n",
              "      <td>7.0</td>\n",
              "      <td>35</td>\n",
              "      <td>16.0</td>\n",
              "      <td>18.7</td>\n",
              "      <td>0.111</td>\n",
              "      <td>0.589</td>\n",
              "      <td>0.729</td>\n",
              "      <td>3.0</td>\n",
              "    </tr>\n",
              "    <tr>\n",
              "      <th>7</th>\n",
              "      <td>635</td>\n",
              "      <td>110</td>\n",
              "      <td>170</td>\n",
              "      <td>49</td>\n",
              "      <td>200</td>\n",
              "      <td>8.0</td>\n",
              "      <td>35</td>\n",
              "      <td>22.5</td>\n",
              "      <td>31.5</td>\n",
              "      <td>0.099</td>\n",
              "      <td>0.549</td>\n",
              "      <td>0.323</td>\n",
              "      <td>8.0</td>\n",
              "    </tr>\n",
              "    <tr>\n",
              "      <th>8</th>\n",
              "      <td>340</td>\n",
              "      <td>150</td>\n",
              "      <td>160</td>\n",
              "      <td>110</td>\n",
              "      <td>500</td>\n",
              "      <td>6.0</td>\n",
              "      <td>10</td>\n",
              "      <td>35.0</td>\n",
              "      <td>45.0</td>\n",
              "      <td>0.111</td>\n",
              "      <td>0.365</td>\n",
              "      <td>0.444</td>\n",
              "      <td>7.0</td>\n",
              "    </tr>\n",
              "    <tr>\n",
              "      <th>9</th>\n",
              "      <td>750</td>\n",
              "      <td>57</td>\n",
              "      <td>110</td>\n",
              "      <td>10</td>\n",
              "      <td>80</td>\n",
              "      <td>8.0</td>\n",
              "      <td>120</td>\n",
              "      <td>35.0</td>\n",
              "      <td>24.4</td>\n",
              "      <td>0.111</td>\n",
              "      <td>0.802</td>\n",
              "      <td>1.000</td>\n",
              "      <td>1.0</td>\n",
              "    </tr>\n",
              "  </tbody>\n",
              "</table>\n",
              "</div>\n",
              "      <button class=\"colab-df-convert\" onclick=\"convertToInteractive('df-e062c82c-31e4-4ae0-b78a-7b9dd5e38981')\"\n",
              "              title=\"Convert this dataframe to an interactive table.\"\n",
              "              style=\"display:none;\">\n",
              "        \n",
              "  <svg xmlns=\"http://www.w3.org/2000/svg\" height=\"24px\"viewBox=\"0 0 24 24\"\n",
              "       width=\"24px\">\n",
              "    <path d=\"M0 0h24v24H0V0z\" fill=\"none\"/>\n",
              "    <path d=\"M18.56 5.44l.94 2.06.94-2.06 2.06-.94-2.06-.94-.94-2.06-.94 2.06-2.06.94zm-11 1L8.5 8.5l.94-2.06 2.06-.94-2.06-.94L8.5 2.5l-.94 2.06-2.06.94zm10 10l.94 2.06.94-2.06 2.06-.94-2.06-.94-.94-2.06-.94 2.06-2.06.94z\"/><path d=\"M17.41 7.96l-1.37-1.37c-.4-.4-.92-.59-1.43-.59-.52 0-1.04.2-1.43.59L10.3 9.45l-7.72 7.72c-.78.78-.78 2.05 0 2.83L4 21.41c.39.39.9.59 1.41.59.51 0 1.02-.2 1.41-.59l7.78-7.78 2.81-2.81c.8-.78.8-2.07 0-2.86zM5.41 20L4 18.59l7.72-7.72 1.47 1.35L5.41 20z\"/>\n",
              "  </svg>\n",
              "      </button>\n",
              "      \n",
              "  <style>\n",
              "    .colab-df-container {\n",
              "      display:flex;\n",
              "      flex-wrap:wrap;\n",
              "      gap: 12px;\n",
              "    }\n",
              "\n",
              "    .colab-df-convert {\n",
              "      background-color: #E8F0FE;\n",
              "      border: none;\n",
              "      border-radius: 50%;\n",
              "      cursor: pointer;\n",
              "      display: none;\n",
              "      fill: #1967D2;\n",
              "      height: 32px;\n",
              "      padding: 0 0 0 0;\n",
              "      width: 32px;\n",
              "    }\n",
              "\n",
              "    .colab-df-convert:hover {\n",
              "      background-color: #E2EBFA;\n",
              "      box-shadow: 0px 1px 2px rgba(60, 64, 67, 0.3), 0px 1px 3px 1px rgba(60, 64, 67, 0.15);\n",
              "      fill: #174EA6;\n",
              "    }\n",
              "\n",
              "    [theme=dark] .colab-df-convert {\n",
              "      background-color: #3B4455;\n",
              "      fill: #D2E3FC;\n",
              "    }\n",
              "\n",
              "    [theme=dark] .colab-df-convert:hover {\n",
              "      background-color: #434B5C;\n",
              "      box-shadow: 0px 1px 3px 1px rgba(0, 0, 0, 0.15);\n",
              "      filter: drop-shadow(0px 1px 2px rgba(0, 0, 0, 0.3));\n",
              "      fill: #FFFFFF;\n",
              "    }\n",
              "  </style>\n",
              "\n",
              "      <script>\n",
              "        const buttonEl =\n",
              "          document.querySelector('#df-e062c82c-31e4-4ae0-b78a-7b9dd5e38981 button.colab-df-convert');\n",
              "        buttonEl.style.display =\n",
              "          google.colab.kernel.accessAllowed ? 'block' : 'none';\n",
              "\n",
              "        async function convertToInteractive(key) {\n",
              "          const element = document.querySelector('#df-e062c82c-31e4-4ae0-b78a-7b9dd5e38981');\n",
              "          const dataTable =\n",
              "            await google.colab.kernel.invokeFunction('convertToInteractive',\n",
              "                                                     [key], {});\n",
              "          if (!dataTable) return;\n",
              "\n",
              "          const docLinkHtml = 'Like what you see? Visit the ' +\n",
              "            '<a target=\"_blank\" href=https://colab.research.google.com/notebooks/data_table.ipynb>data table notebook</a>'\n",
              "            + ' to learn more about interactive tables.';\n",
              "          element.innerHTML = '';\n",
              "          dataTable['output_type'] = 'display_data';\n",
              "          await google.colab.output.renderOutput(dataTable, element);\n",
              "          const docLink = document.createElement('div');\n",
              "          docLink.innerHTML = docLinkHtml;\n",
              "          element.appendChild(docLink);\n",
              "        }\n",
              "      </script>\n",
              "    </div>\n",
              "  </div>\n",
              "  "
            ]
          },
          "metadata": {},
          "execution_count": 24
        }
      ]
    },
    {
      "cell_type": "markdown",
      "source": [
        "3.   **WPM**\n"
      ],
      "metadata": {
        "id": "YJVIYOntkgYJ"
      }
    },
    {
      "cell_type": "code",
      "source": [
        "wpm_data = data_1.copy()"
      ],
      "metadata": {
        "id": "FlFQCySnknzb"
      },
      "execution_count": null,
      "outputs": []
    },
    {
      "cell_type": "code",
      "source": [
        "wpm(wpm_data, weights, types)"
      ],
      "metadata": {
        "id": "7fJza-X4kseF"
      },
      "execution_count": null,
      "outputs": []
    },
    {
      "cell_type": "code",
      "source": [
        "wpm_data"
      ],
      "metadata": {
        "colab": {
          "base_uri": "https://localhost:8080/",
          "height": 424
        },
        "id": "9sV6qi64lHw1",
        "outputId": "ab15e246-92ce-46dc-9103-9b3fe34b0838"
      },
      "execution_count": null,
      "outputs": [
        {
          "output_type": "execute_result",
          "data": {
            "text/plain": [
              "   carryfying capacity  max velocity  travel range  engine power  \\\n",
              "0             1.000000      0.951627      0.976264      1.000000   \n",
              "1             0.955952      0.955952      0.976264      1.000000   \n",
              "2             0.851384      0.975514      0.993670      0.903210   \n",
              "3             0.838260      0.992364      1.000000      0.961148   \n",
              "4             0.787658      0.955952      0.946756      0.809960   \n",
              "5             0.787658      0.955952      0.936783      0.809960   \n",
              "6             0.787658      0.955952      0.979948      0.809960   \n",
              "7             0.841550      0.966129      0.993670      0.855335   \n",
              "8             0.785126      1.000000      0.987000      0.935738   \n",
              "9             0.857257      0.898078      0.946756      0.716895   \n",
              "\n",
              "   engine torque  battery charging 100%  battery charging 80%  \\\n",
              "0       1.000000               0.903210              0.758757   \n",
              "1       1.000000               0.903210              0.758757   \n",
              "2       0.913428               1.000000              0.885099   \n",
              "3       0.954198               0.925882              0.857257   \n",
              "4       0.881494               0.987000              0.955952   \n",
              "5       0.881494               0.987000              0.955952   \n",
              "6       0.881494               0.939720              0.870070   \n",
              "7       0.883475               0.925882              0.870070   \n",
              "8       0.978150               0.955952              1.000000   \n",
              "9       0.797964               0.925882              0.758757   \n",
              "\n",
              "   battery capacity     price  wpm score  rank  \n",
              "0          1.000000  0.780530   0.496953   2.0  \n",
              "1          1.000000  0.805880   0.492722   3.0  \n",
              "2          0.854331  0.929128   0.478363   4.0  \n",
              "3          0.855120  0.860262   0.445455   5.0  \n",
              "4          0.779362  1.000000   0.374272   7.0  \n",
              "5          0.779362  0.979807   0.362852   8.0  \n",
              "6          0.816700  0.959588   0.337567   9.0  \n",
              "7          0.848228  0.905575   0.377776   6.0  \n",
              "8          0.890904  0.870391   0.525772   1.0  \n",
              "9          0.890904  0.931639   0.243130  10.0  "
            ],
            "text/html": [
              "\n",
              "  <div id=\"df-14190c0e-895b-4ec4-ba8a-1c4b3e66cc85\">\n",
              "    <div class=\"colab-df-container\">\n",
              "      <div>\n",
              "<style scoped>\n",
              "    .dataframe tbody tr th:only-of-type {\n",
              "        vertical-align: middle;\n",
              "    }\n",
              "\n",
              "    .dataframe tbody tr th {\n",
              "        vertical-align: top;\n",
              "    }\n",
              "\n",
              "    .dataframe thead th {\n",
              "        text-align: right;\n",
              "    }\n",
              "</style>\n",
              "<table border=\"1\" class=\"dataframe\">\n",
              "  <thead>\n",
              "    <tr style=\"text-align: right;\">\n",
              "      <th></th>\n",
              "      <th>carryfying capacity</th>\n",
              "      <th>max velocity</th>\n",
              "      <th>travel range</th>\n",
              "      <th>engine power</th>\n",
              "      <th>engine torque</th>\n",
              "      <th>battery charging 100%</th>\n",
              "      <th>battery charging 80%</th>\n",
              "      <th>battery capacity</th>\n",
              "      <th>price</th>\n",
              "      <th>wpm score</th>\n",
              "      <th>rank</th>\n",
              "    </tr>\n",
              "  </thead>\n",
              "  <tbody>\n",
              "    <tr>\n",
              "      <th>0</th>\n",
              "      <td>1.000000</td>\n",
              "      <td>0.951627</td>\n",
              "      <td>0.976264</td>\n",
              "      <td>1.000000</td>\n",
              "      <td>1.000000</td>\n",
              "      <td>0.903210</td>\n",
              "      <td>0.758757</td>\n",
              "      <td>1.000000</td>\n",
              "      <td>0.780530</td>\n",
              "      <td>0.496953</td>\n",
              "      <td>2.0</td>\n",
              "    </tr>\n",
              "    <tr>\n",
              "      <th>1</th>\n",
              "      <td>0.955952</td>\n",
              "      <td>0.955952</td>\n",
              "      <td>0.976264</td>\n",
              "      <td>1.000000</td>\n",
              "      <td>1.000000</td>\n",
              "      <td>0.903210</td>\n",
              "      <td>0.758757</td>\n",
              "      <td>1.000000</td>\n",
              "      <td>0.805880</td>\n",
              "      <td>0.492722</td>\n",
              "      <td>3.0</td>\n",
              "    </tr>\n",
              "    <tr>\n",
              "      <th>2</th>\n",
              "      <td>0.851384</td>\n",
              "      <td>0.975514</td>\n",
              "      <td>0.993670</td>\n",
              "      <td>0.903210</td>\n",
              "      <td>0.913428</td>\n",
              "      <td>1.000000</td>\n",
              "      <td>0.885099</td>\n",
              "      <td>0.854331</td>\n",
              "      <td>0.929128</td>\n",
              "      <td>0.478363</td>\n",
              "      <td>4.0</td>\n",
              "    </tr>\n",
              "    <tr>\n",
              "      <th>3</th>\n",
              "      <td>0.838260</td>\n",
              "      <td>0.992364</td>\n",
              "      <td>1.000000</td>\n",
              "      <td>0.961148</td>\n",
              "      <td>0.954198</td>\n",
              "      <td>0.925882</td>\n",
              "      <td>0.857257</td>\n",
              "      <td>0.855120</td>\n",
              "      <td>0.860262</td>\n",
              "      <td>0.445455</td>\n",
              "      <td>5.0</td>\n",
              "    </tr>\n",
              "    <tr>\n",
              "      <th>4</th>\n",
              "      <td>0.787658</td>\n",
              "      <td>0.955952</td>\n",
              "      <td>0.946756</td>\n",
              "      <td>0.809960</td>\n",
              "      <td>0.881494</td>\n",
              "      <td>0.987000</td>\n",
              "      <td>0.955952</td>\n",
              "      <td>0.779362</td>\n",
              "      <td>1.000000</td>\n",
              "      <td>0.374272</td>\n",
              "      <td>7.0</td>\n",
              "    </tr>\n",
              "    <tr>\n",
              "      <th>5</th>\n",
              "      <td>0.787658</td>\n",
              "      <td>0.955952</td>\n",
              "      <td>0.936783</td>\n",
              "      <td>0.809960</td>\n",
              "      <td>0.881494</td>\n",
              "      <td>0.987000</td>\n",
              "      <td>0.955952</td>\n",
              "      <td>0.779362</td>\n",
              "      <td>0.979807</td>\n",
              "      <td>0.362852</td>\n",
              "      <td>8.0</td>\n",
              "    </tr>\n",
              "    <tr>\n",
              "      <th>6</th>\n",
              "      <td>0.787658</td>\n",
              "      <td>0.955952</td>\n",
              "      <td>0.979948</td>\n",
              "      <td>0.809960</td>\n",
              "      <td>0.881494</td>\n",
              "      <td>0.939720</td>\n",
              "      <td>0.870070</td>\n",
              "      <td>0.816700</td>\n",
              "      <td>0.959588</td>\n",
              "      <td>0.337567</td>\n",
              "      <td>9.0</td>\n",
              "    </tr>\n",
              "    <tr>\n",
              "      <th>7</th>\n",
              "      <td>0.841550</td>\n",
              "      <td>0.966129</td>\n",
              "      <td>0.993670</td>\n",
              "      <td>0.855335</td>\n",
              "      <td>0.883475</td>\n",
              "      <td>0.925882</td>\n",
              "      <td>0.870070</td>\n",
              "      <td>0.848228</td>\n",
              "      <td>0.905575</td>\n",
              "      <td>0.377776</td>\n",
              "      <td>6.0</td>\n",
              "    </tr>\n",
              "    <tr>\n",
              "      <th>8</th>\n",
              "      <td>0.785126</td>\n",
              "      <td>1.000000</td>\n",
              "      <td>0.987000</td>\n",
              "      <td>0.935738</td>\n",
              "      <td>0.978150</td>\n",
              "      <td>0.955952</td>\n",
              "      <td>1.000000</td>\n",
              "      <td>0.890904</td>\n",
              "      <td>0.870391</td>\n",
              "      <td>0.525772</td>\n",
              "      <td>1.0</td>\n",
              "    </tr>\n",
              "    <tr>\n",
              "      <th>9</th>\n",
              "      <td>0.857257</td>\n",
              "      <td>0.898078</td>\n",
              "      <td>0.946756</td>\n",
              "      <td>0.716895</td>\n",
              "      <td>0.797964</td>\n",
              "      <td>0.925882</td>\n",
              "      <td>0.758757</td>\n",
              "      <td>0.890904</td>\n",
              "      <td>0.931639</td>\n",
              "      <td>0.243130</td>\n",
              "      <td>10.0</td>\n",
              "    </tr>\n",
              "  </tbody>\n",
              "</table>\n",
              "</div>\n",
              "      <button class=\"colab-df-convert\" onclick=\"convertToInteractive('df-14190c0e-895b-4ec4-ba8a-1c4b3e66cc85')\"\n",
              "              title=\"Convert this dataframe to an interactive table.\"\n",
              "              style=\"display:none;\">\n",
              "        \n",
              "  <svg xmlns=\"http://www.w3.org/2000/svg\" height=\"24px\"viewBox=\"0 0 24 24\"\n",
              "       width=\"24px\">\n",
              "    <path d=\"M0 0h24v24H0V0z\" fill=\"none\"/>\n",
              "    <path d=\"M18.56 5.44l.94 2.06.94-2.06 2.06-.94-2.06-.94-.94-2.06-.94 2.06-2.06.94zm-11 1L8.5 8.5l.94-2.06 2.06-.94-2.06-.94L8.5 2.5l-.94 2.06-2.06.94zm10 10l.94 2.06.94-2.06 2.06-.94-2.06-.94-.94-2.06-.94 2.06-2.06.94z\"/><path d=\"M17.41 7.96l-1.37-1.37c-.4-.4-.92-.59-1.43-.59-.52 0-1.04.2-1.43.59L10.3 9.45l-7.72 7.72c-.78.78-.78 2.05 0 2.83L4 21.41c.39.39.9.59 1.41.59.51 0 1.02-.2 1.41-.59l7.78-7.78 2.81-2.81c.8-.78.8-2.07 0-2.86zM5.41 20L4 18.59l7.72-7.72 1.47 1.35L5.41 20z\"/>\n",
              "  </svg>\n",
              "      </button>\n",
              "      \n",
              "  <style>\n",
              "    .colab-df-container {\n",
              "      display:flex;\n",
              "      flex-wrap:wrap;\n",
              "      gap: 12px;\n",
              "    }\n",
              "\n",
              "    .colab-df-convert {\n",
              "      background-color: #E8F0FE;\n",
              "      border: none;\n",
              "      border-radius: 50%;\n",
              "      cursor: pointer;\n",
              "      display: none;\n",
              "      fill: #1967D2;\n",
              "      height: 32px;\n",
              "      padding: 0 0 0 0;\n",
              "      width: 32px;\n",
              "    }\n",
              "\n",
              "    .colab-df-convert:hover {\n",
              "      background-color: #E2EBFA;\n",
              "      box-shadow: 0px 1px 2px rgba(60, 64, 67, 0.3), 0px 1px 3px 1px rgba(60, 64, 67, 0.15);\n",
              "      fill: #174EA6;\n",
              "    }\n",
              "\n",
              "    [theme=dark] .colab-df-convert {\n",
              "      background-color: #3B4455;\n",
              "      fill: #D2E3FC;\n",
              "    }\n",
              "\n",
              "    [theme=dark] .colab-df-convert:hover {\n",
              "      background-color: #434B5C;\n",
              "      box-shadow: 0px 1px 3px 1px rgba(0, 0, 0, 0.15);\n",
              "      filter: drop-shadow(0px 1px 2px rgba(0, 0, 0, 0.3));\n",
              "      fill: #FFFFFF;\n",
              "    }\n",
              "  </style>\n",
              "\n",
              "      <script>\n",
              "        const buttonEl =\n",
              "          document.querySelector('#df-14190c0e-895b-4ec4-ba8a-1c4b3e66cc85 button.colab-df-convert');\n",
              "        buttonEl.style.display =\n",
              "          google.colab.kernel.accessAllowed ? 'block' : 'none';\n",
              "\n",
              "        async function convertToInteractive(key) {\n",
              "          const element = document.querySelector('#df-14190c0e-895b-4ec4-ba8a-1c4b3e66cc85');\n",
              "          const dataTable =\n",
              "            await google.colab.kernel.invokeFunction('convertToInteractive',\n",
              "                                                     [key], {});\n",
              "          if (!dataTable) return;\n",
              "\n",
              "          const docLinkHtml = 'Like what you see? Visit the ' +\n",
              "            '<a target=\"_blank\" href=https://colab.research.google.com/notebooks/data_table.ipynb>data table notebook</a>'\n",
              "            + ' to learn more about interactive tables.';\n",
              "          element.innerHTML = '';\n",
              "          dataTable['output_type'] = 'display_data';\n",
              "          await google.colab.output.renderOutput(dataTable, element);\n",
              "          const docLink = document.createElement('div');\n",
              "          docLink.innerHTML = docLinkHtml;\n",
              "          element.appendChild(docLink);\n",
              "        }\n",
              "      </script>\n",
              "    </div>\n",
              "  </div>\n",
              "  "
            ]
          },
          "metadata": {},
          "execution_count": 93
        }
      ]
    },
    {
      "cell_type": "markdown",
      "source": [
        "**Comparaison des methodes**"
      ],
      "metadata": {
        "id": "l69ien04lNYL"
      }
    },
    {
      "cell_type": "code",
      "source": [
        "a = [f'A{i+1}' for i in range(10)]\n",
        "b = topsis_data['rank'].to_numpy()\n",
        "c = vikor_data['rank'].to_numpy()\n",
        "d = wpm_data['rank'].to_numpy()\n",
        "t = Table([a, b, c, d], names=('alternatives', 'TOPSIS', 'VIKOR', 'WPM'))\n",
        "t"
      ],
      "metadata": {
        "colab": {
          "base_uri": "https://localhost:8080/",
          "height": 293
        },
        "id": "ULecxk6Tl9KD",
        "outputId": "8527a092-f272-4827-9995-6d80c48e2944"
      },
      "execution_count": null,
      "outputs": [
        {
          "output_type": "execute_result",
          "data": {
            "text/plain": [
              "<Table length=10>\n",
              "alternatives  TOPSIS  VIKOR    WPM  \n",
              "    str3     float64 float64 float64\n",
              "------------ ------- ------- -------\n",
              "          A1     3.0     6.0     2.0\n",
              "          A2     4.0     5.0     3.0\n",
              "          A3     5.0    10.0     4.0\n",
              "          A4     1.0     9.0     5.0\n",
              "          A5     8.0     4.0     7.0\n",
              "          A6     7.0     2.0     8.0\n",
              "          A7     9.0     3.0     9.0\n",
              "          A8     6.0     8.0     6.0\n",
              "          A9     2.0     7.0     1.0\n",
              "         A10    10.0     1.0    10.0"
            ],
            "text/html": [
              "<div><i>Table length=10</i>\n",
              "<table id=\"table139943815530832\" class=\"table-striped table-bordered table-condensed\">\n",
              "<thead><tr><th>alternatives</th><th>TOPSIS</th><th>VIKOR</th><th>WPM</th></tr></thead>\n",
              "<thead><tr><th>str3</th><th>float64</th><th>float64</th><th>float64</th></tr></thead>\n",
              "<tr><td>A1</td><td>3.0</td><td>6.0</td><td>2.0</td></tr>\n",
              "<tr><td>A2</td><td>4.0</td><td>5.0</td><td>3.0</td></tr>\n",
              "<tr><td>A3</td><td>5.0</td><td>10.0</td><td>4.0</td></tr>\n",
              "<tr><td>A4</td><td>1.0</td><td>9.0</td><td>5.0</td></tr>\n",
              "<tr><td>A5</td><td>8.0</td><td>4.0</td><td>7.0</td></tr>\n",
              "<tr><td>A6</td><td>7.0</td><td>2.0</td><td>8.0</td></tr>\n",
              "<tr><td>A7</td><td>9.0</td><td>3.0</td><td>9.0</td></tr>\n",
              "<tr><td>A8</td><td>6.0</td><td>8.0</td><td>6.0</td></tr>\n",
              "<tr><td>A9</td><td>2.0</td><td>7.0</td><td>1.0</td></tr>\n",
              "<tr><td>A10</td><td>10.0</td><td>1.0</td><td>10.0</td></tr>\n",
              "</table></div>"
            ]
          },
          "metadata": {},
          "execution_count": 28
        }
      ]
    },
    {
      "cell_type": "markdown",
      "source": [
        "Cosine  similarity"
      ],
      "metadata": {
        "id": "rMkzDALVmRHw"
      }
    },
    {
      "cell_type": "code",
      "source": [
        "CS = []\n",
        "# topsis vs vikor\n",
        "CS.append(np.dot(b,c)/(norm(b)*norm(c)))\n",
        "# topsis vs wpm\n",
        "CS.append(np.dot(b,d)/(norm(b)*norm(d)))\n",
        "# vikor vs wpm\n",
        "CS.append(np.dot(c,d)/(norm(c)*norm(d)))"
      ],
      "metadata": {
        "id": "uwbAXpWymTDb"
      },
      "execution_count": null,
      "outputs": []
    },
    {
      "cell_type": "code",
      "source": [
        "a = ['topsis & vikor', 'topsis & wpm', 'vikor & wpm']\n",
        "t2 = Table([a, CS], names=('methodes', 'Cosine similarity'))\n",
        "t2"
      ],
      "metadata": {
        "colab": {
          "base_uri": "https://localhost:8080/",
          "height": 143
        },
        "id": "LUWnfx1tn07N",
        "outputId": "f0d408e0-474e-4f0b-8006-572888d5551a"
      },
      "execution_count": null,
      "outputs": [
        {
          "output_type": "execute_result",
          "data": {
            "text/plain": [
              "<Table length=3>\n",
              "   methodes    Cosine similarity \n",
              "    str14           float64      \n",
              "-------------- ------------------\n",
              "topsis & vikor 0.6285714285714287\n",
              "  topsis & wpm 0.9714285714285715\n",
              "   vikor & wpm 0.6441558441558443"
            ],
            "text/html": [
              "<div><i>Table length=3</i>\n",
              "<table id=\"table139943815528656\" class=\"table-striped table-bordered table-condensed\">\n",
              "<thead><tr><th>methodes</th><th>Cosine similarity</th></tr></thead>\n",
              "<thead><tr><th>str14</th><th>float64</th></tr></thead>\n",
              "<tr><td>topsis &amp; vikor</td><td>0.6285714285714287</td></tr>\n",
              "<tr><td>topsis &amp; wpm</td><td>0.9714285714285715</td></tr>\n",
              "<tr><td>vikor &amp; wpm</td><td>0.6441558441558443</td></tr>\n",
              "</table></div>"
            ]
          },
          "metadata": {},
          "execution_count": 30
        }
      ]
    },
    {
      "cell_type": "markdown",
      "source": [
        "Calcul de coefficient de Kendall"
      ],
      "metadata": {
        "id": "5DJ0izsFARj5"
      }
    },
    {
      "cell_type": "code",
      "source": [
        "Kt = []\n",
        "# topsis vs vikor\n",
        "Kt.append(stats.kendalltau(b, c)[0])\n",
        "# topsis vs wpm\n",
        "Kt.append(stats.kendalltau(b, d)[0])\n",
        "# vikor vs wpm\n",
        "Kt.append(stats.kendalltau(c, d)[0])"
      ],
      "metadata": {
        "id": "mxlE2iF2AVPO"
      },
      "execution_count": null,
      "outputs": []
    },
    {
      "cell_type": "code",
      "source": [
        "a = ['topsis & vikor', 'topsis & wpm', 'vikor & wpm']\n",
        "t3 = Table([a, Kt], names=('methodes', 'Kendall’s tau'))\n",
        "t3"
      ],
      "metadata": {
        "colab": {
          "base_uri": "https://localhost:8080/",
          "height": 143
        },
        "id": "19FkpqaqBzfU",
        "outputId": "e962936c-29fc-42f7-fa95-6bb7bc340f58"
      },
      "execution_count": null,
      "outputs": [
        {
          "output_type": "execute_result",
          "data": {
            "text/plain": [
              "<Table length=3>\n",
              "   methodes       Kendall’s tau   \n",
              "    str14            float64      \n",
              "-------------- -------------------\n",
              "topsis & vikor                -0.6\n",
              "  topsis & wpm  0.7777777777777777\n",
              "   vikor & wpm -0.5555555555555555"
            ],
            "text/html": [
              "<div><i>Table length=3</i>\n",
              "<table id=\"table139943815531664\" class=\"table-striped table-bordered table-condensed\">\n",
              "<thead><tr><th>methodes</th><th>Kendall’s tau</th></tr></thead>\n",
              "<thead><tr><th>str14</th><th>float64</th></tr></thead>\n",
              "<tr><td>topsis &amp; vikor</td><td>-0.6</td></tr>\n",
              "<tr><td>topsis &amp; wpm</td><td>0.7777777777777777</td></tr>\n",
              "<tr><td>vikor &amp; wpm</td><td>-0.5555555555555555</td></tr>\n",
              "</table></div>"
            ]
          },
          "metadata": {},
          "execution_count": 32
        }
      ]
    },
    {
      "cell_type": "markdown",
      "source": [
        "Calcul de coefficient de Spearman"
      ],
      "metadata": {
        "id": "KgV8Tq-dCFdw"
      }
    },
    {
      "cell_type": "code",
      "source": [
        "Sr = []\n",
        "# topsis vs vikor\n",
        "Sr.append(stats.spearmanr(b, c)[0])\n",
        "# topsis vs wpm\n",
        "Sr.append(stats.spearmanr(b, d)[0])\n",
        "# vikor vs wpm\n",
        "Sr.append(stats.spearmanr(c, d)[0])"
      ],
      "metadata": {
        "id": "eIMsPmOkCMPC"
      },
      "execution_count": null,
      "outputs": []
    },
    {
      "cell_type": "code",
      "source": [
        "a = ['topsis & vikor', 'topsis & wpm', 'vikor & wpm']\n",
        "t4 = Table([a, Sr], names=('methodes', 'Spearman’s rho'))\n",
        "t4"
      ],
      "metadata": {
        "colab": {
          "base_uri": "https://localhost:8080/",
          "height": 143
        },
        "id": "7L2IyY8SCkVX",
        "outputId": "68d7eafb-b696-4305-9653-65fe0483a547"
      },
      "execution_count": null,
      "outputs": [
        {
          "output_type": "execute_result",
          "data": {
            "text/plain": [
              "<Table length=3>\n",
              "   methodes       Spearman’s rho  \n",
              "    str14            float64      \n",
              "-------------- -------------------\n",
              "topsis & vikor -0.7333333333333332\n",
              "  topsis & wpm  0.8666666666666665\n",
              "   vikor & wpm -0.6606060606060605"
            ],
            "text/html": [
              "<div><i>Table length=3</i>\n",
              "<table id=\"table139943815542608\" class=\"table-striped table-bordered table-condensed\">\n",
              "<thead><tr><th>methodes</th><th>Spearman’s rho</th></tr></thead>\n",
              "<thead><tr><th>str14</th><th>float64</th></tr></thead>\n",
              "<tr><td>topsis &amp; vikor</td><td>-0.7333333333333332</td></tr>\n",
              "<tr><td>topsis &amp; wpm</td><td>0.8666666666666665</td></tr>\n",
              "<tr><td>vikor &amp; wpm</td><td>-0.6606060606060605</td></tr>\n",
              "</table></div>"
            ]
          },
          "metadata": {},
          "execution_count": 34
        }
      ]
    },
    {
      "cell_type": "markdown",
      "source": [
        "Temps d'execution"
      ],
      "metadata": {
        "id": "247a_2wXpMEc"
      }
    },
    {
      "cell_type": "code",
      "source": [
        "a_t = [0.419,0.007,1.149]\n",
        "b = ['topsis', 'vikor', 'wpm']\n",
        "plt.plot(b,a_t)\n",
        "plt.ylabel('temps en secondes')\n",
        "plt.xlabel('methodes')\n",
        "plt.title(\"comparaison de temps d'execution\")\n",
        "plt.show()"
      ],
      "metadata": {
        "colab": {
          "base_uri": "https://localhost:8080/",
          "height": 295
        },
        "id": "wU8zOLZspOfi",
        "outputId": "ef9bc68c-0450-43ee-b99d-ca06e160274f"
      },
      "execution_count": null,
      "outputs": [
        {
          "output_type": "display_data",
          "data": {
            "text/plain": [
              "<Figure size 432x288 with 1 Axes>"
            ],
            "image/png": "[encoded data removed]"
          },
          "metadata": {
            "needs_background": "light"
          }
        }
      ]
    },
    {
      "cell_type": "markdown",
      "source": [
        "####**Cas 2: 10 alternatives et 4 criteres**"
      ],
      "metadata": {
        "id": "-1QATUlcD_Fh"
      }
    },
    {
      "cell_type": "markdown",
      "source": [
        "Determination de Dataframe"
      ],
      "metadata": {
        "id": "b2igNzqKEQLi"
      }
    },
    {
      "cell_type": "code",
      "source": [
        "data_2 = dataframe[dataframe.columns[8:]]\n",
        "data_2.head()"
      ],
      "metadata": {
        "colab": {
          "base_uri": "https://localhost:8080/",
          "height": 206
        },
        "id": "V2LpiPDCEhWZ",
        "outputId": "caf62edb-03c0-490e-d4b8-b7812c2286ab"
      },
      "execution_count": null,
      "outputs": [
        {
          "output_type": "execute_result",
          "data": {
            "text/plain": [
              "   battery charging 100%  battery charging 80%  battery capacity  price\n",
              "0                   10.0                   120              99.0  120.0\n",
              "1                   10.0                   120              99.0   90.0\n",
              "2                    4.0                    30              24.0   25.0\n",
              "3                    8.0                    40              24.2   50.0\n",
              "4                    4.5                    15              10.5   12.9"
            ],
            "text/html": [
              "\n",
              "  <div id=\"df-bf186443-713b-46b5-b5c3-92f11d94275a\">\n",
              "    <div class=\"colab-df-container\">\n",
              "      <div>\n",
              "<style scoped>\n",
              "    .dataframe tbody tr th:only-of-type {\n",
              "        vertical-align: middle;\n",
              "    }\n",
              "\n",
              "    .dataframe tbody tr th {\n",
              "        vertical-align: top;\n",
              "    }\n",
              "\n",
              "    .dataframe thead th {\n",
              "        text-align: right;\n",
              "    }\n",
              "</style>\n",
              "<table border=\"1\" class=\"dataframe\">\n",
              "  <thead>\n",
              "    <tr style=\"text-align: right;\">\n",
              "      <th></th>\n",
              "      <th>battery charging 100%</th>\n",
              "      <th>battery charging 80%</th>\n",
              "      <th>battery capacity</th>\n",
              "      <th>price</th>\n",
              "    </tr>\n",
              "  </thead>\n",
              "  <tbody>\n",
              "    <tr>\n",
              "      <th>0</th>\n",
              "      <td>10.0</td>\n",
              "      <td>120</td>\n",
              "      <td>99.0</td>\n",
              "      <td>120.0</td>\n",
              "    </tr>\n",
              "    <tr>\n",
              "      <th>1</th>\n",
              "      <td>10.0</td>\n",
              "      <td>120</td>\n",
              "      <td>99.0</td>\n",
              "      <td>90.0</td>\n",
              "    </tr>\n",
              "    <tr>\n",
              "      <th>2</th>\n",
              "      <td>4.0</td>\n",
              "      <td>30</td>\n",
              "      <td>24.0</td>\n",
              "      <td>25.0</td>\n",
              "    </tr>\n",
              "    <tr>\n",
              "      <th>3</th>\n",
              "      <td>8.0</td>\n",
              "      <td>40</td>\n",
              "      <td>24.2</td>\n",
              "      <td>50.0</td>\n",
              "    </tr>\n",
              "    <tr>\n",
              "      <th>4</th>\n",
              "      <td>4.5</td>\n",
              "      <td>15</td>\n",
              "      <td>10.5</td>\n",
              "      <td>12.9</td>\n",
              "    </tr>\n",
              "  </tbody>\n",
              "</table>\n",
              "</div>\n",
              "      <button class=\"colab-df-convert\" onclick=\"convertToInteractive('df-bf186443-713b-46b5-b5c3-92f11d94275a')\"\n",
              "              title=\"Convert this dataframe to an interactive table.\"\n",
              "              style=\"display:none;\">\n",
              "        \n",
              "  <svg xmlns=\"http://www.w3.org/2000/svg\" height=\"24px\"viewBox=\"0 0 24 24\"\n",
              "       width=\"24px\">\n",
              "    <path d=\"M0 0h24v24H0V0z\" fill=\"none\"/>\n",
              "    <path d=\"M18.56 5.44l.94 2.06.94-2.06 2.06-.94-2.06-.94-.94-2.06-.94 2.06-2.06.94zm-11 1L8.5 8.5l.94-2.06 2.06-.94-2.06-.94L8.5 2.5l-.94 2.06-2.06.94zm10 10l.94 2.06.94-2.06 2.06-.94-2.06-.94-.94-2.06-.94 2.06-2.06.94z\"/><path d=\"M17.41 7.96l-1.37-1.37c-.4-.4-.92-.59-1.43-.59-.52 0-1.04.2-1.43.59L10.3 9.45l-7.72 7.72c-.78.78-.78 2.05 0 2.83L4 21.41c.39.39.9.59 1.41.59.51 0 1.02-.2 1.41-.59l7.78-7.78 2.81-2.81c.8-.78.8-2.07 0-2.86zM5.41 20L4 18.59l7.72-7.72 1.47 1.35L5.41 20z\"/>\n",
              "  </svg>\n",
              "      </button>\n",
              "      \n",
              "  <style>\n",
              "    .colab-df-container {\n",
              "      display:flex;\n",
              "      flex-wrap:wrap;\n",
              "      gap: 12px;\n",
              "    }\n",
              "\n",
              "    .colab-df-convert {\n",
              "      background-color: #E8F0FE;\n",
              "      border: none;\n",
              "      border-radius: 50%;\n",
              "      cursor: pointer;\n",
              "      display: none;\n",
              "      fill: #1967D2;\n",
              "      height: 32px;\n",
              "      padding: 0 0 0 0;\n",
              "      width: 32px;\n",
              "    }\n",
              "\n",
              "    .colab-df-convert:hover {\n",
              "      background-color: #E2EBFA;\n",
              "      box-shadow: 0px 1px 2px rgba(60, 64, 67, 0.3), 0px 1px 3px 1px rgba(60, 64, 67, 0.15);\n",
              "      fill: #174EA6;\n",
              "    }\n",
              "\n",
              "    [theme=dark] .colab-df-convert {\n",
              "      background-color: #3B4455;\n",
              "      fill: #D2E3FC;\n",
              "    }\n",
              "\n",
              "    [theme=dark] .colab-df-convert:hover {\n",
              "      background-color: #434B5C;\n",
              "      box-shadow: 0px 1px 3px 1px rgba(0, 0, 0, 0.15);\n",
              "      filter: drop-shadow(0px 1px 2px rgba(0, 0, 0, 0.3));\n",
              "      fill: #FFFFFF;\n",
              "    }\n",
              "  </style>\n",
              "\n",
              "      <script>\n",
              "        const buttonEl =\n",
              "          document.querySelector('#df-bf186443-713b-46b5-b5c3-92f11d94275a button.colab-df-convert');\n",
              "        buttonEl.style.display =\n",
              "          google.colab.kernel.accessAllowed ? 'block' : 'none';\n",
              "\n",
              "        async function convertToInteractive(key) {\n",
              "          const element = document.querySelector('#df-bf186443-713b-46b5-b5c3-92f11d94275a');\n",
              "          const dataTable =\n",
              "            await google.colab.kernel.invokeFunction('convertToInteractive',\n",
              "                                                     [key], {});\n",
              "          if (!dataTable) return;\n",
              "\n",
              "          const docLinkHtml = 'Like what you see? Visit the ' +\n",
              "            '<a target=\"_blank\" href=https://colab.research.google.com/notebooks/data_table.ipynb>data table notebook</a>'\n",
              "            + ' to learn more about interactive tables.';\n",
              "          element.innerHTML = '';\n",
              "          dataTable['output_type'] = 'display_data';\n",
              "          await google.colab.output.renderOutput(dataTable, element);\n",
              "          const docLink = document.createElement('div');\n",
              "          docLink.innerHTML = docLinkHtml;\n",
              "          element.appendChild(docLink);\n",
              "        }\n",
              "      </script>\n",
              "    </div>\n",
              "  </div>\n",
              "  "
            ]
          },
          "metadata": {},
          "execution_count": 36
        }
      ]
    },
    {
      "cell_type": "markdown",
      "source": [
        "Types"
      ],
      "metadata": {
        "id": "DeTsQGfdFY1f"
      }
    },
    {
      "cell_type": "code",
      "source": [
        "types_2 = np.array([-1, -1, 1, -1])"
      ],
      "metadata": {
        "id": "D6SjcRrxFayX"
      },
      "execution_count": null,
      "outputs": []
    },
    {
      "cell_type": "markdown",
      "source": [
        "Weights"
      ],
      "metadata": {
        "id": "tbM07vDMFf92"
      }
    },
    {
      "cell_type": "code",
      "source": [
        "weights_2 = np.array([0.1111, 0.1111, 0.1111, 0.1111])"
      ],
      "metadata": {
        "id": "2U68rN9HFhEY"
      },
      "execution_count": null,
      "outputs": []
    },
    {
      "cell_type": "markdown",
      "source": [
        "UTilisation des methodes deja implementes"
      ],
      "metadata": {
        "id": "wkFJrRF8E4-H"
      }
    },
    {
      "cell_type": "markdown",
      "source": [
        "1.   **TOPSIS**"
      ],
      "metadata": {
        "id": "ahFZ06udE8-l"
      }
    },
    {
      "cell_type": "code",
      "source": [
        "topsis_data2 = data_2.copy()"
      ],
      "metadata": {
        "id": "LvvlzCJQFBgW"
      },
      "execution_count": null,
      "outputs": []
    },
    {
      "cell_type": "code",
      "source": [
        "topsis(topsis_data2, weights_2, types_2)"
      ],
      "metadata": {
        "id": "Ap3v2dJOFGlf"
      },
      "execution_count": null,
      "outputs": []
    },
    {
      "cell_type": "code",
      "source": [
        "topsis_data2"
      ],
      "metadata": {
        "colab": {
          "base_uri": "https://localhost:8080/",
          "height": 407
        },
        "id": "ItcGtLhYGMF3",
        "outputId": "37c05478-daf3-4b3c-97b1-495803e6e9eb"
      },
      "execution_count": null,
      "outputs": [
        {
          "output_type": "execute_result",
          "data": {
            "text/plain": [
              "   battery charging 100%  battery charging 80%  battery capacity     price  \\\n",
              "0                   10.0              0.060413          0.070709  0.076980   \n",
              "1                   10.0              0.060413          0.070709  0.057735   \n",
              "2                    4.0              0.015103          0.017142  0.016038   \n",
              "3                    8.0              0.020138          0.017284  0.032075   \n",
              "4                    4.5              0.007552          0.007499  0.008275   \n",
              "5                    4.5              0.007552          0.007499  0.009943   \n",
              "6                    7.0              0.017620          0.011428  0.011996   \n",
              "7                    8.0              0.017620          0.016070  0.020207   \n",
              "8                    6.0              0.005034          0.024998  0.028868   \n",
              "9                    8.0              0.060413          0.024998  0.015653   \n",
              "\n",
              "   distance positive  distance negative  Topsis Score  rank  \n",
              "0           0.084037           0.068705      0.449810   8.0  \n",
              "1           0.086213           0.049460      0.364553   9.0  \n",
              "2           0.062517           0.070588      0.530320   6.0  \n",
              "3           0.048377           0.071012      0.594796   1.0  \n",
              "4           0.068751           0.082400      0.545151   4.0  \n",
              "5           0.067084           0.082417      0.551280   3.0  \n",
              "6           0.066308           0.073207      0.524726   7.0  \n",
              "7           0.058779           0.070420      0.545049   5.0  \n",
              "8           0.051196           0.074701      0.593352   2.0  \n",
              "9           0.084463           0.046302      0.354086  10.0  "
            ],
            "text/html": [
              "\n",
              "  <div id=\"df-37179d3c-ef73-4045-8e46-65e3b9eef3e8\">\n",
              "    <div class=\"colab-df-container\">\n",
              "      <div>\n",
              "<style scoped>\n",
              "    .dataframe tbody tr th:only-of-type {\n",
              "        vertical-align: middle;\n",
              "    }\n",
              "\n",
              "    .dataframe tbody tr th {\n",
              "        vertical-align: top;\n",
              "    }\n",
              "\n",
              "    .dataframe thead th {\n",
              "        text-align: right;\n",
              "    }\n",
              "</style>\n",
              "<table border=\"1\" class=\"dataframe\">\n",
              "  <thead>\n",
              "    <tr style=\"text-align: right;\">\n",
              "      <th></th>\n",
              "      <th>battery charging 100%</th>\n",
              "      <th>battery charging 80%</th>\n",
              "      <th>battery capacity</th>\n",
              "      <th>price</th>\n",
              "      <th>distance positive</th>\n",
              "      <th>distance negative</th>\n",
              "      <th>Topsis Score</th>\n",
              "      <th>rank</th>\n",
              "    </tr>\n",
              "  </thead>\n",
              "  <tbody>\n",
              "    <tr>\n",
              "      <th>0</th>\n",
              "      <td>10.0</td>\n",
              "      <td>0.060413</td>\n",
              "      <td>0.070709</td>\n",
              "      <td>0.076980</td>\n",
              "      <td>0.084037</td>\n",
              "      <td>0.068705</td>\n",
              "      <td>0.449810</td>\n",
              "      <td>8.0</td>\n",
              "    </tr>\n",
              "    <tr>\n",
              "      <th>1</th>\n",
              "      <td>10.0</td>\n",
              "      <td>0.060413</td>\n",
              "      <td>0.070709</td>\n",
              "      <td>0.057735</td>\n",
              "      <td>0.086213</td>\n",
              "      <td>0.049460</td>\n",
              "      <td>0.364553</td>\n",
              "      <td>9.0</td>\n",
              "    </tr>\n",
              "    <tr>\n",
              "      <th>2</th>\n",
              "      <td>4.0</td>\n",
              "      <td>0.015103</td>\n",
              "      <td>0.017142</td>\n",
              "      <td>0.016038</td>\n",
              "      <td>0.062517</td>\n",
              "      <td>0.070588</td>\n",
              "      <td>0.530320</td>\n",
              "      <td>6.0</td>\n",
              "    </tr>\n",
              "    <tr>\n",
              "      <th>3</th>\n",
              "      <td>8.0</td>\n",
              "      <td>0.020138</td>\n",
              "      <td>0.017284</td>\n",
              "      <td>0.032075</td>\n",
              "      <td>0.048377</td>\n",
              "      <td>0.071012</td>\n",
              "      <td>0.594796</td>\n",
              "      <td>1.0</td>\n",
              "    </tr>\n",
              "    <tr>\n",
              "      <th>4</th>\n",
              "      <td>4.5</td>\n",
              "      <td>0.007552</td>\n",
              "      <td>0.007499</td>\n",
              "      <td>0.008275</td>\n",
              "      <td>0.068751</td>\n",
              "      <td>0.082400</td>\n",
              "      <td>0.545151</td>\n",
              "      <td>4.0</td>\n",
              "    </tr>\n",
              "    <tr>\n",
              "      <th>5</th>\n",
              "      <td>4.5</td>\n",
              "      <td>0.007552</td>\n",
              "      <td>0.007499</td>\n",
              "      <td>0.009943</td>\n",
              "      <td>0.067084</td>\n",
              "      <td>0.082417</td>\n",
              "      <td>0.551280</td>\n",
              "      <td>3.0</td>\n",
              "    </tr>\n",
              "    <tr>\n",
              "      <th>6</th>\n",
              "      <td>7.0</td>\n",
              "      <td>0.017620</td>\n",
              "      <td>0.011428</td>\n",
              "      <td>0.011996</td>\n",
              "      <td>0.066308</td>\n",
              "      <td>0.073207</td>\n",
              "      <td>0.524726</td>\n",
              "      <td>7.0</td>\n",
              "    </tr>\n",
              "    <tr>\n",
              "      <th>7</th>\n",
              "      <td>8.0</td>\n",
              "      <td>0.017620</td>\n",
              "      <td>0.016070</td>\n",
              "      <td>0.020207</td>\n",
              "      <td>0.058779</td>\n",
              "      <td>0.070420</td>\n",
              "      <td>0.545049</td>\n",
              "      <td>5.0</td>\n",
              "    </tr>\n",
              "    <tr>\n",
              "      <th>8</th>\n",
              "      <td>6.0</td>\n",
              "      <td>0.005034</td>\n",
              "      <td>0.024998</td>\n",
              "      <td>0.028868</td>\n",
              "      <td>0.051196</td>\n",
              "      <td>0.074701</td>\n",
              "      <td>0.593352</td>\n",
              "      <td>2.0</td>\n",
              "    </tr>\n",
              "    <tr>\n",
              "      <th>9</th>\n",
              "      <td>8.0</td>\n",
              "      <td>0.060413</td>\n",
              "      <td>0.024998</td>\n",
              "      <td>0.015653</td>\n",
              "      <td>0.084463</td>\n",
              "      <td>0.046302</td>\n",
              "      <td>0.354086</td>\n",
              "      <td>10.0</td>\n",
              "    </tr>\n",
              "  </tbody>\n",
              "</table>\n",
              "</div>\n",
              "      <button class=\"colab-df-convert\" onclick=\"convertToInteractive('df-37179d3c-ef73-4045-8e46-65e3b9eef3e8')\"\n",
              "              title=\"Convert this dataframe to an interactive table.\"\n",
              "              style=\"display:none;\">\n",
              "        \n",
              "  <svg xmlns=\"http://www.w3.org/2000/svg\" height=\"24px\"viewBox=\"0 0 24 24\"\n",
              "       width=\"24px\">\n",
              "    <path d=\"M0 0h24v24H0V0z\" fill=\"none\"/>\n",
              "    <path d=\"M18.56 5.44l.94 2.06.94-2.06 2.06-.94-2.06-.94-.94-2.06-.94 2.06-2.06.94zm-11 1L8.5 8.5l.94-2.06 2.06-.94-2.06-.94L8.5 2.5l-.94 2.06-2.06.94zm10 10l.94 2.06.94-2.06 2.06-.94-2.06-.94-.94-2.06-.94 2.06-2.06.94z\"/><path d=\"M17.41 7.96l-1.37-1.37c-.4-.4-.92-.59-1.43-.59-.52 0-1.04.2-1.43.59L10.3 9.45l-7.72 7.72c-.78.78-.78 2.05 0 2.83L4 21.41c.39.39.9.59 1.41.59.51 0 1.02-.2 1.41-.59l7.78-7.78 2.81-2.81c.8-.78.8-2.07 0-2.86zM5.41 20L4 18.59l7.72-7.72 1.47 1.35L5.41 20z\"/>\n",
              "  </svg>\n",
              "      </button>\n",
              "      \n",
              "  <style>\n",
              "    .colab-df-container {\n",
              "      display:flex;\n",
              "      flex-wrap:wrap;\n",
              "      gap: 12px;\n",
              "    }\n",
              "\n",
              "    .colab-df-convert {\n",
              "      background-color: #E8F0FE;\n",
              "      border: none;\n",
              "      border-radius: 50%;\n",
              "      cursor: pointer;\n",
              "      display: none;\n",
              "      fill: #1967D2;\n",
              "      height: 32px;\n",
              "      padding: 0 0 0 0;\n",
              "      width: 32px;\n",
              "    }\n",
              "\n",
              "    .colab-df-convert:hover {\n",
              "      background-color: #E2EBFA;\n",
              "      box-shadow: 0px 1px 2px rgba(60, 64, 67, 0.3), 0px 1px 3px 1px rgba(60, 64, 67, 0.15);\n",
              "      fill: #174EA6;\n",
              "    }\n",
              "\n",
              "    [theme=dark] .colab-df-convert {\n",
              "      background-color: #3B4455;\n",
              "      fill: #D2E3FC;\n",
              "    }\n",
              "\n",
              "    [theme=dark] .colab-df-convert:hover {\n",
              "      background-color: #434B5C;\n",
              "      box-shadow: 0px 1px 3px 1px rgba(0, 0, 0, 0.15);\n",
              "      filter: drop-shadow(0px 1px 2px rgba(0, 0, 0, 0.3));\n",
              "      fill: #FFFFFF;\n",
              "    }\n",
              "  </style>\n",
              "\n",
              "      <script>\n",
              "        const buttonEl =\n",
              "          document.querySelector('#df-37179d3c-ef73-4045-8e46-65e3b9eef3e8 button.colab-df-convert');\n",
              "        buttonEl.style.display =\n",
              "          google.colab.kernel.accessAllowed ? 'block' : 'none';\n",
              "\n",
              "        async function convertToInteractive(key) {\n",
              "          const element = document.querySelector('#df-37179d3c-ef73-4045-8e46-65e3b9eef3e8');\n",
              "          const dataTable =\n",
              "            await google.colab.kernel.invokeFunction('convertToInteractive',\n",
              "                                                     [key], {});\n",
              "          if (!dataTable) return;\n",
              "\n",
              "          const docLinkHtml = 'Like what you see? Visit the ' +\n",
              "            '<a target=\"_blank\" href=https://colab.research.google.com/notebooks/data_table.ipynb>data table notebook</a>'\n",
              "            + ' to learn more about interactive tables.';\n",
              "          element.innerHTML = '';\n",
              "          dataTable['output_type'] = 'display_data';\n",
              "          await google.colab.output.renderOutput(dataTable, element);\n",
              "          const docLink = document.createElement('div');\n",
              "          docLink.innerHTML = docLinkHtml;\n",
              "          element.appendChild(docLink);\n",
              "        }\n",
              "      </script>\n",
              "    </div>\n",
              "  </div>\n",
              "  "
            ]
          },
          "metadata": {},
          "execution_count": 41
        }
      ]
    },
    {
      "cell_type": "markdown",
      "source": [
        "2.   **VIKOR**\n",
        "\n"
      ],
      "metadata": {
        "id": "UoxKJlhZGUwZ"
      }
    },
    {
      "cell_type": "code",
      "source": [
        "vikor_data2 = data_2.copy()"
      ],
      "metadata": {
        "id": "145zv-wiGumi"
      },
      "execution_count": null,
      "outputs": []
    },
    {
      "cell_type": "code",
      "source": [
        "vikor(vikor_data2, weights_2, types_2)"
      ],
      "metadata": {
        "id": "X67w-mGcG061"
      },
      "execution_count": null,
      "outputs": []
    },
    {
      "cell_type": "code",
      "source": [
        "vikor_data2"
      ],
      "metadata": {
        "colab": {
          "base_uri": "https://localhost:8080/",
          "height": 363
        },
        "id": "Jp5jBeOgG7MQ",
        "outputId": "050c4b00-5bac-4e37-8e28-31129e3d2a81"
      },
      "execution_count": null,
      "outputs": [
        {
          "output_type": "execute_result",
          "data": {
            "text/plain": [
              "   battery charging 100%  battery charging 80%  battery capacity  price  \\\n",
              "0                   10.0                   120              99.0  120.0   \n",
              "1                   10.0                   120              99.0   90.0   \n",
              "2                    4.0                    30              24.0   25.0   \n",
              "3                    8.0                    40              24.2   50.0   \n",
              "4                    4.5                    15              10.5   12.9   \n",
              "5                    4.5                    15              10.5   15.5   \n",
              "6                    7.0                    35              16.0   18.7   \n",
              "7                    8.0                    35              22.5   31.5   \n",
              "8                    6.0                    10              35.0   45.0   \n",
              "9                    8.0                   120              35.0   24.4   \n",
              "\n",
              "       R      S  VIKOR index  rank  \n",
              "0  0.111  0.333        1.000   1.0  \n",
              "1  0.111  0.302        0.907   2.0  \n",
              "2  0.094  0.127        0.175   9.0  \n",
              "3  0.094  0.237        0.506   4.0  \n",
              "4  0.111  0.125        0.375   8.0  \n",
              "5  0.111  0.128        0.384   7.0  \n",
              "6  0.104  0.191        0.489   5.0  \n",
              "7  0.096  0.215        0.464   6.0  \n",
              "8  0.080  0.151        0.078  10.0  \n",
              "9  0.111  0.277        0.832   3.0  "
            ],
            "text/html": [
              "\n",
              "  <div id=\"df-8c21faed-552f-4a40-9c65-88d3d37dd9eb\">\n",
              "    <div class=\"colab-df-container\">\n",
              "      <div>\n",
              "<style scoped>\n",
              "    .dataframe tbody tr th:only-of-type {\n",
              "        vertical-align: middle;\n",
              "    }\n",
              "\n",
              "    .dataframe tbody tr th {\n",
              "        vertical-align: top;\n",
              "    }\n",
              "\n",
              "    .dataframe thead th {\n",
              "        text-align: right;\n",
              "    }\n",
              "</style>\n",
              "<table border=\"1\" class=\"dataframe\">\n",
              "  <thead>\n",
              "    <tr style=\"text-align: right;\">\n",
              "      <th></th>\n",
              "      <th>battery charging 100%</th>\n",
              "      <th>battery charging 80%</th>\n",
              "      <th>battery capacity</th>\n",
              "      <th>price</th>\n",
              "      <th>R</th>\n",
              "      <th>S</th>\n",
              "      <th>VIKOR index</th>\n",
              "      <th>rank</th>\n",
              "    </tr>\n",
              "  </thead>\n",
              "  <tbody>\n",
              "    <tr>\n",
              "      <th>0</th>\n",
              "      <td>10.0</td>\n",
              "      <td>120</td>\n",
              "      <td>99.0</td>\n",
              "      <td>120.0</td>\n",
              "      <td>0.111</td>\n",
              "      <td>0.333</td>\n",
              "      <td>1.000</td>\n",
              "      <td>1.0</td>\n",
              "    </tr>\n",
              "    <tr>\n",
              "      <th>1</th>\n",
              "      <td>10.0</td>\n",
              "      <td>120</td>\n",
              "      <td>99.0</td>\n",
              "      <td>90.0</td>\n",
              "      <td>0.111</td>\n",
              "      <td>0.302</td>\n",
              "      <td>0.907</td>\n",
              "      <td>2.0</td>\n",
              "    </tr>\n",
              "    <tr>\n",
              "      <th>2</th>\n",
              "      <td>4.0</td>\n",
              "      <td>30</td>\n",
              "      <td>24.0</td>\n",
              "      <td>25.0</td>\n",
              "      <td>0.094</td>\n",
              "      <td>0.127</td>\n",
              "      <td>0.175</td>\n",
              "      <td>9.0</td>\n",
              "    </tr>\n",
              "    <tr>\n",
              "      <th>3</th>\n",
              "      <td>8.0</td>\n",
              "      <td>40</td>\n",
              "      <td>24.2</td>\n",
              "      <td>50.0</td>\n",
              "      <td>0.094</td>\n",
              "      <td>0.237</td>\n",
              "      <td>0.506</td>\n",
              "      <td>4.0</td>\n",
              "    </tr>\n",
              "    <tr>\n",
              "      <th>4</th>\n",
              "      <td>4.5</td>\n",
              "      <td>15</td>\n",
              "      <td>10.5</td>\n",
              "      <td>12.9</td>\n",
              "      <td>0.111</td>\n",
              "      <td>0.125</td>\n",
              "      <td>0.375</td>\n",
              "      <td>8.0</td>\n",
              "    </tr>\n",
              "    <tr>\n",
              "      <th>5</th>\n",
              "      <td>4.5</td>\n",
              "      <td>15</td>\n",
              "      <td>10.5</td>\n",
              "      <td>15.5</td>\n",
              "      <td>0.111</td>\n",
              "      <td>0.128</td>\n",
              "      <td>0.384</td>\n",
              "      <td>7.0</td>\n",
              "    </tr>\n",
              "    <tr>\n",
              "      <th>6</th>\n",
              "      <td>7.0</td>\n",
              "      <td>35</td>\n",
              "      <td>16.0</td>\n",
              "      <td>18.7</td>\n",
              "      <td>0.104</td>\n",
              "      <td>0.191</td>\n",
              "      <td>0.489</td>\n",
              "      <td>5.0</td>\n",
              "    </tr>\n",
              "    <tr>\n",
              "      <th>7</th>\n",
              "      <td>8.0</td>\n",
              "      <td>35</td>\n",
              "      <td>22.5</td>\n",
              "      <td>31.5</td>\n",
              "      <td>0.096</td>\n",
              "      <td>0.215</td>\n",
              "      <td>0.464</td>\n",
              "      <td>6.0</td>\n",
              "    </tr>\n",
              "    <tr>\n",
              "      <th>8</th>\n",
              "      <td>6.0</td>\n",
              "      <td>10</td>\n",
              "      <td>35.0</td>\n",
              "      <td>45.0</td>\n",
              "      <td>0.080</td>\n",
              "      <td>0.151</td>\n",
              "      <td>0.078</td>\n",
              "      <td>10.0</td>\n",
              "    </tr>\n",
              "    <tr>\n",
              "      <th>9</th>\n",
              "      <td>8.0</td>\n",
              "      <td>120</td>\n",
              "      <td>35.0</td>\n",
              "      <td>24.4</td>\n",
              "      <td>0.111</td>\n",
              "      <td>0.277</td>\n",
              "      <td>0.832</td>\n",
              "      <td>3.0</td>\n",
              "    </tr>\n",
              "  </tbody>\n",
              "</table>\n",
              "</div>\n",
              "      <button class=\"colab-df-convert\" onclick=\"convertToInteractive('df-8c21faed-552f-4a40-9c65-88d3d37dd9eb')\"\n",
              "              title=\"Convert this dataframe to an interactive table.\"\n",
              "              style=\"display:none;\">\n",
              "        \n",
              "  <svg xmlns=\"http://www.w3.org/2000/svg\" height=\"24px\"viewBox=\"0 0 24 24\"\n",
              "       width=\"24px\">\n",
              "    <path d=\"M0 0h24v24H0V0z\" fill=\"none\"/>\n",
              "    <path d=\"M18.56 5.44l.94 2.06.94-2.06 2.06-.94-2.06-.94-.94-2.06-.94 2.06-2.06.94zm-11 1L8.5 8.5l.94-2.06 2.06-.94-2.06-.94L8.5 2.5l-.94 2.06-2.06.94zm10 10l.94 2.06.94-2.06 2.06-.94-2.06-.94-.94-2.06-.94 2.06-2.06.94z\"/><path d=\"M17.41 7.96l-1.37-1.37c-.4-.4-.92-.59-1.43-.59-.52 0-1.04.2-1.43.59L10.3 9.45l-7.72 7.72c-.78.78-.78 2.05 0 2.83L4 21.41c.39.39.9.59 1.41.59.51 0 1.02-.2 1.41-.59l7.78-7.78 2.81-2.81c.8-.78.8-2.07 0-2.86zM5.41 20L4 18.59l7.72-7.72 1.47 1.35L5.41 20z\"/>\n",
              "  </svg>\n",
              "      </button>\n",
              "      \n",
              "  <style>\n",
              "    .colab-df-container {\n",
              "      display:flex;\n",
              "      flex-wrap:wrap;\n",
              "      gap: 12px;\n",
              "    }\n",
              "\n",
              "    .colab-df-convert {\n",
              "      background-color: #E8F0FE;\n",
              "      border: none;\n",
              "      border-radius: 50%;\n",
              "      cursor: pointer;\n",
              "      display: none;\n",
              "      fill: #1967D2;\n",
              "      height: 32px;\n",
              "      padding: 0 0 0 0;\n",
              "      width: 32px;\n",
              "    }\n",
              "\n",
              "    .colab-df-convert:hover {\n",
              "      background-color: #E2EBFA;\n",
              "      box-shadow: 0px 1px 2px rgba(60, 64, 67, 0.3), 0px 1px 3px 1px rgba(60, 64, 67, 0.15);\n",
              "      fill: #174EA6;\n",
              "    }\n",
              "\n",
              "    [theme=dark] .colab-df-convert {\n",
              "      background-color: #3B4455;\n",
              "      fill: #D2E3FC;\n",
              "    }\n",
              "\n",
              "    [theme=dark] .colab-df-convert:hover {\n",
              "      background-color: #434B5C;\n",
              "      box-shadow: 0px 1px 3px 1px rgba(0, 0, 0, 0.15);\n",
              "      filter: drop-shadow(0px 1px 2px rgba(0, 0, 0, 0.3));\n",
              "      fill: #FFFFFF;\n",
              "    }\n",
              "  </style>\n",
              "\n",
              "      <script>\n",
              "        const buttonEl =\n",
              "          document.querySelector('#df-8c21faed-552f-4a40-9c65-88d3d37dd9eb button.colab-df-convert');\n",
              "        buttonEl.style.display =\n",
              "          google.colab.kernel.accessAllowed ? 'block' : 'none';\n",
              "\n",
              "        async function convertToInteractive(key) {\n",
              "          const element = document.querySelector('#df-8c21faed-552f-4a40-9c65-88d3d37dd9eb');\n",
              "          const dataTable =\n",
              "            await google.colab.kernel.invokeFunction('convertToInteractive',\n",
              "                                                     [key], {});\n",
              "          if (!dataTable) return;\n",
              "\n",
              "          const docLinkHtml = 'Like what you see? Visit the ' +\n",
              "            '<a target=\"_blank\" href=https://colab.research.google.com/notebooks/data_table.ipynb>data table notebook</a>'\n",
              "            + ' to learn more about interactive tables.';\n",
              "          element.innerHTML = '';\n",
              "          dataTable['output_type'] = 'display_data';\n",
              "          await google.colab.output.renderOutput(dataTable, element);\n",
              "          const docLink = document.createElement('div');\n",
              "          docLink.innerHTML = docLinkHtml;\n",
              "          element.appendChild(docLink);\n",
              "        }\n",
              "      </script>\n",
              "    </div>\n",
              "  </div>\n",
              "  "
            ]
          },
          "metadata": {},
          "execution_count": 44
        }
      ]
    },
    {
      "cell_type": "markdown",
      "source": [
        "3.   **WPM**\n",
        "\n",
        "\n"
      ],
      "metadata": {
        "id": "uttMFjbbG--X"
      }
    },
    {
      "cell_type": "code",
      "source": [
        "wpm_data2 = data_2.copy()"
      ],
      "metadata": {
        "id": "q42DrDZUHD3r"
      },
      "execution_count": null,
      "outputs": []
    },
    {
      "cell_type": "code",
      "source": [
        "wpm(wpm_data2, weights_2, types_2)"
      ],
      "metadata": {
        "id": "nJx7ndcKHICB"
      },
      "execution_count": null,
      "outputs": []
    },
    {
      "cell_type": "code",
      "source": [
        "wpm_data2"
      ],
      "metadata": {
        "colab": {
          "base_uri": "https://localhost:8080/",
          "height": 363
        },
        "id": "imE4pI8jHT26",
        "outputId": "c3096510-7bb5-4a4c-f6ff-5cf4f32d33ba"
      },
      "execution_count": null,
      "outputs": [
        {
          "output_type": "execute_result",
          "data": {
            "text/plain": [
              "   battery charging 100%  battery charging 80%  battery capacity     price  \\\n",
              "0               0.903210              0.758757          1.000000  0.780530   \n",
              "1               0.903210              0.758757          1.000000  0.805880   \n",
              "2               1.000000              0.885099          0.854331  0.929128   \n",
              "3               0.925882              0.857257          0.855120  0.860262   \n",
              "4               0.987000              0.955952          0.779362  1.000000   \n",
              "5               0.987000              0.955952          0.779362  0.979807   \n",
              "6               0.939720              0.870070          0.816700  0.959588   \n",
              "7               0.925882              0.870070          0.848228  0.905575   \n",
              "8               0.955952              1.000000          0.890904  0.870391   \n",
              "9               0.925882              0.758757          0.890904  0.931639   \n",
              "\n",
              "   wpm score  rank  \n",
              "0   0.534911  10.0  \n",
              "1   0.552283   9.0  \n",
              "2   0.702576   4.0  \n",
              "3   0.583881   7.0  \n",
              "4   0.735347   2.0  \n",
              "5   0.720498   3.0  \n",
              "6   0.640767   5.0  \n",
              "7   0.618794   6.0  \n",
              "8   0.741279   1.0  \n",
              "9   0.583092   8.0  "
            ],
            "text/html": [
              "\n",
              "  <div id=\"df-710dbf6b-a57a-48b5-a72d-2a694c2c7793\">\n",
              "    <div class=\"colab-df-container\">\n",
              "      <div>\n",
              "<style scoped>\n",
              "    .dataframe tbody tr th:only-of-type {\n",
              "        vertical-align: middle;\n",
              "    }\n",
              "\n",
              "    .dataframe tbody tr th {\n",
              "        vertical-align: top;\n",
              "    }\n",
              "\n",
              "    .dataframe thead th {\n",
              "        text-align: right;\n",
              "    }\n",
              "</style>\n",
              "<table border=\"1\" class=\"dataframe\">\n",
              "  <thead>\n",
              "    <tr style=\"text-align: right;\">\n",
              "      <th></th>\n",
              "      <th>battery charging 100%</th>\n",
              "      <th>battery charging 80%</th>\n",
              "      <th>battery capacity</th>\n",
              "      <th>price</th>\n",
              "      <th>wpm score</th>\n",
              "      <th>rank</th>\n",
              "    </tr>\n",
              "  </thead>\n",
              "  <tbody>\n",
              "    <tr>\n",
              "      <th>0</th>\n",
              "      <td>0.903210</td>\n",
              "      <td>0.758757</td>\n",
              "      <td>1.000000</td>\n",
              "      <td>0.780530</td>\n",
              "      <td>0.534911</td>\n",
              "      <td>10.0</td>\n",
              "    </tr>\n",
              "    <tr>\n",
              "      <th>1</th>\n",
              "      <td>0.903210</td>\n",
              "      <td>0.758757</td>\n",
              "      <td>1.000000</td>\n",
              "      <td>0.805880</td>\n",
              "      <td>0.552283</td>\n",
              "      <td>9.0</td>\n",
              "    </tr>\n",
              "    <tr>\n",
              "      <th>2</th>\n",
              "      <td>1.000000</td>\n",
              "      <td>0.885099</td>\n",
              "      <td>0.854331</td>\n",
              "      <td>0.929128</td>\n",
              "      <td>0.702576</td>\n",
              "      <td>4.0</td>\n",
              "    </tr>\n",
              "    <tr>\n",
              "      <th>3</th>\n",
              "      <td>0.925882</td>\n",
              "      <td>0.857257</td>\n",
              "      <td>0.855120</td>\n",
              "      <td>0.860262</td>\n",
              "      <td>0.583881</td>\n",
              "      <td>7.0</td>\n",
              "    </tr>\n",
              "    <tr>\n",
              "      <th>4</th>\n",
              "      <td>0.987000</td>\n",
              "      <td>0.955952</td>\n",
              "      <td>0.779362</td>\n",
              "      <td>1.000000</td>\n",
              "      <td>0.735347</td>\n",
              "      <td>2.0</td>\n",
              "    </tr>\n",
              "    <tr>\n",
              "      <th>5</th>\n",
              "      <td>0.987000</td>\n",
              "      <td>0.955952</td>\n",
              "      <td>0.779362</td>\n",
              "      <td>0.979807</td>\n",
              "      <td>0.720498</td>\n",
              "      <td>3.0</td>\n",
              "    </tr>\n",
              "    <tr>\n",
              "      <th>6</th>\n",
              "      <td>0.939720</td>\n",
              "      <td>0.870070</td>\n",
              "      <td>0.816700</td>\n",
              "      <td>0.959588</td>\n",
              "      <td>0.640767</td>\n",
              "      <td>5.0</td>\n",
              "    </tr>\n",
              "    <tr>\n",
              "      <th>7</th>\n",
              "      <td>0.925882</td>\n",
              "      <td>0.870070</td>\n",
              "      <td>0.848228</td>\n",
              "      <td>0.905575</td>\n",
              "      <td>0.618794</td>\n",
              "      <td>6.0</td>\n",
              "    </tr>\n",
              "    <tr>\n",
              "      <th>8</th>\n",
              "      <td>0.955952</td>\n",
              "      <td>1.000000</td>\n",
              "      <td>0.890904</td>\n",
              "      <td>0.870391</td>\n",
              "      <td>0.741279</td>\n",
              "      <td>1.0</td>\n",
              "    </tr>\n",
              "    <tr>\n",
              "      <th>9</th>\n",
              "      <td>0.925882</td>\n",
              "      <td>0.758757</td>\n",
              "      <td>0.890904</td>\n",
              "      <td>0.931639</td>\n",
              "      <td>0.583092</td>\n",
              "      <td>8.0</td>\n",
              "    </tr>\n",
              "  </tbody>\n",
              "</table>\n",
              "</div>\n",
              "      <button class=\"colab-df-convert\" onclick=\"convertToInteractive('df-710dbf6b-a57a-48b5-a72d-2a694c2c7793')\"\n",
              "              title=\"Convert this dataframe to an interactive table.\"\n",
              "              style=\"display:none;\">\n",
              "        \n",
              "  <svg xmlns=\"http://www.w3.org/2000/svg\" height=\"24px\"viewBox=\"0 0 24 24\"\n",
              "       width=\"24px\">\n",
              "    <path d=\"M0 0h24v24H0V0z\" fill=\"none\"/>\n",
              "    <path d=\"M18.56 5.44l.94 2.06.94-2.06 2.06-.94-2.06-.94-.94-2.06-.94 2.06-2.06.94zm-11 1L8.5 8.5l.94-2.06 2.06-.94-2.06-.94L8.5 2.5l-.94 2.06-2.06.94zm10 10l.94 2.06.94-2.06 2.06-.94-2.06-.94-.94-2.06-.94 2.06-2.06.94z\"/><path d=\"M17.41 7.96l-1.37-1.37c-.4-.4-.92-.59-1.43-.59-.52 0-1.04.2-1.43.59L10.3 9.45l-7.72 7.72c-.78.78-.78 2.05 0 2.83L4 21.41c.39.39.9.59 1.41.59.51 0 1.02-.2 1.41-.59l7.78-7.78 2.81-2.81c.8-.78.8-2.07 0-2.86zM5.41 20L4 18.59l7.72-7.72 1.47 1.35L5.41 20z\"/>\n",
              "  </svg>\n",
              "      </button>\n",
              "      \n",
              "  <style>\n",
              "    .colab-df-container {\n",
              "      display:flex;\n",
              "      flex-wrap:wrap;\n",
              "      gap: 12px;\n",
              "    }\n",
              "\n",
              "    .colab-df-convert {\n",
              "      background-color: #E8F0FE;\n",
              "      border: none;\n",
              "      border-radius: 50%;\n",
              "      cursor: pointer;\n",
              "      display: none;\n",
              "      fill: #1967D2;\n",
              "      height: 32px;\n",
              "      padding: 0 0 0 0;\n",
              "      width: 32px;\n",
              "    }\n",
              "\n",
              "    .colab-df-convert:hover {\n",
              "      background-color: #E2EBFA;\n",
              "      box-shadow: 0px 1px 2px rgba(60, 64, 67, 0.3), 0px 1px 3px 1px rgba(60, 64, 67, 0.15);\n",
              "      fill: #174EA6;\n",
              "    }\n",
              "\n",
              "    [theme=dark] .colab-df-convert {\n",
              "      background-color: #3B4455;\n",
              "      fill: #D2E3FC;\n",
              "    }\n",
              "\n",
              "    [theme=dark] .colab-df-convert:hover {\n",
              "      background-color: #434B5C;\n",
              "      box-shadow: 0px 1px 3px 1px rgba(0, 0, 0, 0.15);\n",
              "      filter: drop-shadow(0px 1px 2px rgba(0, 0, 0, 0.3));\n",
              "      fill: #FFFFFF;\n",
              "    }\n",
              "  </style>\n",
              "\n",
              "      <script>\n",
              "        const buttonEl =\n",
              "          document.querySelector('#df-710dbf6b-a57a-48b5-a72d-2a694c2c7793 button.colab-df-convert');\n",
              "        buttonEl.style.display =\n",
              "          google.colab.kernel.accessAllowed ? 'block' : 'none';\n",
              "\n",
              "        async function convertToInteractive(key) {\n",
              "          const element = document.querySelector('#df-710dbf6b-a57a-48b5-a72d-2a694c2c7793');\n",
              "          const dataTable =\n",
              "            await google.colab.kernel.invokeFunction('convertToInteractive',\n",
              "                                                     [key], {});\n",
              "          if (!dataTable) return;\n",
              "\n",
              "          const docLinkHtml = 'Like what you see? Visit the ' +\n",
              "            '<a target=\"_blank\" href=https://colab.research.google.com/notebooks/data_table.ipynb>data table notebook</a>'\n",
              "            + ' to learn more about interactive tables.';\n",
              "          element.innerHTML = '';\n",
              "          dataTable['output_type'] = 'display_data';\n",
              "          await google.colab.output.renderOutput(dataTable, element);\n",
              "          const docLink = document.createElement('div');\n",
              "          docLink.innerHTML = docLinkHtml;\n",
              "          element.appendChild(docLink);\n",
              "        }\n",
              "      </script>\n",
              "    </div>\n",
              "  </div>\n",
              "  "
            ]
          },
          "metadata": {},
          "execution_count": 47
        }
      ]
    },
    {
      "cell_type": "markdown",
      "source": [
        "**Comparaison des methodes**"
      ],
      "metadata": {
        "id": "jbyLz2qoXNMY"
      }
    },
    {
      "cell_type": "code",
      "source": [
        "a = [f'A{i+1}' for i in range(10)]\n",
        "b2 = topsis_data2['rank'].to_numpy()\n",
        "c2 = vikor_data2['rank'].to_numpy()\n",
        "d2 = wpm_data2['rank'].to_numpy()\n",
        "t_d2 = Table([a, b2, c2, d2], names=('alternatives', 'TOPSIS', 'VIKOR', 'WPM'))\n",
        "t_d2"
      ],
      "metadata": {
        "colab": {
          "base_uri": "https://localhost:8080/",
          "height": 293
        },
        "id": "7RRCdfblXP8e",
        "outputId": "4d48a21b-9973-4632-cdab-9817b75efb86"
      },
      "execution_count": null,
      "outputs": [
        {
          "output_type": "execute_result",
          "data": {
            "text/plain": [
              "<Table length=10>\n",
              "alternatives  TOPSIS  VIKOR    WPM  \n",
              "    str3     float64 float64 float64\n",
              "------------ ------- ------- -------\n",
              "          A1     8.0     1.0    10.0\n",
              "          A2     9.0     2.0     9.0\n",
              "          A3     6.0     9.0     4.0\n",
              "          A4     1.0     4.0     7.0\n",
              "          A5     4.0     8.0     2.0\n",
              "          A6     3.0     7.0     3.0\n",
              "          A7     7.0     5.0     5.0\n",
              "          A8     5.0     6.0     6.0\n",
              "          A9     2.0    10.0     1.0\n",
              "         A10    10.0     3.0     8.0"
            ],
            "text/html": [
              "<div><i>Table length=10</i>\n",
              "<table id=\"table139943809986000\" class=\"table-striped table-bordered table-condensed\">\n",
              "<thead><tr><th>alternatives</th><th>TOPSIS</th><th>VIKOR</th><th>WPM</th></tr></thead>\n",
              "<thead><tr><th>str3</th><th>float64</th><th>float64</th><th>float64</th></tr></thead>\n",
              "<tr><td>A1</td><td>8.0</td><td>1.0</td><td>10.0</td></tr>\n",
              "<tr><td>A2</td><td>9.0</td><td>2.0</td><td>9.0</td></tr>\n",
              "<tr><td>A3</td><td>6.0</td><td>9.0</td><td>4.0</td></tr>\n",
              "<tr><td>A4</td><td>1.0</td><td>4.0</td><td>7.0</td></tr>\n",
              "<tr><td>A5</td><td>4.0</td><td>8.0</td><td>2.0</td></tr>\n",
              "<tr><td>A6</td><td>3.0</td><td>7.0</td><td>3.0</td></tr>\n",
              "<tr><td>A7</td><td>7.0</td><td>5.0</td><td>5.0</td></tr>\n",
              "<tr><td>A8</td><td>5.0</td><td>6.0</td><td>6.0</td></tr>\n",
              "<tr><td>A9</td><td>2.0</td><td>10.0</td><td>1.0</td></tr>\n",
              "<tr><td>A10</td><td>10.0</td><td>3.0</td><td>8.0</td></tr>\n",
              "</table></div>"
            ]
          },
          "metadata": {},
          "execution_count": 48
        }
      ]
    },
    {
      "cell_type": "markdown",
      "source": [
        "Cosine similarity"
      ],
      "metadata": {
        "id": "4EQ777CYYIcd"
      }
    },
    {
      "cell_type": "code",
      "source": [
        "CS2 = []\n",
        "# topsis vs vikor\n",
        "CS2.append(np.dot(b2,c2)/(norm(b2)*norm(c2)))\n",
        "# topsis vs wpm\n",
        "CS2.append(np.dot(b2,d2)/(norm(b2)*norm(d2)))\n",
        "# vikor vs wpm\n",
        "CS2.append(np.dot(c2,d2)/(norm(c2)*norm(d2)))"
      ],
      "metadata": {
        "id": "f51HUgezYKTW"
      },
      "execution_count": null,
      "outputs": []
    },
    {
      "cell_type": "code",
      "source": [
        "a = ['topsis & vikor', 'topsis & wpm', 'vikor & wpm']\n",
        "t2_2 = Table([a, CS2], names=('methodes', 'Cosine similarity'))\n",
        "t2_2"
      ],
      "metadata": {
        "colab": {
          "base_uri": "https://localhost:8080/",
          "height": 143
        },
        "id": "4b8CGW4SY8Ct",
        "outputId": "953a03a6-89d3-4a1f-fc09-ac9e760a173b"
      },
      "execution_count": null,
      "outputs": [
        {
          "output_type": "execute_result",
          "data": {
            "text/plain": [
              "<Table length=3>\n",
              "   methodes    Cosine similarity \n",
              "    str14           float64      \n",
              "-------------- ------------------\n",
              "topsis & vikor 0.6545454545454547\n",
              "  topsis & wpm 0.9246753246753248\n",
              "   vikor & wpm 0.5818181818181819"
            ],
            "text/html": [
              "<div><i>Table length=3</i>\n",
              "<table id=\"table139943809983440\" class=\"table-striped table-bordered table-condensed\">\n",
              "<thead><tr><th>methodes</th><th>Cosine similarity</th></tr></thead>\n",
              "<thead><tr><th>str14</th><th>float64</th></tr></thead>\n",
              "<tr><td>topsis &amp; vikor</td><td>0.6545454545454547</td></tr>\n",
              "<tr><td>topsis &amp; wpm</td><td>0.9246753246753248</td></tr>\n",
              "<tr><td>vikor &amp; wpm</td><td>0.5818181818181819</td></tr>\n",
              "</table></div>"
            ]
          },
          "metadata": {},
          "execution_count": 50
        }
      ]
    },
    {
      "cell_type": "markdown",
      "source": [
        "Calcul de coefficient de Kendall"
      ],
      "metadata": {
        "id": "KxgadphiZsED"
      }
    },
    {
      "cell_type": "code",
      "source": [
        "Kt2 = []\n",
        "# topsis vs vikor\n",
        "Kt2.append(stats.kendalltau(b2, c2)[0])\n",
        "# topsis vs wpm\n",
        "Kt2.append(stats.kendalltau(b2, d2)[0])\n",
        "# vikor vs wpm\n",
        "Kt2.append(stats.kendalltau(c2, d2)[0])"
      ],
      "metadata": {
        "id": "plCzcKWtZvnh"
      },
      "execution_count": null,
      "outputs": []
    },
    {
      "cell_type": "code",
      "source": [
        "a = ['topsis & vikor', 'topsis & wpm', 'vikor & wpm']\n",
        "t3_2 = Table([a, Kt2], names=('methodes', 'Kendall’s tau'))\n",
        "t3_2"
      ],
      "metadata": {
        "colab": {
          "base_uri": "https://localhost:8080/",
          "height": 143
        },
        "id": "Nb_TAv5yZ42n",
        "outputId": "84b5779d-9cf1-4e9c-9992-0f85c5f57756"
      },
      "execution_count": null,
      "outputs": [
        {
          "output_type": "execute_result",
          "data": {
            "text/plain": [
              "<Table length=3>\n",
              "   methodes       Kendall’s tau   \n",
              "    str14            float64      \n",
              "-------------- -------------------\n",
              "topsis & vikor -0.4222222222222222\n",
              "  topsis & wpm  0.4666666666666666\n",
              "   vikor & wpm -0.8666666666666666"
            ],
            "text/html": [
              "<div><i>Table length=3</i>\n",
              "<table id=\"table139943809907664\" class=\"table-striped table-bordered table-condensed\">\n",
              "<thead><tr><th>methodes</th><th>Kendall’s tau</th></tr></thead>\n",
              "<thead><tr><th>str14</th><th>float64</th></tr></thead>\n",
              "<tr><td>topsis &amp; vikor</td><td>-0.4222222222222222</td></tr>\n",
              "<tr><td>topsis &amp; wpm</td><td>0.4666666666666666</td></tr>\n",
              "<tr><td>vikor &amp; wpm</td><td>-0.8666666666666666</td></tr>\n",
              "</table></div>"
            ]
          },
          "metadata": {},
          "execution_count": 52
        }
      ]
    },
    {
      "cell_type": "markdown",
      "source": [
        "Calcul de coefficient de spearman"
      ],
      "metadata": {
        "id": "-YIAYZ9iaFW4"
      }
    },
    {
      "cell_type": "code",
      "source": [
        "Sr2 = []\n",
        "# topsis vs vikor\n",
        "Sr2.append(stats.spearmanr(b2, c2)[0])\n",
        "# topsis vs wpm\n",
        "Sr2.append(stats.spearmanr(b2, d2)[0])\n",
        "# vikor vs wpm\n",
        "Sr2.append(stats.spearmanr(c2, d2)[0])"
      ],
      "metadata": {
        "id": "fRd-3pSEaJGJ"
      },
      "execution_count": null,
      "outputs": []
    },
    {
      "cell_type": "code",
      "source": [
        "a = ['topsis & vikor', 'topsis & wpm', 'vikor & wpm']\n",
        "t4_2 = Table([a, Sr2], names=('methodes', 'Spearman s rho'))\n",
        "t4_2"
      ],
      "metadata": {
        "colab": {
          "base_uri": "https://localhost:8080/",
          "height": 143
        },
        "id": "APx5FLOsaUqm",
        "outputId": "bb6daf00-aacf-431f-b98d-c1efff9e33a5"
      },
      "execution_count": null,
      "outputs": [
        {
          "output_type": "execute_result",
          "data": {
            "text/plain": [
              "<Table length=3>\n",
              "   methodes       Spearman s rho  \n",
              "    str14            float64      \n",
              "-------------- -------------------\n",
              "topsis & vikor -0.6121212121212121\n",
              "  topsis & wpm  0.6484848484848483\n",
              "   vikor & wpm -0.9515151515151514"
            ],
            "text/html": [
              "<div><i>Table length=3</i>\n",
              "<table id=\"table139943809801232\" class=\"table-striped table-bordered table-condensed\">\n",
              "<thead><tr><th>methodes</th><th>Spearman s rho</th></tr></thead>\n",
              "<thead><tr><th>str14</th><th>float64</th></tr></thead>\n",
              "<tr><td>topsis &amp; vikor</td><td>-0.6121212121212121</td></tr>\n",
              "<tr><td>topsis &amp; wpm</td><td>0.6484848484848483</td></tr>\n",
              "<tr><td>vikor &amp; wpm</td><td>-0.9515151515151514</td></tr>\n",
              "</table></div>"
            ]
          },
          "metadata": {},
          "execution_count": 54
        }
      ]
    },
    {
      "cell_type": "markdown",
      "source": [
        "Temps d'execution"
      ],
      "metadata": {
        "id": "DW90a0pXaU1V"
      }
    },
    {
      "cell_type": "code",
      "source": [
        "a_t2 = [0.321,0.322,0.307]\n",
        "b = ['topsis', 'vikor', 'wpm']\n",
        "plt.plot(b,a_t2)\n",
        "plt.ylabel('temps en secondes')\n",
        "plt.xlabel('methodes')\n",
        "plt.title(\"comparaison de temps d'execution\")\n",
        "plt.show()"
      ],
      "metadata": {
        "colab": {
          "base_uri": "https://localhost:8080/",
          "height": 295
        },
        "id": "zgrL4IpBaW-8",
        "outputId": "1860abb5-d4f3-49de-ea6f-dd012b71c392"
      },
      "execution_count": null,
      "outputs": [
        {
          "output_type": "display_data",
          "data": {
            "text/plain": [
              "<Figure size 432x288 with 1 Axes>"
            ],
            "image/png": "[encoded data removed]"
          },
          "metadata": {
            "needs_background": "light"
          }
        }
      ]
    },
    {
      "cell_type": "markdown",
      "source": [
        "####**cas 3: 5 alternatives et 9 criteres**"
      ],
      "metadata": {
        "id": "LzzE4cpNKatY"
      }
    },
    {
      "cell_type": "markdown",
      "source": [
        "Determination de Dataframe"
      ],
      "metadata": {
        "id": "YP4HE8xPKr6D"
      }
    },
    {
      "cell_type": "code",
      "source": [
        "data_3 = dataframe.iloc[0:5,3:]\n",
        "data_3.head()"
      ],
      "metadata": {
        "colab": {
          "base_uri": "https://localhost:8080/",
          "height": 305
        },
        "id": "z1GJRro8K2rU",
        "outputId": "728edcb6-cae1-42f3-d84a-3390e1ca14d2"
      },
      "execution_count": null,
      "outputs": [
        {
          "output_type": "execute_result",
          "data": {
            "text/plain": [
              "   carryfying capacity  max velocity  travel range  engine power  \\\n",
              "0                 3000            96           145           200   \n",
              "1                 2000           100           145           200   \n",
              "2                  705           120           170            80   \n",
              "3                  613           140           180           140   \n",
              "4                  350           100           110            30   \n",
              "\n",
              "   engine torque  battery charging 100%  battery charging 80%  \\\n",
              "0            610                   10.0                   120   \n",
              "1            610                   10.0                   120   \n",
              "2            270                    4.0                    30   \n",
              "3            400                    8.0                    40   \n",
              "4            196                    4.5                    15   \n",
              "\n",
              "   battery capacity  price  \n",
              "0              99.0  120.0  \n",
              "1              99.0   90.0  \n",
              "2              24.0   25.0  \n",
              "3              24.2   50.0  \n",
              "4              10.5   12.9  "
            ],
            "text/html": [
              "\n",
              "  <div id=\"df-3fce448b-9f83-4ed4-9d9a-265a7774a263\">\n",
              "    <div class=\"colab-df-container\">\n",
              "      <div>\n",
              "<style scoped>\n",
              "    .dataframe tbody tr th:only-of-type {\n",
              "        vertical-align: middle;\n",
              "    }\n",
              "\n",
              "    .dataframe tbody tr th {\n",
              "        vertical-align: top;\n",
              "    }\n",
              "\n",
              "    .dataframe thead th {\n",
              "        text-align: right;\n",
              "    }\n",
              "</style>\n",
              "<table border=\"1\" class=\"dataframe\">\n",
              "  <thead>\n",
              "    <tr style=\"text-align: right;\">\n",
              "      <th></th>\n",
              "      <th>carryfying capacity</th>\n",
              "      <th>max velocity</th>\n",
              "      <th>travel range</th>\n",
              "      <th>engine power</th>\n",
              "      <th>engine torque</th>\n",
              "      <th>battery charging 100%</th>\n",
              "      <th>battery charging 80%</th>\n",
              "      <th>battery capacity</th>\n",
              "      <th>price</th>\n",
              "    </tr>\n",
              "  </thead>\n",
              "  <tbody>\n",
              "    <tr>\n",
              "      <th>0</th>\n",
              "      <td>3000</td>\n",
              "      <td>96</td>\n",
              "      <td>145</td>\n",
              "      <td>200</td>\n",
              "      <td>610</td>\n",
              "      <td>10.0</td>\n",
              "      <td>120</td>\n",
              "      <td>99.0</td>\n",
              "      <td>120.0</td>\n",
              "    </tr>\n",
              "    <tr>\n",
              "      <th>1</th>\n",
              "      <td>2000</td>\n",
              "      <td>100</td>\n",
              "      <td>145</td>\n",
              "      <td>200</td>\n",
              "      <td>610</td>\n",
              "      <td>10.0</td>\n",
              "      <td>120</td>\n",
              "      <td>99.0</td>\n",
              "      <td>90.0</td>\n",
              "    </tr>\n",
              "    <tr>\n",
              "      <th>2</th>\n",
              "      <td>705</td>\n",
              "      <td>120</td>\n",
              "      <td>170</td>\n",
              "      <td>80</td>\n",
              "      <td>270</td>\n",
              "      <td>4.0</td>\n",
              "      <td>30</td>\n",
              "      <td>24.0</td>\n",
              "      <td>25.0</td>\n",
              "    </tr>\n",
              "    <tr>\n",
              "      <th>3</th>\n",
              "      <td>613</td>\n",
              "      <td>140</td>\n",
              "      <td>180</td>\n",
              "      <td>140</td>\n",
              "      <td>400</td>\n",
              "      <td>8.0</td>\n",
              "      <td>40</td>\n",
              "      <td>24.2</td>\n",
              "      <td>50.0</td>\n",
              "    </tr>\n",
              "    <tr>\n",
              "      <th>4</th>\n",
              "      <td>350</td>\n",
              "      <td>100</td>\n",
              "      <td>110</td>\n",
              "      <td>30</td>\n",
              "      <td>196</td>\n",
              "      <td>4.5</td>\n",
              "      <td>15</td>\n",
              "      <td>10.5</td>\n",
              "      <td>12.9</td>\n",
              "    </tr>\n",
              "  </tbody>\n",
              "</table>\n",
              "</div>\n",
              "      <button class=\"colab-df-convert\" onclick=\"convertToInteractive('df-3fce448b-9f83-4ed4-9d9a-265a7774a263')\"\n",
              "              title=\"Convert this dataframe to an interactive table.\"\n",
              "              style=\"display:none;\">\n",
              "        \n",
              "  <svg xmlns=\"http://www.w3.org/2000/svg\" height=\"24px\"viewBox=\"0 0 24 24\"\n",
              "       width=\"24px\">\n",
              "    <path d=\"M0 0h24v24H0V0z\" fill=\"none\"/>\n",
              "    <path d=\"M18.56 5.44l.94 2.06.94-2.06 2.06-.94-2.06-.94-.94-2.06-.94 2.06-2.06.94zm-11 1L8.5 8.5l.94-2.06 2.06-.94-2.06-.94L8.5 2.5l-.94 2.06-2.06.94zm10 10l.94 2.06.94-2.06 2.06-.94-2.06-.94-.94-2.06-.94 2.06-2.06.94z\"/><path d=\"M17.41 7.96l-1.37-1.37c-.4-.4-.92-.59-1.43-.59-.52 0-1.04.2-1.43.59L10.3 9.45l-7.72 7.72c-.78.78-.78 2.05 0 2.83L4 21.41c.39.39.9.59 1.41.59.51 0 1.02-.2 1.41-.59l7.78-7.78 2.81-2.81c.8-.78.8-2.07 0-2.86zM5.41 20L4 18.59l7.72-7.72 1.47 1.35L5.41 20z\"/>\n",
              "  </svg>\n",
              "      </button>\n",
              "      \n",
              "  <style>\n",
              "    .colab-df-container {\n",
              "      display:flex;\n",
              "      flex-wrap:wrap;\n",
              "      gap: 12px;\n",
              "    }\n",
              "\n",
              "    .colab-df-convert {\n",
              "      background-color: #E8F0FE;\n",
              "      border: none;\n",
              "      border-radius: 50%;\n",
              "      cursor: pointer;\n",
              "      display: none;\n",
              "      fill: #1967D2;\n",
              "      height: 32px;\n",
              "      padding: 0 0 0 0;\n",
              "      width: 32px;\n",
              "    }\n",
              "\n",
              "    .colab-df-convert:hover {\n",
              "      background-color: #E2EBFA;\n",
              "      box-shadow: 0px 1px 2px rgba(60, 64, 67, 0.3), 0px 1px 3px 1px rgba(60, 64, 67, 0.15);\n",
              "      fill: #174EA6;\n",
              "    }\n",
              "\n",
              "    [theme=dark] .colab-df-convert {\n",
              "      background-color: #3B4455;\n",
              "      fill: #D2E3FC;\n",
              "    }\n",
              "\n",
              "    [theme=dark] .colab-df-convert:hover {\n",
              "      background-color: #434B5C;\n",
              "      box-shadow: 0px 1px 3px 1px rgba(0, 0, 0, 0.15);\n",
              "      filter: drop-shadow(0px 1px 2px rgba(0, 0, 0, 0.3));\n",
              "      fill: #FFFFFF;\n",
              "    }\n",
              "  </style>\n",
              "\n",
              "      <script>\n",
              "        const buttonEl =\n",
              "          document.querySelector('#df-3fce448b-9f83-4ed4-9d9a-265a7774a263 button.colab-df-convert');\n",
              "        buttonEl.style.display =\n",
              "          google.colab.kernel.accessAllowed ? 'block' : 'none';\n",
              "\n",
              "        async function convertToInteractive(key) {\n",
              "          const element = document.querySelector('#df-3fce448b-9f83-4ed4-9d9a-265a7774a263');\n",
              "          const dataTable =\n",
              "            await google.colab.kernel.invokeFunction('convertToInteractive',\n",
              "                                                     [key], {});\n",
              "          if (!dataTable) return;\n",
              "\n",
              "          const docLinkHtml = 'Like what you see? Visit the ' +\n",
              "            '<a target=\"_blank\" href=https://colab.research.google.com/notebooks/data_table.ipynb>data table notebook</a>'\n",
              "            + ' to learn more about interactive tables.';\n",
              "          element.innerHTML = '';\n",
              "          dataTable['output_type'] = 'display_data';\n",
              "          await google.colab.output.renderOutput(dataTable, element);\n",
              "          const docLink = document.createElement('div');\n",
              "          docLink.innerHTML = docLinkHtml;\n",
              "          element.appendChild(docLink);\n",
              "        }\n",
              "      </script>\n",
              "    </div>\n",
              "  </div>\n",
              "  "
            ]
          },
          "metadata": {},
          "execution_count": 56
        }
      ]
    },
    {
      "cell_type": "markdown",
      "source": [
        "Utilisation des methodes deja implementes"
      ],
      "metadata": {
        "id": "Cr8ewcCsM3rp"
      }
    },
    {
      "cell_type": "markdown",
      "source": [
        "\n",
        "\n",
        "1.   **TOPSIS**"
      ],
      "metadata": {
        "id": "kbkZ4iqHM7Lg"
      }
    },
    {
      "cell_type": "code",
      "source": [
        "topsis_data3 = data_3.copy()"
      ],
      "metadata": {
        "id": "rIWXkLsmM_E-"
      },
      "execution_count": null,
      "outputs": []
    },
    {
      "cell_type": "code",
      "source": [
        "topsis(topsis_data3, weights, types)"
      ],
      "metadata": {
        "id": "-h6lfJkmNDni"
      },
      "execution_count": null,
      "outputs": []
    },
    {
      "cell_type": "code",
      "source": [
        "topsis_data3"
      ],
      "metadata": {
        "colab": {
          "base_uri": "https://localhost:8080/",
          "height": 305
        },
        "id": "w9tVASFdNJnC",
        "outputId": "4f4328ad-6a7f-4070-c8be-295da942ef5d"
      },
      "execution_count": null,
      "outputs": [
        {
          "output_type": "execute_result",
          "data": {
            "text/plain": [
              "   carryfying capacity  max velocity  travel range  engine power  \\\n",
              "0                 3000      0.042420      0.047412      0.067960   \n",
              "1                 2000      0.044188      0.047412      0.067960   \n",
              "2                  705      0.053025      0.055586      0.027184   \n",
              "3                  613      0.061863      0.058856      0.047572   \n",
              "4                  350      0.044188      0.035967      0.010194   \n",
              "\n",
              "   engine torque  battery charging 100%  battery charging 80%  \\\n",
              "0       0.067251               0.064117              0.075088   \n",
              "1       0.067251               0.064117              0.075088   \n",
              "2       0.029767               0.025647              0.018772   \n",
              "3       0.044099               0.051294              0.025029   \n",
              "4       0.021609               0.028853              0.009386   \n",
              "\n",
              "   battery capacity     price  distance positive  distance negative  \\\n",
              "0          0.076129  0.083015           0.097247           0.111896   \n",
              "1          0.076129  0.062261           0.099107           0.099394   \n",
              "2          0.018455  0.017295           0.095664           0.086141   \n",
              "3          0.018609  0.034590           0.061781           0.099678   \n",
              "4          0.008074  0.008924           0.113972           0.094665   \n",
              "\n",
              "   Topsis Score  rank  \n",
              "0      0.535019   2.0  \n",
              "1      0.500722   3.0  \n",
              "2      0.473811   4.0  \n",
              "3      0.617358   1.0  \n",
              "4      0.453732   5.0  "
            ],
            "text/html": [
              "\n",
              "  <div id=\"df-274a6eae-7ce5-47cd-86d2-3da05fe44791\">\n",
              "    <div class=\"colab-df-container\">\n",
              "      <div>\n",
              "<style scoped>\n",
              "    .dataframe tbody tr th:only-of-type {\n",
              "        vertical-align: middle;\n",
              "    }\n",
              "\n",
              "    .dataframe tbody tr th {\n",
              "        vertical-align: top;\n",
              "    }\n",
              "\n",
              "    .dataframe thead th {\n",
              "        text-align: right;\n",
              "    }\n",
              "</style>\n",
              "<table border=\"1\" class=\"dataframe\">\n",
              "  <thead>\n",
              "    <tr style=\"text-align: right;\">\n",
              "      <th></th>\n",
              "      <th>carryfying capacity</th>\n",
              "      <th>max velocity</th>\n",
              "      <th>travel range</th>\n",
              "      <th>engine power</th>\n",
              "      <th>engine torque</th>\n",
              "      <th>battery charging 100%</th>\n",
              "      <th>battery charging 80%</th>\n",
              "      <th>battery capacity</th>\n",
              "      <th>price</th>\n",
              "      <th>distance positive</th>\n",
              "      <th>distance negative</th>\n",
              "      <th>Topsis Score</th>\n",
              "      <th>rank</th>\n",
              "    </tr>\n",
              "  </thead>\n",
              "  <tbody>\n",
              "    <tr>\n",
              "      <th>0</th>\n",
              "      <td>3000</td>\n",
              "      <td>0.042420</td>\n",
              "      <td>0.047412</td>\n",
              "      <td>0.067960</td>\n",
              "      <td>0.067251</td>\n",
              "      <td>0.064117</td>\n",
              "      <td>0.075088</td>\n",
              "      <td>0.076129</td>\n",
              "      <td>0.083015</td>\n",
              "      <td>0.097247</td>\n",
              "      <td>0.111896</td>\n",
              "      <td>0.535019</td>\n",
              "      <td>2.0</td>\n",
              "    </tr>\n",
              "    <tr>\n",
              "      <th>1</th>\n",
              "      <td>2000</td>\n",
              "      <td>0.044188</td>\n",
              "      <td>0.047412</td>\n",
              "      <td>0.067960</td>\n",
              "      <td>0.067251</td>\n",
              "      <td>0.064117</td>\n",
              "      <td>0.075088</td>\n",
              "      <td>0.076129</td>\n",
              "      <td>0.062261</td>\n",
              "      <td>0.099107</td>\n",
              "      <td>0.099394</td>\n",
              "      <td>0.500722</td>\n",
              "      <td>3.0</td>\n",
              "    </tr>\n",
              "    <tr>\n",
              "      <th>2</th>\n",
              "      <td>705</td>\n",
              "      <td>0.053025</td>\n",
              "      <td>0.055586</td>\n",
              "      <td>0.027184</td>\n",
              "      <td>0.029767</td>\n",
              "      <td>0.025647</td>\n",
              "      <td>0.018772</td>\n",
              "      <td>0.018455</td>\n",
              "      <td>0.017295</td>\n",
              "      <td>0.095664</td>\n",
              "      <td>0.086141</td>\n",
              "      <td>0.473811</td>\n",
              "      <td>4.0</td>\n",
              "    </tr>\n",
              "    <tr>\n",
              "      <th>3</th>\n",
              "      <td>613</td>\n",
              "      <td>0.061863</td>\n",
              "      <td>0.058856</td>\n",
              "      <td>0.047572</td>\n",
              "      <td>0.044099</td>\n",
              "      <td>0.051294</td>\n",
              "      <td>0.025029</td>\n",
              "      <td>0.018609</td>\n",
              "      <td>0.034590</td>\n",
              "      <td>0.061781</td>\n",
              "      <td>0.099678</td>\n",
              "      <td>0.617358</td>\n",
              "      <td>1.0</td>\n",
              "    </tr>\n",
              "    <tr>\n",
              "      <th>4</th>\n",
              "      <td>350</td>\n",
              "      <td>0.044188</td>\n",
              "      <td>0.035967</td>\n",
              "      <td>0.010194</td>\n",
              "      <td>0.021609</td>\n",
              "      <td>0.028853</td>\n",
              "      <td>0.009386</td>\n",
              "      <td>0.008074</td>\n",
              "      <td>0.008924</td>\n",
              "      <td>0.113972</td>\n",
              "      <td>0.094665</td>\n",
              "      <td>0.453732</td>\n",
              "      <td>5.0</td>\n",
              "    </tr>\n",
              "  </tbody>\n",
              "</table>\n",
              "</div>\n",
              "      <button class=\"colab-df-convert\" onclick=\"convertToInteractive('df-274a6eae-7ce5-47cd-86d2-3da05fe44791')\"\n",
              "              title=\"Convert this dataframe to an interactive table.\"\n",
              "              style=\"display:none;\">\n",
              "        \n",
              "  <svg xmlns=\"http://www.w3.org/2000/svg\" height=\"24px\"viewBox=\"0 0 24 24\"\n",
              "       width=\"24px\">\n",
              "    <path d=\"M0 0h24v24H0V0z\" fill=\"none\"/>\n",
              "    <path d=\"M18.56 5.44l.94 2.06.94-2.06 2.06-.94-2.06-.94-.94-2.06-.94 2.06-2.06.94zm-11 1L8.5 8.5l.94-2.06 2.06-.94-2.06-.94L8.5 2.5l-.94 2.06-2.06.94zm10 10l.94 2.06.94-2.06 2.06-.94-2.06-.94-.94-2.06-.94 2.06-2.06.94z\"/><path d=\"M17.41 7.96l-1.37-1.37c-.4-.4-.92-.59-1.43-.59-.52 0-1.04.2-1.43.59L10.3 9.45l-7.72 7.72c-.78.78-.78 2.05 0 2.83L4 21.41c.39.39.9.59 1.41.59.51 0 1.02-.2 1.41-.59l7.78-7.78 2.81-2.81c.8-.78.8-2.07 0-2.86zM5.41 20L4 18.59l7.72-7.72 1.47 1.35L5.41 20z\"/>\n",
              "  </svg>\n",
              "      </button>\n",
              "      \n",
              "  <style>\n",
              "    .colab-df-container {\n",
              "      display:flex;\n",
              "      flex-wrap:wrap;\n",
              "      gap: 12px;\n",
              "    }\n",
              "\n",
              "    .colab-df-convert {\n",
              "      background-color: #E8F0FE;\n",
              "      border: none;\n",
              "      border-radius: 50%;\n",
              "      cursor: pointer;\n",
              "      display: none;\n",
              "      fill: #1967D2;\n",
              "      height: 32px;\n",
              "      padding: 0 0 0 0;\n",
              "      width: 32px;\n",
              "    }\n",
              "\n",
              "    .colab-df-convert:hover {\n",
              "      background-color: #E2EBFA;\n",
              "      box-shadow: 0px 1px 2px rgba(60, 64, 67, 0.3), 0px 1px 3px 1px rgba(60, 64, 67, 0.15);\n",
              "      fill: #174EA6;\n",
              "    }\n",
              "\n",
              "    [theme=dark] .colab-df-convert {\n",
              "      background-color: #3B4455;\n",
              "      fill: #D2E3FC;\n",
              "    }\n",
              "\n",
              "    [theme=dark] .colab-df-convert:hover {\n",
              "      background-color: #434B5C;\n",
              "      box-shadow: 0px 1px 3px 1px rgba(0, 0, 0, 0.15);\n",
              "      filter: drop-shadow(0px 1px 2px rgba(0, 0, 0, 0.3));\n",
              "      fill: #FFFFFF;\n",
              "    }\n",
              "  </style>\n",
              "\n",
              "      <script>\n",
              "        const buttonEl =\n",
              "          document.querySelector('#df-274a6eae-7ce5-47cd-86d2-3da05fe44791 button.colab-df-convert');\n",
              "        buttonEl.style.display =\n",
              "          google.colab.kernel.accessAllowed ? 'block' : 'none';\n",
              "\n",
              "        async function convertToInteractive(key) {\n",
              "          const element = document.querySelector('#df-274a6eae-7ce5-47cd-86d2-3da05fe44791');\n",
              "          const dataTable =\n",
              "            await google.colab.kernel.invokeFunction('convertToInteractive',\n",
              "                                                     [key], {});\n",
              "          if (!dataTable) return;\n",
              "\n",
              "          const docLinkHtml = 'Like what you see? Visit the ' +\n",
              "            '<a target=\"_blank\" href=https://colab.research.google.com/notebooks/data_table.ipynb>data table notebook</a>'\n",
              "            + ' to learn more about interactive tables.';\n",
              "          element.innerHTML = '';\n",
              "          dataTable['output_type'] = 'display_data';\n",
              "          await google.colab.output.renderOutput(dataTable, element);\n",
              "          const docLink = document.createElement('div');\n",
              "          docLink.innerHTML = docLinkHtml;\n",
              "          element.appendChild(docLink);\n",
              "        }\n",
              "      </script>\n",
              "    </div>\n",
              "  </div>\n",
              "  "
            ]
          },
          "metadata": {},
          "execution_count": 59
        }
      ]
    },
    {
      "cell_type": "markdown",
      "source": [
        "2.   **VIKOR**\n"
      ],
      "metadata": {
        "id": "Wf_-42iHNRL_"
      }
    },
    {
      "cell_type": "code",
      "source": [
        "vikor_data3 = data_3.copy()"
      ],
      "metadata": {
        "id": "ymugPUN6NVN5"
      },
      "execution_count": null,
      "outputs": []
    },
    {
      "cell_type": "code",
      "source": [
        "vikor(vikor_data3, weights, types)"
      ],
      "metadata": {
        "id": "M058ClL6NZ_w"
      },
      "execution_count": null,
      "outputs": []
    },
    {
      "cell_type": "code",
      "source": [
        "vikor_data3"
      ],
      "metadata": {
        "colab": {
          "base_uri": "https://localhost:8080/",
          "height": 305
        },
        "id": "EtkLkJUYNbdm",
        "outputId": "14a807f8-d098-47b3-9a25-3a82e50a6a32"
      },
      "execution_count": null,
      "outputs": [
        {
          "output_type": "execute_result",
          "data": {
            "text/plain": [
              "   carryfying capacity  max velocity  travel range  engine power  \\\n",
              "0                 3000            96           145           200   \n",
              "1                 2000           100           145           200   \n",
              "2                  705           120           170            80   \n",
              "3                  613           140           180           140   \n",
              "4                  350           100           110            30   \n",
              "\n",
              "   engine torque  battery charging 100%  battery charging 80%  \\\n",
              "0            610                   10.0                   120   \n",
              "1            610                   10.0                   120   \n",
              "2            270                    4.0                    30   \n",
              "3            400                    8.0                    40   \n",
              "4            196                    4.5                    15   \n",
              "\n",
              "   battery capacity  price      R      S  VIKOR index  rank  \n",
              "0              99.0  120.0  0.111  0.500        0.611   3.0  \n",
              "1              99.0   90.0  0.111  0.501        0.613   2.0  \n",
              "2              24.0   25.0  0.096  0.455        0.061   5.0  \n",
              "3              24.2   50.0  0.100  0.429        0.119   4.0  \n",
              "4              10.5   12.9  0.111  0.666        1.000   1.0  "
            ],
            "text/html": [
              "\n",
              "  <div id=\"df-afe5f98c-2491-4ad8-b8b8-091f6a52aba9\">\n",
              "    <div class=\"colab-df-container\">\n",
              "      <div>\n",
              "<style scoped>\n",
              "    .dataframe tbody tr th:only-of-type {\n",
              "        vertical-align: middle;\n",
              "    }\n",
              "\n",
              "    .dataframe tbody tr th {\n",
              "        vertical-align: top;\n",
              "    }\n",
              "\n",
              "    .dataframe thead th {\n",
              "        text-align: right;\n",
              "    }\n",
              "</style>\n",
              "<table border=\"1\" class=\"dataframe\">\n",
              "  <thead>\n",
              "    <tr style=\"text-align: right;\">\n",
              "      <th></th>\n",
              "      <th>carryfying capacity</th>\n",
              "      <th>max velocity</th>\n",
              "      <th>travel range</th>\n",
              "      <th>engine power</th>\n",
              "      <th>engine torque</th>\n",
              "      <th>battery charging 100%</th>\n",
              "      <th>battery charging 80%</th>\n",
              "      <th>battery capacity</th>\n",
              "      <th>price</th>\n",
              "      <th>R</th>\n",
              "      <th>S</th>\n",
              "      <th>VIKOR index</th>\n",
              "      <th>rank</th>\n",
              "    </tr>\n",
              "  </thead>\n",
              "  <tbody>\n",
              "    <tr>\n",
              "      <th>0</th>\n",
              "      <td>3000</td>\n",
              "      <td>96</td>\n",
              "      <td>145</td>\n",
              "      <td>200</td>\n",
              "      <td>610</td>\n",
              "      <td>10.0</td>\n",
              "      <td>120</td>\n",
              "      <td>99.0</td>\n",
              "      <td>120.0</td>\n",
              "      <td>0.111</td>\n",
              "      <td>0.500</td>\n",
              "      <td>0.611</td>\n",
              "      <td>3.0</td>\n",
              "    </tr>\n",
              "    <tr>\n",
              "      <th>1</th>\n",
              "      <td>2000</td>\n",
              "      <td>100</td>\n",
              "      <td>145</td>\n",
              "      <td>200</td>\n",
              "      <td>610</td>\n",
              "      <td>10.0</td>\n",
              "      <td>120</td>\n",
              "      <td>99.0</td>\n",
              "      <td>90.0</td>\n",
              "      <td>0.111</td>\n",
              "      <td>0.501</td>\n",
              "      <td>0.613</td>\n",
              "      <td>2.0</td>\n",
              "    </tr>\n",
              "    <tr>\n",
              "      <th>2</th>\n",
              "      <td>705</td>\n",
              "      <td>120</td>\n",
              "      <td>170</td>\n",
              "      <td>80</td>\n",
              "      <td>270</td>\n",
              "      <td>4.0</td>\n",
              "      <td>30</td>\n",
              "      <td>24.0</td>\n",
              "      <td>25.0</td>\n",
              "      <td>0.096</td>\n",
              "      <td>0.455</td>\n",
              "      <td>0.061</td>\n",
              "      <td>5.0</td>\n",
              "    </tr>\n",
              "    <tr>\n",
              "      <th>3</th>\n",
              "      <td>613</td>\n",
              "      <td>140</td>\n",
              "      <td>180</td>\n",
              "      <td>140</td>\n",
              "      <td>400</td>\n",
              "      <td>8.0</td>\n",
              "      <td>40</td>\n",
              "      <td>24.2</td>\n",
              "      <td>50.0</td>\n",
              "      <td>0.100</td>\n",
              "      <td>0.429</td>\n",
              "      <td>0.119</td>\n",
              "      <td>4.0</td>\n",
              "    </tr>\n",
              "    <tr>\n",
              "      <th>4</th>\n",
              "      <td>350</td>\n",
              "      <td>100</td>\n",
              "      <td>110</td>\n",
              "      <td>30</td>\n",
              "      <td>196</td>\n",
              "      <td>4.5</td>\n",
              "      <td>15</td>\n",
              "      <td>10.5</td>\n",
              "      <td>12.9</td>\n",
              "      <td>0.111</td>\n",
              "      <td>0.666</td>\n",
              "      <td>1.000</td>\n",
              "      <td>1.0</td>\n",
              "    </tr>\n",
              "  </tbody>\n",
              "</table>\n",
              "</div>\n",
              "      <button class=\"colab-df-convert\" onclick=\"convertToInteractive('df-afe5f98c-2491-4ad8-b8b8-091f6a52aba9')\"\n",
              "              title=\"Convert this dataframe to an interactive table.\"\n",
              "              style=\"display:none;\">\n",
              "        \n",
              "  <svg xmlns=\"http://www.w3.org/2000/svg\" height=\"24px\"viewBox=\"0 0 24 24\"\n",
              "       width=\"24px\">\n",
              "    <path d=\"M0 0h24v24H0V0z\" fill=\"none\"/>\n",
              "    <path d=\"M18.56 5.44l.94 2.06.94-2.06 2.06-.94-2.06-.94-.94-2.06-.94 2.06-2.06.94zm-11 1L8.5 8.5l.94-2.06 2.06-.94-2.06-.94L8.5 2.5l-.94 2.06-2.06.94zm10 10l.94 2.06.94-2.06 2.06-.94-2.06-.94-.94-2.06-.94 2.06-2.06.94z\"/><path d=\"M17.41 7.96l-1.37-1.37c-.4-.4-.92-.59-1.43-.59-.52 0-1.04.2-1.43.59L10.3 9.45l-7.72 7.72c-.78.78-.78 2.05 0 2.83L4 21.41c.39.39.9.59 1.41.59.51 0 1.02-.2 1.41-.59l7.78-7.78 2.81-2.81c.8-.78.8-2.07 0-2.86zM5.41 20L4 18.59l7.72-7.72 1.47 1.35L5.41 20z\"/>\n",
              "  </svg>\n",
              "      </button>\n",
              "      \n",
              "  <style>\n",
              "    .colab-df-container {\n",
              "      display:flex;\n",
              "      flex-wrap:wrap;\n",
              "      gap: 12px;\n",
              "    }\n",
              "\n",
              "    .colab-df-convert {\n",
              "      background-color: #E8F0FE;\n",
              "      border: none;\n",
              "      border-radius: 50%;\n",
              "      cursor: pointer;\n",
              "      display: none;\n",
              "      fill: #1967D2;\n",
              "      height: 32px;\n",
              "      padding: 0 0 0 0;\n",
              "      width: 32px;\n",
              "    }\n",
              "\n",
              "    .colab-df-convert:hover {\n",
              "      background-color: #E2EBFA;\n",
              "      box-shadow: 0px 1px 2px rgba(60, 64, 67, 0.3), 0px 1px 3px 1px rgba(60, 64, 67, 0.15);\n",
              "      fill: #174EA6;\n",
              "    }\n",
              "\n",
              "    [theme=dark] .colab-df-convert {\n",
              "      background-color: #3B4455;\n",
              "      fill: #D2E3FC;\n",
              "    }\n",
              "\n",
              "    [theme=dark] .colab-df-convert:hover {\n",
              "      background-color: #434B5C;\n",
              "      box-shadow: 0px 1px 3px 1px rgba(0, 0, 0, 0.15);\n",
              "      filter: drop-shadow(0px 1px 2px rgba(0, 0, 0, 0.3));\n",
              "      fill: #FFFFFF;\n",
              "    }\n",
              "  </style>\n",
              "\n",
              "      <script>\n",
              "        const buttonEl =\n",
              "          document.querySelector('#df-afe5f98c-2491-4ad8-b8b8-091f6a52aba9 button.colab-df-convert');\n",
              "        buttonEl.style.display =\n",
              "          google.colab.kernel.accessAllowed ? 'block' : 'none';\n",
              "\n",
              "        async function convertToInteractive(key) {\n",
              "          const element = document.querySelector('#df-afe5f98c-2491-4ad8-b8b8-091f6a52aba9');\n",
              "          const dataTable =\n",
              "            await google.colab.kernel.invokeFunction('convertToInteractive',\n",
              "                                                     [key], {});\n",
              "          if (!dataTable) return;\n",
              "\n",
              "          const docLinkHtml = 'Like what you see? Visit the ' +\n",
              "            '<a target=\"_blank\" href=https://colab.research.google.com/notebooks/data_table.ipynb>data table notebook</a>'\n",
              "            + ' to learn more about interactive tables.';\n",
              "          element.innerHTML = '';\n",
              "          dataTable['output_type'] = 'display_data';\n",
              "          await google.colab.output.renderOutput(dataTable, element);\n",
              "          const docLink = document.createElement('div');\n",
              "          docLink.innerHTML = docLinkHtml;\n",
              "          element.appendChild(docLink);\n",
              "        }\n",
              "      </script>\n",
              "    </div>\n",
              "  </div>\n",
              "  "
            ]
          },
          "metadata": {},
          "execution_count": 62
        }
      ]
    },
    {
      "cell_type": "markdown",
      "source": [
        "3.   **WPM**\n",
        "\n"
      ],
      "metadata": {
        "id": "0371jlFhOar-"
      }
    },
    {
      "cell_type": "code",
      "source": [
        "wpm_data3 = data_3.copy()"
      ],
      "metadata": {
        "id": "4mieCvGLOeRG"
      },
      "execution_count": null,
      "outputs": []
    },
    {
      "cell_type": "code",
      "source": [
        "wpm(wpm_data3, weights, types)"
      ],
      "metadata": {
        "id": "mpa6dxvhOja-"
      },
      "execution_count": null,
      "outputs": []
    },
    {
      "cell_type": "code",
      "source": [
        "wpm_data3"
      ],
      "metadata": {
        "colab": {
          "base_uri": "https://localhost:8080/",
          "height": 305
        },
        "id": "FIonJmF7Ulzk",
        "outputId": "55f5aebc-6ebf-4280-ce95-d4474aa41421"
      },
      "execution_count": null,
      "outputs": [
        {
          "output_type": "execute_result",
          "data": {
            "text/plain": [
              "   carryfying capacity  max velocity  travel range  engine power  \\\n",
              "0             1.000000      0.958949      0.976264      1.000000   \n",
              "1             0.955952      0.963308      0.976264      1.000000   \n",
              "2             0.851384      0.983020      0.993670      0.903210   \n",
              "3             0.838260      1.000000      1.000000      0.961148   \n",
              "4             0.787658      0.963308      0.946756      0.809960   \n",
              "\n",
              "   engine torque  battery charging 100%  battery charging 80%  \\\n",
              "0       1.000000               0.903210              0.793719   \n",
              "1       1.000000               0.903210              0.793719   \n",
              "2       0.913428               1.000000              0.925882   \n",
              "3       0.954198               0.925882              0.896757   \n",
              "4       0.881494               0.987000              1.000000   \n",
              "\n",
              "   battery capacity     price  wpm score  rank  \n",
              "0          1.000000  0.780530   0.523851   1.0  \n",
              "1          1.000000  0.805880   0.519391   2.0  \n",
              "2          0.854331  0.929128   0.504255   3.0  \n",
              "3          0.855120  0.860262   0.469565   4.0  \n",
              "4          0.779362  1.000000   0.394530   5.0  "
            ],
            "text/html": [
              "\n",
              "  <div id=\"df-0e980a7f-8cdb-4270-81a6-53865b6a1eb3\">\n",
              "    <div class=\"colab-df-container\">\n",
              "      <div>\n",
              "<style scoped>\n",
              "    .dataframe tbody tr th:only-of-type {\n",
              "        vertical-align: middle;\n",
              "    }\n",
              "\n",
              "    .dataframe tbody tr th {\n",
              "        vertical-align: top;\n",
              "    }\n",
              "\n",
              "    .dataframe thead th {\n",
              "        text-align: right;\n",
              "    }\n",
              "</style>\n",
              "<table border=\"1\" class=\"dataframe\">\n",
              "  <thead>\n",
              "    <tr style=\"text-align: right;\">\n",
              "      <th></th>\n",
              "      <th>carryfying capacity</th>\n",
              "      <th>max velocity</th>\n",
              "      <th>travel range</th>\n",
              "      <th>engine power</th>\n",
              "      <th>engine torque</th>\n",
              "      <th>battery charging 100%</th>\n",
              "      <th>battery charging 80%</th>\n",
              "      <th>battery capacity</th>\n",
              "      <th>price</th>\n",
              "      <th>wpm score</th>\n",
              "      <th>rank</th>\n",
              "    </tr>\n",
              "  </thead>\n",
              "  <tbody>\n",
              "    <tr>\n",
              "      <th>0</th>\n",
              "      <td>1.000000</td>\n",
              "      <td>0.958949</td>\n",
              "      <td>0.976264</td>\n",
              "      <td>1.000000</td>\n",
              "      <td>1.000000</td>\n",
              "      <td>0.903210</td>\n",
              "      <td>0.793719</td>\n",
              "      <td>1.000000</td>\n",
              "      <td>0.780530</td>\n",
              "      <td>0.523851</td>\n",
              "      <td>1.0</td>\n",
              "    </tr>\n",
              "    <tr>\n",
              "      <th>1</th>\n",
              "      <td>0.955952</td>\n",
              "      <td>0.963308</td>\n",
              "      <td>0.976264</td>\n",
              "      <td>1.000000</td>\n",
              "      <td>1.000000</td>\n",
              "      <td>0.903210</td>\n",
              "      <td>0.793719</td>\n",
              "      <td>1.000000</td>\n",
              "      <td>0.805880</td>\n",
              "      <td>0.519391</td>\n",
              "      <td>2.0</td>\n",
              "    </tr>\n",
              "    <tr>\n",
              "      <th>2</th>\n",
              "      <td>0.851384</td>\n",
              "      <td>0.983020</td>\n",
              "      <td>0.993670</td>\n",
              "      <td>0.903210</td>\n",
              "      <td>0.913428</td>\n",
              "      <td>1.000000</td>\n",
              "      <td>0.925882</td>\n",
              "      <td>0.854331</td>\n",
              "      <td>0.929128</td>\n",
              "      <td>0.504255</td>\n",
              "      <td>3.0</td>\n",
              "    </tr>\n",
              "    <tr>\n",
              "      <th>3</th>\n",
              "      <td>0.838260</td>\n",
              "      <td>1.000000</td>\n",
              "      <td>1.000000</td>\n",
              "      <td>0.961148</td>\n",
              "      <td>0.954198</td>\n",
              "      <td>0.925882</td>\n",
              "      <td>0.896757</td>\n",
              "      <td>0.855120</td>\n",
              "      <td>0.860262</td>\n",
              "      <td>0.469565</td>\n",
              "      <td>4.0</td>\n",
              "    </tr>\n",
              "    <tr>\n",
              "      <th>4</th>\n",
              "      <td>0.787658</td>\n",
              "      <td>0.963308</td>\n",
              "      <td>0.946756</td>\n",
              "      <td>0.809960</td>\n",
              "      <td>0.881494</td>\n",
              "      <td>0.987000</td>\n",
              "      <td>1.000000</td>\n",
              "      <td>0.779362</td>\n",
              "      <td>1.000000</td>\n",
              "      <td>0.394530</td>\n",
              "      <td>5.0</td>\n",
              "    </tr>\n",
              "  </tbody>\n",
              "</table>\n",
              "</div>\n",
              "      <button class=\"colab-df-convert\" onclick=\"convertToInteractive('df-0e980a7f-8cdb-4270-81a6-53865b6a1eb3')\"\n",
              "              title=\"Convert this dataframe to an interactive table.\"\n",
              "              style=\"display:none;\">\n",
              "        \n",
              "  <svg xmlns=\"http://www.w3.org/2000/svg\" height=\"24px\"viewBox=\"0 0 24 24\"\n",
              "       width=\"24px\">\n",
              "    <path d=\"M0 0h24v24H0V0z\" fill=\"none\"/>\n",
              "    <path d=\"M18.56 5.44l.94 2.06.94-2.06 2.06-.94-2.06-.94-.94-2.06-.94 2.06-2.06.94zm-11 1L8.5 8.5l.94-2.06 2.06-.94-2.06-.94L8.5 2.5l-.94 2.06-2.06.94zm10 10l.94 2.06.94-2.06 2.06-.94-2.06-.94-.94-2.06-.94 2.06-2.06.94z\"/><path d=\"M17.41 7.96l-1.37-1.37c-.4-.4-.92-.59-1.43-.59-.52 0-1.04.2-1.43.59L10.3 9.45l-7.72 7.72c-.78.78-.78 2.05 0 2.83L4 21.41c.39.39.9.59 1.41.59.51 0 1.02-.2 1.41-.59l7.78-7.78 2.81-2.81c.8-.78.8-2.07 0-2.86zM5.41 20L4 18.59l7.72-7.72 1.47 1.35L5.41 20z\"/>\n",
              "  </svg>\n",
              "      </button>\n",
              "      \n",
              "  <style>\n",
              "    .colab-df-container {\n",
              "      display:flex;\n",
              "      flex-wrap:wrap;\n",
              "      gap: 12px;\n",
              "    }\n",
              "\n",
              "    .colab-df-convert {\n",
              "      background-color: #E8F0FE;\n",
              "      border: none;\n",
              "      border-radius: 50%;\n",
              "      cursor: pointer;\n",
              "      display: none;\n",
              "      fill: #1967D2;\n",
              "      height: 32px;\n",
              "      padding: 0 0 0 0;\n",
              "      width: 32px;\n",
              "    }\n",
              "\n",
              "    .colab-df-convert:hover {\n",
              "      background-color: #E2EBFA;\n",
              "      box-shadow: 0px 1px 2px rgba(60, 64, 67, 0.3), 0px 1px 3px 1px rgba(60, 64, 67, 0.15);\n",
              "      fill: #174EA6;\n",
              "    }\n",
              "\n",
              "    [theme=dark] .colab-df-convert {\n",
              "      background-color: #3B4455;\n",
              "      fill: #D2E3FC;\n",
              "    }\n",
              "\n",
              "    [theme=dark] .colab-df-convert:hover {\n",
              "      background-color: #434B5C;\n",
              "      box-shadow: 0px 1px 3px 1px rgba(0, 0, 0, 0.15);\n",
              "      filter: drop-shadow(0px 1px 2px rgba(0, 0, 0, 0.3));\n",
              "      fill: #FFFFFF;\n",
              "    }\n",
              "  </style>\n",
              "\n",
              "      <script>\n",
              "        const buttonEl =\n",
              "          document.querySelector('#df-0e980a7f-8cdb-4270-81a6-53865b6a1eb3 button.colab-df-convert');\n",
              "        buttonEl.style.display =\n",
              "          google.colab.kernel.accessAllowed ? 'block' : 'none';\n",
              "\n",
              "        async function convertToInteractive(key) {\n",
              "          const element = document.querySelector('#df-0e980a7f-8cdb-4270-81a6-53865b6a1eb3');\n",
              "          const dataTable =\n",
              "            await google.colab.kernel.invokeFunction('convertToInteractive',\n",
              "                                                     [key], {});\n",
              "          if (!dataTable) return;\n",
              "\n",
              "          const docLinkHtml = 'Like what you see? Visit the ' +\n",
              "            '<a target=\"_blank\" href=https://colab.research.google.com/notebooks/data_table.ipynb>data table notebook</a>'\n",
              "            + ' to learn more about interactive tables.';\n",
              "          element.innerHTML = '';\n",
              "          dataTable['output_type'] = 'display_data';\n",
              "          await google.colab.output.renderOutput(dataTable, element);\n",
              "          const docLink = document.createElement('div');\n",
              "          docLink.innerHTML = docLinkHtml;\n",
              "          element.appendChild(docLink);\n",
              "        }\n",
              "      </script>\n",
              "    </div>\n",
              "  </div>\n",
              "  "
            ]
          },
          "metadata": {},
          "execution_count": 65
        }
      ]
    },
    {
      "cell_type": "markdown",
      "source": [
        "**Comparaison des methodes**"
      ],
      "metadata": {
        "id": "98NFHCGHXeiK"
      }
    },
    {
      "cell_type": "code",
      "source": [
        "a3 = [f'A{i+1}' for i in range(5)]\n",
        "b3 = topsis_data3['rank'].to_numpy()\n",
        "c3 = vikor_data3['rank'].to_numpy()\n",
        "d3 = wpm_data3['rank'].to_numpy()\n",
        "t_d3 = Table([a3, b3, c3, d3], names=('alternatives', 'TOPSIS', 'VIKOR', 'WPM'))\n",
        "t_d3"
      ],
      "metadata": {
        "colab": {
          "base_uri": "https://localhost:8080/",
          "height": 223
        },
        "id": "N1v_m_hpXheJ",
        "outputId": "732d3b16-08d5-46fb-e48e-77c3b4fdb47c"
      },
      "execution_count": null,
      "outputs": [
        {
          "output_type": "execute_result",
          "data": {
            "text/plain": [
              "<Table length=5>\n",
              "alternatives  TOPSIS  VIKOR    WPM  \n",
              "    str2     float64 float64 float64\n",
              "------------ ------- ------- -------\n",
              "          A1     2.0     3.0     1.0\n",
              "          A2     3.0     2.0     2.0\n",
              "          A3     4.0     5.0     3.0\n",
              "          A4     1.0     4.0     4.0\n",
              "          A5     5.0     1.0     5.0"
            ],
            "text/html": [
              "<div><i>Table length=5</i>\n",
              "<table id=\"table139943809010384\" class=\"table-striped table-bordered table-condensed\">\n",
              "<thead><tr><th>alternatives</th><th>TOPSIS</th><th>VIKOR</th><th>WPM</th></tr></thead>\n",
              "<thead><tr><th>str2</th><th>float64</th><th>float64</th><th>float64</th></tr></thead>\n",
              "<tr><td>A1</td><td>2.0</td><td>3.0</td><td>1.0</td></tr>\n",
              "<tr><td>A2</td><td>3.0</td><td>2.0</td><td>2.0</td></tr>\n",
              "<tr><td>A3</td><td>4.0</td><td>5.0</td><td>3.0</td></tr>\n",
              "<tr><td>A4</td><td>1.0</td><td>4.0</td><td>4.0</td></tr>\n",
              "<tr><td>A5</td><td>5.0</td><td>1.0</td><td>5.0</td></tr>\n",
              "</table></div>"
            ]
          },
          "metadata": {},
          "execution_count": 66
        }
      ]
    },
    {
      "cell_type": "markdown",
      "source": [
        "Cosine similariry"
      ],
      "metadata": {
        "id": "gEUUdAerYVFi"
      }
    },
    {
      "cell_type": "code",
      "source": [
        "CS3 = []\n",
        "# topsis vs vikor\n",
        "CS3.append(np.dot(b3,c3)/(norm(b3)*norm(c3)))\n",
        "# topsis vs wpm\n",
        "CS3.append(np.dot(b3,d3)/(norm(b3)*norm(d3)))\n",
        "# vikor vs wpm\n",
        "CS3.append(np.dot(c3,d3)/(norm(c3)*norm(d3)))"
      ],
      "metadata": {
        "id": "Xthq3xLHYXGv"
      },
      "execution_count": null,
      "outputs": []
    },
    {
      "cell_type": "code",
      "source": [
        "a = ['topsis & vikor', 'topsis & wpm', 'vikor & wpm']\n",
        "t2_3 = Table([a, CS3], names=('methodes', 'Cosine similarity'))\n",
        "t2_3"
      ],
      "metadata": {
        "colab": {
          "base_uri": "https://localhost:8080/",
          "height": 233
        },
        "id": "JkYkoqaUZOxQ",
        "outputId": "e148e485-4154-4520-dd74-6090736e64ba"
      },
      "execution_count": null,
      "outputs": [
        {
          "output_type": "execute_result",
          "data": {
            "text/plain": [
              "<Table length=3>\n",
              "   methodes    Cosine similarity \n",
              "    str14           float64      \n",
              "-------------- ------------------\n",
              "topsis & vikor 0.7454545454545455\n",
              "  topsis & wpm 0.8909090909090909\n",
              "   vikor & wpm 0.7818181818181819"
            ],
            "text/html": [
              "<div><i>Table length=3</i>\n",
              "<table id=\"table139943809726928\" class=\"table-striped table-bordered table-condensed\">\n",
              "<thead><tr><th>methodes</th><th>Cosine similarity</th></tr></thead>\n",
              "<thead><tr><th>str14</th><th>float64</th></tr></thead>\n",
              "<tr><td>topsis &amp; vikor</td><td>0.7454545454545455</td></tr>\n",
              "<tr><td>topsis &amp; wpm</td><td>0.8909090909090909</td></tr>\n",
              "<tr><td>vikor &amp; wpm</td><td>0.7818181818181819</td></tr>\n",
              "</table></div>"
            ]
          },
          "metadata": {},
          "execution_count": 68
        }
      ]
    },
    {
      "cell_type": "markdown",
      "source": [
        "Calcul de coefficient de Kendall"
      ],
      "metadata": {
        "id": "XampxVrqb8lf"
      }
    },
    {
      "cell_type": "code",
      "source": [
        "Kt3 = []\n",
        "# topsis vs vikor\n",
        "Kt3.append(stats.kendalltau(b3, c3)[0])\n",
        "# topsis vs wpm\n",
        "Kt3.append(stats.kendalltau(b3, d3)[0])\n",
        "# vikor vs wpm\n",
        "Kt3.append(stats.kendalltau(c3, d3)[0])"
      ],
      "metadata": {
        "id": "Dta5WYIgcFbG"
      },
      "execution_count": null,
      "outputs": []
    },
    {
      "cell_type": "code",
      "source": [
        "a = ['topsis & vikor', 'topsis & wpm', 'vikor & wpm']\n",
        "t3_3 = Table([a, Kt3], names=('methodes', 'Kendall’s tau'))\n",
        "t3_3"
      ],
      "metadata": {
        "colab": {
          "base_uri": "https://localhost:8080/",
          "height": 233
        },
        "id": "XnUuTlSycgfu",
        "outputId": "357356e6-be90-4f38-be3e-96b480ee1631"
      },
      "execution_count": null,
      "outputs": [
        {
          "output_type": "execute_result",
          "data": {
            "text/plain": [
              "<Table length=3>\n",
              "   methodes       Kendall’s tau    \n",
              "    str14            float64       \n",
              "-------------- --------------------\n",
              "topsis & vikor -0.39999999999999997\n",
              "  topsis & wpm  0.39999999999999997\n",
              "   vikor & wpm -0.19999999999999998"
            ],
            "text/html": [
              "<div><i>Table length=3</i>\n",
              "<table id=\"table139943815544656\" class=\"table-striped table-bordered table-condensed\">\n",
              "<thead><tr><th>methodes</th><th>Kendall’s tau</th></tr></thead>\n",
              "<thead><tr><th>str14</th><th>float64</th></tr></thead>\n",
              "<tr><td>topsis &amp; vikor</td><td>-0.39999999999999997</td></tr>\n",
              "<tr><td>topsis &amp; wpm</td><td>0.39999999999999997</td></tr>\n",
              "<tr><td>vikor &amp; wpm</td><td>-0.19999999999999998</td></tr>\n",
              "</table></div>"
            ]
          },
          "metadata": {},
          "execution_count": 70
        }
      ]
    },
    {
      "cell_type": "markdown",
      "source": [
        "Calcul de coefficient de spearman"
      ],
      "metadata": {
        "id": "Eu0VQQW6cAnW"
      }
    },
    {
      "cell_type": "code",
      "source": [
        "Sr3 = []\n",
        "# topsis vs vikor\n",
        "Sr3.append(stats.spearmanr(b3, c3)[0])\n",
        "# topsis vs wpm\n",
        "Sr3.append(stats.spearmanr(b3, d3)[0])\n",
        "# vikor vs wpm\n",
        "Sr3.append(stats.spearmanr(c3, d3)[0])"
      ],
      "metadata": {
        "id": "1gf02jdVcuZg"
      },
      "execution_count": null,
      "outputs": []
    },
    {
      "cell_type": "code",
      "source": [
        "a = ['topsis & vikor', 'topsis & wpm', 'vikor & wpm']\n",
        "t4_3 = Table([a, Sr3], names=('methodes', 'Spearman’s rho'))\n",
        "t4_3"
      ],
      "metadata": {
        "colab": {
          "base_uri": "https://localhost:8080/",
          "height": 233
        },
        "id": "840-GCXHdAQp",
        "outputId": "1579326f-b275-4b2e-fd02-efd9e7e4cecc"
      },
      "execution_count": null,
      "outputs": [
        {
          "output_type": "execute_result",
          "data": {
            "text/plain": [
              "<Table length=3>\n",
              "   methodes       Spearman’s rho   \n",
              "    str14            float64       \n",
              "-------------- --------------------\n",
              "topsis & vikor -0.39999999999999997\n",
              "  topsis & wpm  0.39999999999999997\n",
              "   vikor & wpm -0.19999999999999998"
            ],
            "text/html": [
              "<div><i>Table length=3</i>\n",
              "<table id=\"table139943809009104\" class=\"table-striped table-bordered table-condensed\">\n",
              "<thead><tr><th>methodes</th><th>Spearman’s rho</th></tr></thead>\n",
              "<thead><tr><th>str14</th><th>float64</th></tr></thead>\n",
              "<tr><td>topsis &amp; vikor</td><td>-0.39999999999999997</td></tr>\n",
              "<tr><td>topsis &amp; wpm</td><td>0.39999999999999997</td></tr>\n",
              "<tr><td>vikor &amp; wpm</td><td>-0.19999999999999998</td></tr>\n",
              "</table></div>"
            ]
          },
          "metadata": {},
          "execution_count": 72
        }
      ]
    },
    {
      "cell_type": "markdown",
      "source": [
        "Temps d'execution"
      ],
      "metadata": {
        "id": "LMi8frUPbKW0"
      }
    },
    {
      "cell_type": "code",
      "source": [
        "a_t3 = [0.451,0.362,0.007]\n",
        "b = ['topsis', 'vikor', 'wpm']\n",
        "plt.plot(b,a_t3)\n",
        "plt.ylabel('temps en secondes')\n",
        "plt.xlabel('methodes')\n",
        "plt.title(\"comparaison de temps d'execution\")\n",
        "plt.show()"
      ],
      "metadata": {
        "colab": {
          "base_uri": "https://localhost:8080/",
          "height": 54
        },
        "id": "29_iBWPKbMqw",
        "outputId": "47842037-722b-4e57-a385-ad67fcee910b"
      },
      "execution_count": null,
      "outputs": [
        {
          "output_type": "display_data",
          "data": {
            "text/plain": [
              "<Figure size 432x288 with 1 Axes>"
            ],
            "image/png": "[encoded data removed]"
          },
          "metadata": {
            "needs_background": "light"
          }
        }
      ]
    },
    {
      "cell_type": "markdown",
      "source": [
        "####**Cas 4: 5 alternatives et 4 criteres**"
      ],
      "metadata": {
        "id": "mTeNVTkaU0MV"
      }
    },
    {
      "cell_type": "markdown",
      "source": [
        "Determination de dataframe"
      ],
      "metadata": {
        "id": "vX-85DFdU-O6"
      }
    },
    {
      "cell_type": "code",
      "source": [
        "data_4 = dataframe.iloc[0:5,8:]\n",
        "data_4.head()"
      ],
      "metadata": {
        "colab": {
          "base_uri": "https://localhost:8080/",
          "height": 206
        },
        "id": "XZnCBu43VAWc",
        "outputId": "92a11cbb-3415-41e7-b5a1-21bcfd553002"
      },
      "execution_count": null,
      "outputs": [
        {
          "output_type": "execute_result",
          "data": {
            "text/plain": [
              "   battery charging 100%  battery charging 80%  battery capacity  price\n",
              "0                   10.0                   120              99.0  120.0\n",
              "1                   10.0                   120              99.0   90.0\n",
              "2                    4.0                    30              24.0   25.0\n",
              "3                    8.0                    40              24.2   50.0\n",
              "4                    4.5                    15              10.5   12.9"
            ],
            "text/html": [
              "\n",
              "  <div id=\"df-2e1823f5-e3a2-4f96-a7db-f90034c48f20\">\n",
              "    <div class=\"colab-df-container\">\n",
              "      <div>\n",
              "<style scoped>\n",
              "    .dataframe tbody tr th:only-of-type {\n",
              "        vertical-align: middle;\n",
              "    }\n",
              "\n",
              "    .dataframe tbody tr th {\n",
              "        vertical-align: top;\n",
              "    }\n",
              "\n",
              "    .dataframe thead th {\n",
              "        text-align: right;\n",
              "    }\n",
              "</style>\n",
              "<table border=\"1\" class=\"dataframe\">\n",
              "  <thead>\n",
              "    <tr style=\"text-align: right;\">\n",
              "      <th></th>\n",
              "      <th>battery charging 100%</th>\n",
              "      <th>battery charging 80%</th>\n",
              "      <th>battery capacity</th>\n",
              "      <th>price</th>\n",
              "    </tr>\n",
              "  </thead>\n",
              "  <tbody>\n",
              "    <tr>\n",
              "      <th>0</th>\n",
              "      <td>10.0</td>\n",
              "      <td>120</td>\n",
              "      <td>99.0</td>\n",
              "      <td>120.0</td>\n",
              "    </tr>\n",
              "    <tr>\n",
              "      <th>1</th>\n",
              "      <td>10.0</td>\n",
              "      <td>120</td>\n",
              "      <td>99.0</td>\n",
              "      <td>90.0</td>\n",
              "    </tr>\n",
              "    <tr>\n",
              "      <th>2</th>\n",
              "      <td>4.0</td>\n",
              "      <td>30</td>\n",
              "      <td>24.0</td>\n",
              "      <td>25.0</td>\n",
              "    </tr>\n",
              "    <tr>\n",
              "      <th>3</th>\n",
              "      <td>8.0</td>\n",
              "      <td>40</td>\n",
              "      <td>24.2</td>\n",
              "      <td>50.0</td>\n",
              "    </tr>\n",
              "    <tr>\n",
              "      <th>4</th>\n",
              "      <td>4.5</td>\n",
              "      <td>15</td>\n",
              "      <td>10.5</td>\n",
              "      <td>12.9</td>\n",
              "    </tr>\n",
              "  </tbody>\n",
              "</table>\n",
              "</div>\n",
              "      <button class=\"colab-df-convert\" onclick=\"convertToInteractive('df-2e1823f5-e3a2-4f96-a7db-f90034c48f20')\"\n",
              "              title=\"Convert this dataframe to an interactive table.\"\n",
              "              style=\"display:none;\">\n",
              "        \n",
              "  <svg xmlns=\"http://www.w3.org/2000/svg\" height=\"24px\"viewBox=\"0 0 24 24\"\n",
              "       width=\"24px\">\n",
              "    <path d=\"M0 0h24v24H0V0z\" fill=\"none\"/>\n",
              "    <path d=\"M18.56 5.44l.94 2.06.94-2.06 2.06-.94-2.06-.94-.94-2.06-.94 2.06-2.06.94zm-11 1L8.5 8.5l.94-2.06 2.06-.94-2.06-.94L8.5 2.5l-.94 2.06-2.06.94zm10 10l.94 2.06.94-2.06 2.06-.94-2.06-.94-.94-2.06-.94 2.06-2.06.94z\"/><path d=\"M17.41 7.96l-1.37-1.37c-.4-.4-.92-.59-1.43-.59-.52 0-1.04.2-1.43.59L10.3 9.45l-7.72 7.72c-.78.78-.78 2.05 0 2.83L4 21.41c.39.39.9.59 1.41.59.51 0 1.02-.2 1.41-.59l7.78-7.78 2.81-2.81c.8-.78.8-2.07 0-2.86zM5.41 20L4 18.59l7.72-7.72 1.47 1.35L5.41 20z\"/>\n",
              "  </svg>\n",
              "      </button>\n",
              "      \n",
              "  <style>\n",
              "    .colab-df-container {\n",
              "      display:flex;\n",
              "      flex-wrap:wrap;\n",
              "      gap: 12px;\n",
              "    }\n",
              "\n",
              "    .colab-df-convert {\n",
              "      background-color: #E8F0FE;\n",
              "      border: none;\n",
              "      border-radius: 50%;\n",
              "      cursor: pointer;\n",
              "      display: none;\n",
              "      fill: #1967D2;\n",
              "      height: 32px;\n",
              "      padding: 0 0 0 0;\n",
              "      width: 32px;\n",
              "    }\n",
              "\n",
              "    .colab-df-convert:hover {\n",
              "      background-color: #E2EBFA;\n",
              "      box-shadow: 0px 1px 2px rgba(60, 64, 67, 0.3), 0px 1px 3px 1px rgba(60, 64, 67, 0.15);\n",
              "      fill: #174EA6;\n",
              "    }\n",
              "\n",
              "    [theme=dark] .colab-df-convert {\n",
              "      background-color: #3B4455;\n",
              "      fill: #D2E3FC;\n",
              "    }\n",
              "\n",
              "    [theme=dark] .colab-df-convert:hover {\n",
              "      background-color: #434B5C;\n",
              "      box-shadow: 0px 1px 3px 1px rgba(0, 0, 0, 0.15);\n",
              "      filter: drop-shadow(0px 1px 2px rgba(0, 0, 0, 0.3));\n",
              "      fill: #FFFFFF;\n",
              "    }\n",
              "  </style>\n",
              "\n",
              "      <script>\n",
              "        const buttonEl =\n",
              "          document.querySelector('#df-2e1823f5-e3a2-4f96-a7db-f90034c48f20 button.colab-df-convert');\n",
              "        buttonEl.style.display =\n",
              "          google.colab.kernel.accessAllowed ? 'block' : 'none';\n",
              "\n",
              "        async function convertToInteractive(key) {\n",
              "          const element = document.querySelector('#df-2e1823f5-e3a2-4f96-a7db-f90034c48f20');\n",
              "          const dataTable =\n",
              "            await google.colab.kernel.invokeFunction('convertToInteractive',\n",
              "                                                     [key], {});\n",
              "          if (!dataTable) return;\n",
              "\n",
              "          const docLinkHtml = 'Like what you see? Visit the ' +\n",
              "            '<a target=\"_blank\" href=https://colab.research.google.com/notebooks/data_table.ipynb>data table notebook</a>'\n",
              "            + ' to learn more about interactive tables.';\n",
              "          element.innerHTML = '';\n",
              "          dataTable['output_type'] = 'display_data';\n",
              "          await google.colab.output.renderOutput(dataTable, element);\n",
              "          const docLink = document.createElement('div');\n",
              "          docLink.innerHTML = docLinkHtml;\n",
              "          element.appendChild(docLink);\n",
              "        }\n",
              "      </script>\n",
              "    </div>\n",
              "  </div>\n",
              "  "
            ]
          },
          "metadata": {},
          "execution_count": 74
        }
      ]
    },
    {
      "cell_type": "markdown",
      "source": [
        "Utilisation des methodes deja implementes"
      ],
      "metadata": {
        "id": "POu3pMnCVsQj"
      }
    },
    {
      "cell_type": "markdown",
      "source": [
        "\n",
        "\n",
        "1.   **TOPSIS**\n"
      ],
      "metadata": {
        "id": "sdo8QU3RVvbb"
      }
    },
    {
      "cell_type": "code",
      "source": [
        "topsis_data4 = data_4.copy()"
      ],
      "metadata": {
        "id": "pAr9rTTDVynb"
      },
      "execution_count": null,
      "outputs": []
    },
    {
      "cell_type": "code",
      "source": [
        "topsis(topsis_data4, weights_2, types_2)"
      ],
      "metadata": {
        "id": "9TjYPxcxV35B"
      },
      "execution_count": null,
      "outputs": []
    },
    {
      "cell_type": "code",
      "source": [
        "topsis_data4"
      ],
      "metadata": {
        "colab": {
          "base_uri": "https://localhost:8080/",
          "height": 250
        },
        "id": "TGKSBuLsV9_0",
        "outputId": "65931534-a70d-44a1-ace4-86787cf026a1"
      },
      "execution_count": null,
      "outputs": [
        {
          "output_type": "execute_result",
          "data": {
            "text/plain": [
              "   battery charging 100%  battery charging 80%  battery capacity     price  \\\n",
              "0                   10.0              0.075088          0.076129  0.083015   \n",
              "1                   10.0              0.075088          0.076129  0.062261   \n",
              "2                    4.0              0.018772          0.018455  0.017295   \n",
              "3                    8.0              0.025029          0.018609  0.034590   \n",
              "4                    4.5              0.009386          0.008074  0.008924   \n",
              "\n",
              "   distance positive  distance negative  Topsis Score  rank  \n",
              "0           0.094594           0.074091      0.439226   4.0  \n",
              "1           0.096844           0.053337      0.355152   5.0  \n",
              "2           0.067194           0.081041      0.546708   3.0  \n",
              "3           0.051969           0.080455      0.607559   1.0  \n",
              "4           0.074091           0.094594      0.560774   2.0  "
            ],
            "text/html": [
              "\n",
              "  <div id=\"df-173ec9f8-ff90-46b0-bdb8-86f2961c5919\">\n",
              "    <div class=\"colab-df-container\">\n",
              "      <div>\n",
              "<style scoped>\n",
              "    .dataframe tbody tr th:only-of-type {\n",
              "        vertical-align: middle;\n",
              "    }\n",
              "\n",
              "    .dataframe tbody tr th {\n",
              "        vertical-align: top;\n",
              "    }\n",
              "\n",
              "    .dataframe thead th {\n",
              "        text-align: right;\n",
              "    }\n",
              "</style>\n",
              "<table border=\"1\" class=\"dataframe\">\n",
              "  <thead>\n",
              "    <tr style=\"text-align: right;\">\n",
              "      <th></th>\n",
              "      <th>battery charging 100%</th>\n",
              "      <th>battery charging 80%</th>\n",
              "      <th>battery capacity</th>\n",
              "      <th>price</th>\n",
              "      <th>distance positive</th>\n",
              "      <th>distance negative</th>\n",
              "      <th>Topsis Score</th>\n",
              "      <th>rank</th>\n",
              "    </tr>\n",
              "  </thead>\n",
              "  <tbody>\n",
              "    <tr>\n",
              "      <th>0</th>\n",
              "      <td>10.0</td>\n",
              "      <td>0.075088</td>\n",
              "      <td>0.076129</td>\n",
              "      <td>0.083015</td>\n",
              "      <td>0.094594</td>\n",
              "      <td>0.074091</td>\n",
              "      <td>0.439226</td>\n",
              "      <td>4.0</td>\n",
              "    </tr>\n",
              "    <tr>\n",
              "      <th>1</th>\n",
              "      <td>10.0</td>\n",
              "      <td>0.075088</td>\n",
              "      <td>0.076129</td>\n",
              "      <td>0.062261</td>\n",
              "      <td>0.096844</td>\n",
              "      <td>0.053337</td>\n",
              "      <td>0.355152</td>\n",
              "      <td>5.0</td>\n",
              "    </tr>\n",
              "    <tr>\n",
              "      <th>2</th>\n",
              "      <td>4.0</td>\n",
              "      <td>0.018772</td>\n",
              "      <td>0.018455</td>\n",
              "      <td>0.017295</td>\n",
              "      <td>0.067194</td>\n",
              "      <td>0.081041</td>\n",
              "      <td>0.546708</td>\n",
              "      <td>3.0</td>\n",
              "    </tr>\n",
              "    <tr>\n",
              "      <th>3</th>\n",
              "      <td>8.0</td>\n",
              "      <td>0.025029</td>\n",
              "      <td>0.018609</td>\n",
              "      <td>0.034590</td>\n",
              "      <td>0.051969</td>\n",
              "      <td>0.080455</td>\n",
              "      <td>0.607559</td>\n",
              "      <td>1.0</td>\n",
              "    </tr>\n",
              "    <tr>\n",
              "      <th>4</th>\n",
              "      <td>4.5</td>\n",
              "      <td>0.009386</td>\n",
              "      <td>0.008074</td>\n",
              "      <td>0.008924</td>\n",
              "      <td>0.074091</td>\n",
              "      <td>0.094594</td>\n",
              "      <td>0.560774</td>\n",
              "      <td>2.0</td>\n",
              "    </tr>\n",
              "  </tbody>\n",
              "</table>\n",
              "</div>\n",
              "      <button class=\"colab-df-convert\" onclick=\"convertToInteractive('df-173ec9f8-ff90-46b0-bdb8-86f2961c5919')\"\n",
              "              title=\"Convert this dataframe to an interactive table.\"\n",
              "              style=\"display:none;\">\n",
              "        \n",
              "  <svg xmlns=\"http://www.w3.org/2000/svg\" height=\"24px\"viewBox=\"0 0 24 24\"\n",
              "       width=\"24px\">\n",
              "    <path d=\"M0 0h24v24H0V0z\" fill=\"none\"/>\n",
              "    <path d=\"M18.56 5.44l.94 2.06.94-2.06 2.06-.94-2.06-.94-.94-2.06-.94 2.06-2.06.94zm-11 1L8.5 8.5l.94-2.06 2.06-.94-2.06-.94L8.5 2.5l-.94 2.06-2.06.94zm10 10l.94 2.06.94-2.06 2.06-.94-2.06-.94-.94-2.06-.94 2.06-2.06.94z\"/><path d=\"M17.41 7.96l-1.37-1.37c-.4-.4-.92-.59-1.43-.59-.52 0-1.04.2-1.43.59L10.3 9.45l-7.72 7.72c-.78.78-.78 2.05 0 2.83L4 21.41c.39.39.9.59 1.41.59.51 0 1.02-.2 1.41-.59l7.78-7.78 2.81-2.81c.8-.78.8-2.07 0-2.86zM5.41 20L4 18.59l7.72-7.72 1.47 1.35L5.41 20z\"/>\n",
              "  </svg>\n",
              "      </button>\n",
              "      \n",
              "  <style>\n",
              "    .colab-df-container {\n",
              "      display:flex;\n",
              "      flex-wrap:wrap;\n",
              "      gap: 12px;\n",
              "    }\n",
              "\n",
              "    .colab-df-convert {\n",
              "      background-color: #E8F0FE;\n",
              "      border: none;\n",
              "      border-radius: 50%;\n",
              "      cursor: pointer;\n",
              "      display: none;\n",
              "      fill: #1967D2;\n",
              "      height: 32px;\n",
              "      padding: 0 0 0 0;\n",
              "      width: 32px;\n",
              "    }\n",
              "\n",
              "    .colab-df-convert:hover {\n",
              "      background-color: #E2EBFA;\n",
              "      box-shadow: 0px 1px 2px rgba(60, 64, 67, 0.3), 0px 1px 3px 1px rgba(60, 64, 67, 0.15);\n",
              "      fill: #174EA6;\n",
              "    }\n",
              "\n",
              "    [theme=dark] .colab-df-convert {\n",
              "      background-color: #3B4455;\n",
              "      fill: #D2E3FC;\n",
              "    }\n",
              "\n",
              "    [theme=dark] .colab-df-convert:hover {\n",
              "      background-color: #434B5C;\n",
              "      box-shadow: 0px 1px 3px 1px rgba(0, 0, 0, 0.15);\n",
              "      filter: drop-shadow(0px 1px 2px rgba(0, 0, 0, 0.3));\n",
              "      fill: #FFFFFF;\n",
              "    }\n",
              "  </style>\n",
              "\n",
              "      <script>\n",
              "        const buttonEl =\n",
              "          document.querySelector('#df-173ec9f8-ff90-46b0-bdb8-86f2961c5919 button.colab-df-convert');\n",
              "        buttonEl.style.display =\n",
              "          google.colab.kernel.accessAllowed ? 'block' : 'none';\n",
              "\n",
              "        async function convertToInteractive(key) {\n",
              "          const element = document.querySelector('#df-173ec9f8-ff90-46b0-bdb8-86f2961c5919');\n",
              "          const dataTable =\n",
              "            await google.colab.kernel.invokeFunction('convertToInteractive',\n",
              "                                                     [key], {});\n",
              "          if (!dataTable) return;\n",
              "\n",
              "          const docLinkHtml = 'Like what you see? Visit the ' +\n",
              "            '<a target=\"_blank\" href=https://colab.research.google.com/notebooks/data_table.ipynb>data table notebook</a>'\n",
              "            + ' to learn more about interactive tables.';\n",
              "          element.innerHTML = '';\n",
              "          dataTable['output_type'] = 'display_data';\n",
              "          await google.colab.output.renderOutput(dataTable, element);\n",
              "          const docLink = document.createElement('div');\n",
              "          docLink.innerHTML = docLinkHtml;\n",
              "          element.appendChild(docLink);\n",
              "        }\n",
              "      </script>\n",
              "    </div>\n",
              "  </div>\n",
              "  "
            ]
          },
          "metadata": {},
          "execution_count": 77
        }
      ]
    },
    {
      "cell_type": "markdown",
      "source": [
        "\n",
        "\n",
        "2.   **VIKOR**\n",
        "\n"
      ],
      "metadata": {
        "id": "05vzgfNtWA95"
      }
    },
    {
      "cell_type": "code",
      "source": [
        "vikor_data4 = data_4.copy()"
      ],
      "metadata": {
        "id": "Ytd9rTMmWEO5"
      },
      "execution_count": null,
      "outputs": []
    },
    {
      "cell_type": "code",
      "source": [
        "vikor(vikor_data4, weights_2, types_2)"
      ],
      "metadata": {
        "id": "ZeTUvEBcWMNY"
      },
      "execution_count": null,
      "outputs": []
    },
    {
      "cell_type": "code",
      "source": [
        "vikor_data4"
      ],
      "metadata": {
        "colab": {
          "base_uri": "https://localhost:8080/",
          "height": 206
        },
        "id": "OwRSUlr2WakN",
        "outputId": "ee7f32f0-2985-4b49-8938-0ef513c70c79"
      },
      "execution_count": null,
      "outputs": [
        {
          "output_type": "execute_result",
          "data": {
            "text/plain": [
              "   battery charging 100%  battery charging 80%  battery capacity  price  \\\n",
              "0                   10.0                   120              99.0  120.0   \n",
              "1                   10.0                   120              99.0   90.0   \n",
              "2                    4.0                    30              24.0   25.0   \n",
              "3                    8.0                    40              24.2   50.0   \n",
              "4                    4.5                    15              10.5   12.9   \n",
              "\n",
              "       R      S  VIKOR index  rank  \n",
              "0  0.111  0.333        1.000   1.0  \n",
              "1  0.111  0.302        0.909   2.0  \n",
              "2  0.094  0.123        0.009   5.0  \n",
              "3  0.094  0.233        0.332   4.0  \n",
              "4  0.111  0.120        0.375   3.0  "
            ],
            "text/html": [
              "\n",
              "  <div id=\"df-dc96afff-8d48-4918-a57a-a404d5f437b4\">\n",
              "    <div class=\"colab-df-container\">\n",
              "      <div>\n",
              "<style scoped>\n",
              "    .dataframe tbody tr th:only-of-type {\n",
              "        vertical-align: middle;\n",
              "    }\n",
              "\n",
              "    .dataframe tbody tr th {\n",
              "        vertical-align: top;\n",
              "    }\n",
              "\n",
              "    .dataframe thead th {\n",
              "        text-align: right;\n",
              "    }\n",
              "</style>\n",
              "<table border=\"1\" class=\"dataframe\">\n",
              "  <thead>\n",
              "    <tr style=\"text-align: right;\">\n",
              "      <th></th>\n",
              "      <th>battery charging 100%</th>\n",
              "      <th>battery charging 80%</th>\n",
              "      <th>battery capacity</th>\n",
              "      <th>price</th>\n",
              "      <th>R</th>\n",
              "      <th>S</th>\n",
              "      <th>VIKOR index</th>\n",
              "      <th>rank</th>\n",
              "    </tr>\n",
              "  </thead>\n",
              "  <tbody>\n",
              "    <tr>\n",
              "      <th>0</th>\n",
              "      <td>10.0</td>\n",
              "      <td>120</td>\n",
              "      <td>99.0</td>\n",
              "      <td>120.0</td>\n",
              "      <td>0.111</td>\n",
              "      <td>0.333</td>\n",
              "      <td>1.000</td>\n",
              "      <td>1.0</td>\n",
              "    </tr>\n",
              "    <tr>\n",
              "      <th>1</th>\n",
              "      <td>10.0</td>\n",
              "      <td>120</td>\n",
              "      <td>99.0</td>\n",
              "      <td>90.0</td>\n",
              "      <td>0.111</td>\n",
              "      <td>0.302</td>\n",
              "      <td>0.909</td>\n",
              "      <td>2.0</td>\n",
              "    </tr>\n",
              "    <tr>\n",
              "      <th>2</th>\n",
              "      <td>4.0</td>\n",
              "      <td>30</td>\n",
              "      <td>24.0</td>\n",
              "      <td>25.0</td>\n",
              "      <td>0.094</td>\n",
              "      <td>0.123</td>\n",
              "      <td>0.009</td>\n",
              "      <td>5.0</td>\n",
              "    </tr>\n",
              "    <tr>\n",
              "      <th>3</th>\n",
              "      <td>8.0</td>\n",
              "      <td>40</td>\n",
              "      <td>24.2</td>\n",
              "      <td>50.0</td>\n",
              "      <td>0.094</td>\n",
              "      <td>0.233</td>\n",
              "      <td>0.332</td>\n",
              "      <td>4.0</td>\n",
              "    </tr>\n",
              "    <tr>\n",
              "      <th>4</th>\n",
              "      <td>4.5</td>\n",
              "      <td>15</td>\n",
              "      <td>10.5</td>\n",
              "      <td>12.9</td>\n",
              "      <td>0.111</td>\n",
              "      <td>0.120</td>\n",
              "      <td>0.375</td>\n",
              "      <td>3.0</td>\n",
              "    </tr>\n",
              "  </tbody>\n",
              "</table>\n",
              "</div>\n",
              "      <button class=\"colab-df-convert\" onclick=\"convertToInteractive('df-dc96afff-8d48-4918-a57a-a404d5f437b4')\"\n",
              "              title=\"Convert this dataframe to an interactive table.\"\n",
              "              style=\"display:none;\">\n",
              "        \n",
              "  <svg xmlns=\"http://www.w3.org/2000/svg\" height=\"24px\"viewBox=\"0 0 24 24\"\n",
              "       width=\"24px\">\n",
              "    <path d=\"M0 0h24v24H0V0z\" fill=\"none\"/>\n",
              "    <path d=\"M18.56 5.44l.94 2.06.94-2.06 2.06-.94-2.06-.94-.94-2.06-.94 2.06-2.06.94zm-11 1L8.5 8.5l.94-2.06 2.06-.94-2.06-.94L8.5 2.5l-.94 2.06-2.06.94zm10 10l.94 2.06.94-2.06 2.06-.94-2.06-.94-.94-2.06-.94 2.06-2.06.94z\"/><path d=\"M17.41 7.96l-1.37-1.37c-.4-.4-.92-.59-1.43-.59-.52 0-1.04.2-1.43.59L10.3 9.45l-7.72 7.72c-.78.78-.78 2.05 0 2.83L4 21.41c.39.39.9.59 1.41.59.51 0 1.02-.2 1.41-.59l7.78-7.78 2.81-2.81c.8-.78.8-2.07 0-2.86zM5.41 20L4 18.59l7.72-7.72 1.47 1.35L5.41 20z\"/>\n",
              "  </svg>\n",
              "      </button>\n",
              "      \n",
              "  <style>\n",
              "    .colab-df-container {\n",
              "      display:flex;\n",
              "      flex-wrap:wrap;\n",
              "      gap: 12px;\n",
              "    }\n",
              "\n",
              "    .colab-df-convert {\n",
              "      background-color: #E8F0FE;\n",
              "      border: none;\n",
              "      border-radius: 50%;\n",
              "      cursor: pointer;\n",
              "      display: none;\n",
              "      fill: #1967D2;\n",
              "      height: 32px;\n",
              "      padding: 0 0 0 0;\n",
              "      width: 32px;\n",
              "    }\n",
              "\n",
              "    .colab-df-convert:hover {\n",
              "      background-color: #E2EBFA;\n",
              "      box-shadow: 0px 1px 2px rgba(60, 64, 67, 0.3), 0px 1px 3px 1px rgba(60, 64, 67, 0.15);\n",
              "      fill: #174EA6;\n",
              "    }\n",
              "\n",
              "    [theme=dark] .colab-df-convert {\n",
              "      background-color: #3B4455;\n",
              "      fill: #D2E3FC;\n",
              "    }\n",
              "\n",
              "    [theme=dark] .colab-df-convert:hover {\n",
              "      background-color: #434B5C;\n",
              "      box-shadow: 0px 1px 3px 1px rgba(0, 0, 0, 0.15);\n",
              "      filter: drop-shadow(0px 1px 2px rgba(0, 0, 0, 0.3));\n",
              "      fill: #FFFFFF;\n",
              "    }\n",
              "  </style>\n",
              "\n",
              "      <script>\n",
              "        const buttonEl =\n",
              "          document.querySelector('#df-dc96afff-8d48-4918-a57a-a404d5f437b4 button.colab-df-convert');\n",
              "        buttonEl.style.display =\n",
              "          google.colab.kernel.accessAllowed ? 'block' : 'none';\n",
              "\n",
              "        async function convertToInteractive(key) {\n",
              "          const element = document.querySelector('#df-dc96afff-8d48-4918-a57a-a404d5f437b4');\n",
              "          const dataTable =\n",
              "            await google.colab.kernel.invokeFunction('convertToInteractive',\n",
              "                                                     [key], {});\n",
              "          if (!dataTable) return;\n",
              "\n",
              "          const docLinkHtml = 'Like what you see? Visit the ' +\n",
              "            '<a target=\"_blank\" href=https://colab.research.google.com/notebooks/data_table.ipynb>data table notebook</a>'\n",
              "            + ' to learn more about interactive tables.';\n",
              "          element.innerHTML = '';\n",
              "          dataTable['output_type'] = 'display_data';\n",
              "          await google.colab.output.renderOutput(dataTable, element);\n",
              "          const docLink = document.createElement('div');\n",
              "          docLink.innerHTML = docLinkHtml;\n",
              "          element.appendChild(docLink);\n",
              "        }\n",
              "      </script>\n",
              "    </div>\n",
              "  </div>\n",
              "  "
            ]
          },
          "metadata": {},
          "execution_count": 80
        }
      ]
    },
    {
      "cell_type": "markdown",
      "source": [
        "\n",
        "\n",
        "3.   **WPM**\n",
        "\n"
      ],
      "metadata": {
        "id": "wMbJn2yiWekp"
      }
    },
    {
      "cell_type": "code",
      "source": [
        "wpm_data4 = data_4.copy()"
      ],
      "metadata": {
        "id": "xR7Dol3DWiaX"
      },
      "execution_count": null,
      "outputs": []
    },
    {
      "cell_type": "code",
      "source": [
        "wpm(wpm_data4, weights_2, types_2)"
      ],
      "metadata": {
        "id": "Z8J8fqI9Wy8C"
      },
      "execution_count": null,
      "outputs": []
    },
    {
      "cell_type": "code",
      "source": [
        "wpm_data4"
      ],
      "metadata": {
        "colab": {
          "base_uri": "https://localhost:8080/",
          "height": 206
        },
        "id": "X0sKVMgRW4eM",
        "outputId": "07d41f7f-257f-4538-9b71-5590713ba155"
      },
      "execution_count": null,
      "outputs": [
        {
          "output_type": "execute_result",
          "data": {
            "text/plain": [
              "   battery charging 100%  battery charging 80%  battery capacity     price  \\\n",
              "0               0.903210              0.793719          1.000000  0.780530   \n",
              "1               0.903210              0.793719          1.000000  0.805880   \n",
              "2               1.000000              0.925882          0.854331  0.929128   \n",
              "3               0.925882              0.896757          0.855120  0.860262   \n",
              "4               0.987000              1.000000          0.779362  1.000000   \n",
              "\n",
              "   wpm score  rank  \n",
              "0   0.559558   5.0  \n",
              "1   0.577731   4.0  \n",
              "2   0.734949   2.0  \n",
              "3   0.610785   3.0  \n",
              "4   0.769230   1.0  "
            ],
            "text/html": [
              "\n",
              "  <div id=\"df-74ad313c-fa75-4e5c-be0b-3786b970e4f8\">\n",
              "    <div class=\"colab-df-container\">\n",
              "      <div>\n",
              "<style scoped>\n",
              "    .dataframe tbody tr th:only-of-type {\n",
              "        vertical-align: middle;\n",
              "    }\n",
              "\n",
              "    .dataframe tbody tr th {\n",
              "        vertical-align: top;\n",
              "    }\n",
              "\n",
              "    .dataframe thead th {\n",
              "        text-align: right;\n",
              "    }\n",
              "</style>\n",
              "<table border=\"1\" class=\"dataframe\">\n",
              "  <thead>\n",
              "    <tr style=\"text-align: right;\">\n",
              "      <th></th>\n",
              "      <th>battery charging 100%</th>\n",
              "      <th>battery charging 80%</th>\n",
              "      <th>battery capacity</th>\n",
              "      <th>price</th>\n",
              "      <th>wpm score</th>\n",
              "      <th>rank</th>\n",
              "    </tr>\n",
              "  </thead>\n",
              "  <tbody>\n",
              "    <tr>\n",
              "      <th>0</th>\n",
              "      <td>0.903210</td>\n",
              "      <td>0.793719</td>\n",
              "      <td>1.000000</td>\n",
              "      <td>0.780530</td>\n",
              "      <td>0.559558</td>\n",
              "      <td>5.0</td>\n",
              "    </tr>\n",
              "    <tr>\n",
              "      <th>1</th>\n",
              "      <td>0.903210</td>\n",
              "      <td>0.793719</td>\n",
              "      <td>1.000000</td>\n",
              "      <td>0.805880</td>\n",
              "      <td>0.577731</td>\n",
              "      <td>4.0</td>\n",
              "    </tr>\n",
              "    <tr>\n",
              "      <th>2</th>\n",
              "      <td>1.000000</td>\n",
              "      <td>0.925882</td>\n",
              "      <td>0.854331</td>\n",
              "      <td>0.929128</td>\n",
              "      <td>0.734949</td>\n",
              "      <td>2.0</td>\n",
              "    </tr>\n",
              "    <tr>\n",
              "      <th>3</th>\n",
              "      <td>0.925882</td>\n",
              "      <td>0.896757</td>\n",
              "      <td>0.855120</td>\n",
              "      <td>0.860262</td>\n",
              "      <td>0.610785</td>\n",
              "      <td>3.0</td>\n",
              "    </tr>\n",
              "    <tr>\n",
              "      <th>4</th>\n",
              "      <td>0.987000</td>\n",
              "      <td>1.000000</td>\n",
              "      <td>0.779362</td>\n",
              "      <td>1.000000</td>\n",
              "      <td>0.769230</td>\n",
              "      <td>1.0</td>\n",
              "    </tr>\n",
              "  </tbody>\n",
              "</table>\n",
              "</div>\n",
              "      <button class=\"colab-df-convert\" onclick=\"convertToInteractive('df-74ad313c-fa75-4e5c-be0b-3786b970e4f8')\"\n",
              "              title=\"Convert this dataframe to an interactive table.\"\n",
              "              style=\"display:none;\">\n",
              "        \n",
              "  <svg xmlns=\"http://www.w3.org/2000/svg\" height=\"24px\"viewBox=\"0 0 24 24\"\n",
              "       width=\"24px\">\n",
              "    <path d=\"M0 0h24v24H0V0z\" fill=\"none\"/>\n",
              "    <path d=\"M18.56 5.44l.94 2.06.94-2.06 2.06-.94-2.06-.94-.94-2.06-.94 2.06-2.06.94zm-11 1L8.5 8.5l.94-2.06 2.06-.94-2.06-.94L8.5 2.5l-.94 2.06-2.06.94zm10 10l.94 2.06.94-2.06 2.06-.94-2.06-.94-.94-2.06-.94 2.06-2.06.94z\"/><path d=\"M17.41 7.96l-1.37-1.37c-.4-.4-.92-.59-1.43-.59-.52 0-1.04.2-1.43.59L10.3 9.45l-7.72 7.72c-.78.78-.78 2.05 0 2.83L4 21.41c.39.39.9.59 1.41.59.51 0 1.02-.2 1.41-.59l7.78-7.78 2.81-2.81c.8-.78.8-2.07 0-2.86zM5.41 20L4 18.59l7.72-7.72 1.47 1.35L5.41 20z\"/>\n",
              "  </svg>\n",
              "      </button>\n",
              "      \n",
              "  <style>\n",
              "    .colab-df-container {\n",
              "      display:flex;\n",
              "      flex-wrap:wrap;\n",
              "      gap: 12px;\n",
              "    }\n",
              "\n",
              "    .colab-df-convert {\n",
              "      background-color: #E8F0FE;\n",
              "      border: none;\n",
              "      border-radius: 50%;\n",
              "      cursor: pointer;\n",
              "      display: none;\n",
              "      fill: #1967D2;\n",
              "      height: 32px;\n",
              "      padding: 0 0 0 0;\n",
              "      width: 32px;\n",
              "    }\n",
              "\n",
              "    .colab-df-convert:hover {\n",
              "      background-color: #E2EBFA;\n",
              "      box-shadow: 0px 1px 2px rgba(60, 64, 67, 0.3), 0px 1px 3px 1px rgba(60, 64, 67, 0.15);\n",
              "      fill: #174EA6;\n",
              "    }\n",
              "\n",
              "    [theme=dark] .colab-df-convert {\n",
              "      background-color: #3B4455;\n",
              "      fill: #D2E3FC;\n",
              "    }\n",
              "\n",
              "    [theme=dark] .colab-df-convert:hover {\n",
              "      background-color: #434B5C;\n",
              "      box-shadow: 0px 1px 3px 1px rgba(0, 0, 0, 0.15);\n",
              "      filter: drop-shadow(0px 1px 2px rgba(0, 0, 0, 0.3));\n",
              "      fill: #FFFFFF;\n",
              "    }\n",
              "  </style>\n",
              "\n",
              "      <script>\n",
              "        const buttonEl =\n",
              "          document.querySelector('#df-74ad313c-fa75-4e5c-be0b-3786b970e4f8 button.colab-df-convert');\n",
              "        buttonEl.style.display =\n",
              "          google.colab.kernel.accessAllowed ? 'block' : 'none';\n",
              "\n",
              "        async function convertToInteractive(key) {\n",
              "          const element = document.querySelector('#df-74ad313c-fa75-4e5c-be0b-3786b970e4f8');\n",
              "          const dataTable =\n",
              "            await google.colab.kernel.invokeFunction('convertToInteractive',\n",
              "                                                     [key], {});\n",
              "          if (!dataTable) return;\n",
              "\n",
              "          const docLinkHtml = 'Like what you see? Visit the ' +\n",
              "            '<a target=\"_blank\" href=https://colab.research.google.com/notebooks/data_table.ipynb>data table notebook</a>'\n",
              "            + ' to learn more about interactive tables.';\n",
              "          element.innerHTML = '';\n",
              "          dataTable['output_type'] = 'display_data';\n",
              "          await google.colab.output.renderOutput(dataTable, element);\n",
              "          const docLink = document.createElement('div');\n",
              "          docLink.innerHTML = docLinkHtml;\n",
              "          element.appendChild(docLink);\n",
              "        }\n",
              "      </script>\n",
              "    </div>\n",
              "  </div>\n",
              "  "
            ]
          },
          "metadata": {},
          "execution_count": 83
        }
      ]
    },
    {
      "cell_type": "markdown",
      "source": [
        "**Comparaison des methodes**"
      ],
      "metadata": {
        "id": "-TqS8BE_Xv-Q"
      }
    },
    {
      "cell_type": "code",
      "source": [
        "a3 = [f'A{i+1}' for i in range(5)]\n",
        "b4 = topsis_data4['rank'].to_numpy()\n",
        "c4 = vikor_data4['rank'].to_numpy()\n",
        "d4 = wpm_data4['rank'].to_numpy()\n",
        "t_d4 = Table([a3, b4, c4, d4], names=('alternatives', 'TOPSIS', 'VIKOR', 'WPM'))\n",
        "t_d4"
      ],
      "metadata": {
        "colab": {
          "base_uri": "https://localhost:8080/",
          "height": 186
        },
        "id": "rVc-oIB1XzuG",
        "outputId": "6216f04e-2d63-4fee-983a-43d6797755d8"
      },
      "execution_count": null,
      "outputs": [
        {
          "output_type": "execute_result",
          "data": {
            "text/plain": [
              "<Table length=5>\n",
              "alternatives  TOPSIS  VIKOR    WPM  \n",
              "    str2     float64 float64 float64\n",
              "------------ ------- ------- -------\n",
              "          A1     4.0     1.0     5.0\n",
              "          A2     5.0     2.0     4.0\n",
              "          A3     3.0     5.0     2.0\n",
              "          A4     1.0     4.0     3.0\n",
              "          A5     2.0     3.0     1.0"
            ],
            "text/html": [
              "<div><i>Table length=5</i>\n",
              "<table id=\"table139943808855952\" class=\"table-striped table-bordered table-condensed\">\n",
              "<thead><tr><th>alternatives</th><th>TOPSIS</th><th>VIKOR</th><th>WPM</th></tr></thead>\n",
              "<thead><tr><th>str2</th><th>float64</th><th>float64</th><th>float64</th></tr></thead>\n",
              "<tr><td>A1</td><td>4.0</td><td>1.0</td><td>5.0</td></tr>\n",
              "<tr><td>A2</td><td>5.0</td><td>2.0</td><td>4.0</td></tr>\n",
              "<tr><td>A3</td><td>3.0</td><td>5.0</td><td>2.0</td></tr>\n",
              "<tr><td>A4</td><td>1.0</td><td>4.0</td><td>3.0</td></tr>\n",
              "<tr><td>A5</td><td>2.0</td><td>3.0</td><td>1.0</td></tr>\n",
              "</table></div>"
            ]
          },
          "metadata": {},
          "execution_count": 84
        }
      ]
    },
    {
      "cell_type": "markdown",
      "source": [
        "Cosine similarity"
      ],
      "metadata": {
        "id": "tvUdgiadYgyD"
      }
    },
    {
      "cell_type": "code",
      "source": [
        "CS4 = []\n",
        "# topsis vs vikor\n",
        "CS4.append(np.dot(b4,c4)/(norm(b4)*norm(c4)))\n",
        "# topsis vs wpm\n",
        "CS4.append(np.dot(b4,d4)/(norm(b4)*norm(d4)))\n",
        "# vikor vs wpm\n",
        "CS4.append(np.dot(c4,d4)/(norm(c4)*norm(d4)))"
      ],
      "metadata": {
        "id": "tL7J472FYi5R"
      },
      "execution_count": null,
      "outputs": []
    },
    {
      "cell_type": "code",
      "source": [
        "a = ['topsis & vikor', 'topsis & wpm', 'vikor & wpm']\n",
        "t2_4 = Table([a, CS4], names=('methodes', 'Cosine similarity'))\n",
        "t2_4"
      ],
      "metadata": {
        "colab": {
          "base_uri": "https://localhost:8080/",
          "height": 143
        },
        "id": "hz7iqCfsZHEU",
        "outputId": "03f83b3e-4dd3-4286-d58b-ae24e05deecc"
      },
      "execution_count": null,
      "outputs": [
        {
          "output_type": "execute_result",
          "data": {
            "text/plain": [
              "<Table length=3>\n",
              "   methodes    Cosine similarity \n",
              "    str14           float64      \n",
              "-------------- ------------------\n",
              "topsis & vikor 0.7090909090909091\n",
              "  topsis & wpm 0.9272727272727272\n",
              "   vikor & wpm 0.6909090909090909"
            ],
            "text/html": [
              "<div><i>Table length=3</i>\n",
              "<table id=\"table139943808904592\" class=\"table-striped table-bordered table-condensed\">\n",
              "<thead><tr><th>methodes</th><th>Cosine similarity</th></tr></thead>\n",
              "<thead><tr><th>str14</th><th>float64</th></tr></thead>\n",
              "<tr><td>topsis &amp; vikor</td><td>0.7090909090909091</td></tr>\n",
              "<tr><td>topsis &amp; wpm</td><td>0.9272727272727272</td></tr>\n",
              "<tr><td>vikor &amp; wpm</td><td>0.6909090909090909</td></tr>\n",
              "</table></div>"
            ]
          },
          "metadata": {},
          "execution_count": 86
        }
      ]
    },
    {
      "cell_type": "markdown",
      "source": [
        "Calcul de coefficient de Kendall"
      ],
      "metadata": {
        "id": "U5qgVQPrbs6e"
      }
    },
    {
      "cell_type": "code",
      "source": [
        "Kt4 = []\n",
        "# topsis vs vikor\n",
        "Kt4.append(stats.kendalltau(b4, c4)[0])\n",
        "# topsis vs wpm\n",
        "Kt4.append(stats.kendalltau(b4, d4)[0])\n",
        "# vikor vs wpm\n",
        "Kt4.append(stats.kendalltau(c4, d4)[0])"
      ],
      "metadata": {
        "id": "4Dug7mVycVBn"
      },
      "execution_count": null,
      "outputs": []
    },
    {
      "cell_type": "code",
      "source": [
        "a = ['topsis & vikor', 'topsis & wpm', 'vikor & wpm']\n",
        "t3_4 = Table([a, Kt4], names=('methodes', 'Kendall’s tau'))\n",
        "t3_4"
      ],
      "metadata": {
        "colab": {
          "base_uri": "https://localhost:8080/",
          "height": 143
        },
        "id": "hyElXG93cl4P",
        "outputId": "5548a8da-6789-4299-b765-a3b75576c198"
      },
      "execution_count": null,
      "outputs": [
        {
          "output_type": "execute_result",
          "data": {
            "text/plain": [
              "<Table length=3>\n",
              "   methodes       Kendall’s tau    \n",
              "    str14            float64       \n",
              "-------------- --------------------\n",
              "topsis & vikor -0.39999999999999997\n",
              "  topsis & wpm  0.39999999999999997\n",
              "   vikor & wpm                 -0.6"
            ],
            "text/html": [
              "<div><i>Table length=3</i>\n",
              "<table id=\"table139943808841552\" class=\"table-striped table-bordered table-condensed\">\n",
              "<thead><tr><th>methodes</th><th>Kendall’s tau</th></tr></thead>\n",
              "<thead><tr><th>str14</th><th>float64</th></tr></thead>\n",
              "<tr><td>topsis &amp; vikor</td><td>-0.39999999999999997</td></tr>\n",
              "<tr><td>topsis &amp; wpm</td><td>0.39999999999999997</td></tr>\n",
              "<tr><td>vikor &amp; wpm</td><td>-0.6</td></tr>\n",
              "</table></div>"
            ]
          },
          "metadata": {},
          "execution_count": 88
        }
      ]
    },
    {
      "cell_type": "markdown",
      "source": [
        "Calcul de coefficient de Spearman"
      ],
      "metadata": {
        "id": "JfUD2fJqbxev"
      }
    },
    {
      "cell_type": "code",
      "source": [
        "Sr4 = []\n",
        "# topsis vs vikor\n",
        "Sr4.append(stats.spearmanr(b4, c4)[0])\n",
        "# topsis vs wpm\n",
        "Sr4.append(stats.spearmanr(b4, d4)[0])\n",
        "# vikor vs wpm\n",
        "Sr4.append(stats.spearmanr(c4, d4)[0])"
      ],
      "metadata": {
        "id": "cFXplJkHc1x5"
      },
      "execution_count": null,
      "outputs": []
    },
    {
      "cell_type": "code",
      "source": [
        "a = ['topsis & vikor', 'topsis & wpm', 'vikor & wpm']\n",
        "t4_4 = Table([a, Sr4], names=('methodes', 'Spearman’s rho'))\n",
        "t4_4"
      ],
      "metadata": {
        "id": "VUYvE1FadLhl",
        "outputId": "bc4cc27f-c7b7-4e0f-be54-87f3a4d99715",
        "colab": {
          "base_uri": "https://localhost:8080/",
          "height": 143
        }
      },
      "execution_count": null,
      "outputs": [
        {
          "output_type": "execute_result",
          "data": {
            "text/plain": [
              "<Table length=3>\n",
              "   methodes    Spearman’s rho\n",
              "    str14         float64    \n",
              "-------------- --------------\n",
              "topsis & vikor           -0.6\n",
              "  topsis & wpm            0.6\n",
              "   vikor & wpm           -0.7"
            ],
            "text/html": [
              "<div><i>Table length=3</i>\n",
              "<table id=\"table139943815543760\" class=\"table-striped table-bordered table-condensed\">\n",
              "<thead><tr><th>methodes</th><th>Spearman’s rho</th></tr></thead>\n",
              "<thead><tr><th>str14</th><th>float64</th></tr></thead>\n",
              "<tr><td>topsis &amp; vikor</td><td>-0.6</td></tr>\n",
              "<tr><td>topsis &amp; wpm</td><td>0.6</td></tr>\n",
              "<tr><td>vikor &amp; wpm</td><td>-0.7</td></tr>\n",
              "</table></div>"
            ]
          },
          "metadata": {},
          "execution_count": 90
        }
      ]
    },
    {
      "cell_type": "markdown",
      "source": [
        "Temps d'execution"
      ],
      "metadata": {
        "id": "naUQgY9ybbnL"
      }
    },
    {
      "cell_type": "code",
      "source": [
        "a_t4 = [0.51,0.311,0.339]\n",
        "b = ['topsis', 'vikor', 'wpm']\n",
        "plt.plot(b,a_t4)\n",
        "plt.ylabel('temps en secondes')\n",
        "plt.xlabel('methodes')\n",
        "plt.title(\"comparaison de temps d'execution\")\n",
        "plt.show()"
      ],
      "metadata": {
        "colab": {
          "base_uri": "https://localhost:8080/",
          "height": 295
        },
        "id": "NJ0ElQ4-bd5U",
        "outputId": "ec8246f4-376f-4b88-b32e-fa1110d4bf1c"
      },
      "execution_count": null,
      "outputs": [
        {
          "output_type": "display_data",
          "data": {
            "text/plain": [
              "<Figure size 432x288 with 1 Axes>"
            ],
            "image/png": "[encoded data removed]"
          },
          "metadata": {
            "needs_background": "light"
          }
        }
      ]
    }
  ]
}